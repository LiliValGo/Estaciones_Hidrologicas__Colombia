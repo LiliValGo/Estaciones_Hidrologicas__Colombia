{
  "nbformat": 4,
  "nbformat_minor": 0,
  "metadata": {
    "colab": {
      "name": "estaciones_hidrologicas.ipynb",
      "provenance": [],
      "collapsed_sections": [],
      "authorship_tag": "ABX9TyPBigxM4kUcdRzv3jrMa/7u",
      "include_colab_link": true
    },
    "kernelspec": {
      "name": "python3",
      "display_name": "Python 3"
    }
  },
  "cells": [
    {
      "cell_type": "markdown",
      "metadata": {
        "id": "view-in-github",
        "colab_type": "text"
      },
      "source": [
        "<a href=\"https://colab.research.google.com/github/LiliValGo/Estaciones_Hidrologicas__Colombia/blob/main/estaciones_hidrologicas.ipynb\" target=\"_parent\"><img src=\"https://colab.research.google.com/assets/colab-badge.svg\" alt=\"Open In Colab\"/></a>"
      ]
    },
    {
      "cell_type": "markdown",
      "metadata": {
        "id": "6T3DyxOO2gLF"
      },
      "source": [
        "# **Estaciones Hidrológicas de Colombia**"
      ]
    },
    {
      "cell_type": "markdown",
      "metadata": {
        "id": "5imEl7oqxXot"
      },
      "source": [
        "## **¿Qué hay en los datos?**\n",
        "\n",
        "En el Dataset encontrarás información sobre la categorización y estado de las estaciones hidrológicas ubicadas en el territorio nacional(Fuentes hidrícas monitoreadas). Tambien información de geolocalización (Departamento, Municipio y Coordenadas).Los datos fueron extraidos de [datos.gov.co](https://www.datos.gov.co/Ambiente-y-Desarrollo-Sostenible/estaciones-hidrologicas/bzh5-mste\n",
        ")"
      ]
    },
    {
      "cell_type": "markdown",
      "metadata": {
        "id": "lBhd-nxay6Al"
      },
      "source": [
        "## **¿Qué quiero saber?**\n",
        "\n",
        "1.   ¿Cuál es la cantidad de estaciones Activas, Suspendidas o En Mantenimiento? \n",
        "\n",
        "2.   ¿Cuál es el tipo de estación de mayor presencia en el territorio nacional?\n",
        "\n",
        "3. ¿Cuáles son los 5 principales departamentos con mayor número de estaciones? \n",
        "\n",
        "4. ¿Cuál es la fuente hídrica mayormente monitoreada?\n"
      ]
    },
    {
      "cell_type": "markdown",
      "metadata": {
        "id": "CPP16uVp4V_X"
      },
      "source": [
        "## **¿Qué debes saber?**\n",
        "\n",
        "**1. Tipos de Estaciones Hidrológicas**\n",
        "\n",
        "Conceptos extraidos de: \n",
        "[DEFINICIONES DEL CATÁLOGO NACIONAL DE ESTACIONES\n",
        " ](http://www.ideam.gov.co/documents/10182/557765/Definiciones+CNE.pdf/25e1cca5-ee47-4eaf-86c0-c4f5192a9937)\n",
        "\n",
        "\n",
        "> **Pluviométrica:** Es una estación meteorológica dotada de un pluviómetro o recipiente que permite medir la cantidad de lluvia caída entre dos observaciones consecutivas\n",
        "\n",
        "\n",
        "\n",
        "> **Limnimétrica:** Estación donde se mide el nivel de una corriente hídrica mediante un aparato (mira dividida en centímetros) que mide altura del agua, sin registrarla. Una persona toma el dato y lo registra en una libreta.\n",
        "\n",
        "\n",
        "\n",
        "> **Climatológica Ordinaria:** Es aquella en la cual se hacen observaciones de precipitación, temperatura del aire, temperaturas máxima y mínima a 2 metros y humedad primordialmente. Poseen muy poco instrumental registrador. Algunas llevan instrumentos adicionales tales como tanque de evaporación, heliógrafo y anemómetro.\n",
        "\n",
        "> **Limnigráfica:** Estación donde se mide el nivel de una corriente hídrica mediante un aparato registrador de nivel y que grafica una curva llamada limnigrama\n",
        "\n",
        "\n",
        "> **Pluviográfica:** Registra en forma mecánica y continua la precipitación, en una gráfica que permite conocer la cantidad, duración, intensidad y periodo en que ha ocurrido la lluvia. Actualmente se utilizan los pluviógrafos de registro diario\n",
        "\n",
        "> **Climatológica Principal:** Es aquella en la cual se hacen observaciones de visibilidad, tiempo atmosférico presente, cantidad, tipo y altura de las nubes, estado del suelo, precipitación, temperatura del aire, humedad, viento, radiación, solar, brillo solar, evaporación y fenómenos especiales\n",
        "\n",
        "> **Meteorológica especial:** Estación instalada para realizar seguimiento a un fenómeno o un fin específico, por ejemplo, las heladas\n",
        "\n",
        "> **Mareográfica:** Estaciones para observación del estado del mar. Mide nivel, temperatura y salinidad de las aguas marinas\n",
        "\n",
        "> **Agrometeorológica:** Determina las relaciones entre el tiempo y el clima, por una parte y la vida de las plantas y los animales, por la otra\n",
        "\n",
        "> **Sinóptica Secundaria:** Al igual que en la estación anterior, las observaciones se realizan a horas convenidas internacionalmente y los datos corresponden comúnmente a visibilidad, fenómenos especiales, tiempo atmosférico, nubosidad, estado del suelo, precipitación, temperatura del aire, humedad del aire y viento\n",
        "\n",
        "> **Sinóptica Principal:** Se efectúan observaciones de los principales elementos meteorológicos en horas convenidas internacionalmente. Los datos se toman horariamente y corresponden a nubosidad, dirección y velocidad de los vientos, presión atmosférica, temperatura del aire, tipo y altura de las nubes, visibilidad, fenómenos especiales, características de humedad, precipitación, temperaturas extremas, capas significativas de nubes, recorrido del viento y secuencia de los fenómenos atmosféricos\n",
        "\n",
        "> **Radiosonda:** Tiene por finalidad la observación de temperaturas, presión, humedad y viento en las capas altas de la atmósfera (tropósfera y baja estratósfera), mediante el rastreo, por medios electrónicos o de radar, de la trayectoria de un globo meteorológico que asciende libremente\n",
        "\n"
      ]
    },
    {
      "cell_type": "markdown",
      "metadata": {
        "id": "d5fCK4k0ceES"
      },
      "source": [
        "# **Importación de Librerias**"
      ]
    },
    {
      "cell_type": "code",
      "metadata": {
        "id": "eDW1MiNH4lJN"
      },
      "source": [
        "import pandas as pd\n",
        "import datetime\n",
        "import matplotlib.pyplot as plt\n",
        "import seaborn as sns\n",
        "import numpy as np\n",
        "import missingno as msno\n"
      ],
      "execution_count": 2,
      "outputs": []
    },
    {
      "cell_type": "markdown",
      "metadata": {
        "id": "wgXDoWcpcF28"
      },
      "source": [
        "#**Carga del Archivo CSV**"
      ]
    },
    {
      "cell_type": "code",
      "metadata": {
        "colab": {
          "base_uri": "https://localhost:8080/",
          "height": 423
        },
        "id": "oQpRLTRq3BY0",
        "outputId": "3037cdd3-a878-4359-a6ea-ff042666b2ca"
      },
      "source": [
        "\n",
        "centro_monitoreo_hidrico = pd.read_csv('https://raw.githubusercontent.com/LiliValGo/Estaciones_Hidrologicas__Colombia/main/estaciones_hidrologicas_col/estaciones_hidrologicas.csv')\n",
        "centro_monitoreo_hidrico"
      ],
      "execution_count": 3,
      "outputs": [
        {
          "output_type": "execute_result",
          "data": {
            "text/html": [
              "<div>\n",
              "<style scoped>\n",
              "    .dataframe tbody tr th:only-of-type {\n",
              "        vertical-align: middle;\n",
              "    }\n",
              "\n",
              "    .dataframe tbody tr th {\n",
              "        vertical-align: top;\n",
              "    }\n",
              "\n",
              "    .dataframe thead th {\n",
              "        text-align: right;\n",
              "    }\n",
              "</style>\n",
              "<table border=\"1\" class=\"dataframe\">\n",
              "  <thead>\n",
              "    <tr style=\"text-align: right;\">\n",
              "      <th></th>\n",
              "      <th>Codigo</th>\n",
              "      <th>Nombre</th>\n",
              "      <th>Categoria</th>\n",
              "      <th>Estado</th>\n",
              "      <th>Departamento</th>\n",
              "      <th>Municipio</th>\n",
              "      <th>Ubicación</th>\n",
              "      <th>Altitud</th>\n",
              "      <th>Fecha_instalacion</th>\n",
              "      <th>Fecha_suspension</th>\n",
              "      <th>Corriente</th>\n",
              "    </tr>\n",
              "  </thead>\n",
              "  <tbody>\n",
              "    <tr>\n",
              "      <th>0</th>\n",
              "      <td>52057100</td>\n",
              "      <td>RUMICHACA - AUT [52057100]</td>\n",
              "      <td>Limnigráfica</td>\n",
              "      <td>Activa</td>\n",
              "      <td>Nariño</td>\n",
              "      <td>Ipiales</td>\n",
              "      <td>(0.81378611, -77.66197778)</td>\n",
              "      <td>2,582</td>\n",
              "      <td>2016-11-15</td>\n",
              "      <td>NaN</td>\n",
              "      <td>Guaitara</td>\n",
              "    </tr>\n",
              "    <tr>\n",
              "      <th>1</th>\n",
              "      <td>52055170</td>\n",
              "      <td>LA JOSEFINA - AUT [52055170]</td>\n",
              "      <td>Climática Principal</td>\n",
              "      <td>Activa</td>\n",
              "      <td>Nariño</td>\n",
              "      <td>Contadero</td>\n",
              "      <td>(0.93030556, -77.49119444)</td>\n",
              "      <td>2,450</td>\n",
              "      <td>2005-12-10</td>\n",
              "      <td>NaN</td>\n",
              "      <td>Guaitara</td>\n",
              "    </tr>\n",
              "    <tr>\n",
              "      <th>2</th>\n",
              "      <td>52055220</td>\n",
              "      <td>EL PARAISO - AUT [52055220]</td>\n",
              "      <td>Climática Principal</td>\n",
              "      <td>Activa</td>\n",
              "      <td>Nariño</td>\n",
              "      <td>Túquerres</td>\n",
              "      <td>(1.07061111, -77.63688889)</td>\n",
              "      <td>3,120</td>\n",
              "      <td>2004-03-01</td>\n",
              "      <td>NaN</td>\n",
              "      <td>Guaitara</td>\n",
              "    </tr>\n",
              "    <tr>\n",
              "      <th>3</th>\n",
              "      <td>44015070</td>\n",
              "      <td>EL PEPINO - AUT [44015070]</td>\n",
              "      <td>Climática Principal</td>\n",
              "      <td>Activa</td>\n",
              "      <td>Putumayo</td>\n",
              "      <td>Mocoa</td>\n",
              "      <td>(1.08288889, -76.66711111)</td>\n",
              "      <td>760</td>\n",
              "      <td>2005-11-11</td>\n",
              "      <td>NaN</td>\n",
              "      <td>Guaitara</td>\n",
              "    </tr>\n",
              "    <tr>\n",
              "      <th>4</th>\n",
              "      <td>48015040</td>\n",
              "      <td>PUERTO NARINO - AUT [48015040]</td>\n",
              "      <td>Climática Principal</td>\n",
              "      <td>Activa</td>\n",
              "      <td>Amazonas</td>\n",
              "      <td>Puerto Nariño</td>\n",
              "      <td>(-3.78030556, -70.36263889)</td>\n",
              "      <td>158</td>\n",
              "      <td>2005-07-19</td>\n",
              "      <td>NaN</td>\n",
              "      <td>Amazonas</td>\n",
              "    </tr>\n",
              "    <tr>\n",
              "      <th>...</th>\n",
              "      <td>...</td>\n",
              "      <td>...</td>\n",
              "      <td>...</td>\n",
              "      <td>...</td>\n",
              "      <td>...</td>\n",
              "      <td>...</td>\n",
              "      <td>...</td>\n",
              "      <td>...</td>\n",
              "      <td>...</td>\n",
              "      <td>...</td>\n",
              "      <td>...</td>\n",
              "    </tr>\n",
              "    <tr>\n",
              "      <th>8968</th>\n",
              "      <td>4401700167</td>\n",
              "      <td>NIVEL SANGOYACO GARGANTA</td>\n",
              "      <td>Limnimétrica</td>\n",
              "      <td>Activa</td>\n",
              "      <td>Putumayo</td>\n",
              "      <td>Mocoa</td>\n",
              "      <td>(1.15872222, -76.67080556)</td>\n",
              "      <td>761</td>\n",
              "      <td>2020-02-25</td>\n",
              "      <td>NaN</td>\n",
              "      <td>Mocoa</td>\n",
              "    </tr>\n",
              "    <tr>\n",
              "      <th>8969</th>\n",
              "      <td>4401700168</td>\n",
              "      <td>NIVEL MULATO PALMERAS</td>\n",
              "      <td>Limnimétrica</td>\n",
              "      <td>Activa</td>\n",
              "      <td>Putumayo</td>\n",
              "      <td>Mocoa</td>\n",
              "      <td>(1.15638889, -76.69027778)</td>\n",
              "      <td>966</td>\n",
              "      <td>2020-02-25</td>\n",
              "      <td>NaN</td>\n",
              "      <td>Mocoa</td>\n",
              "    </tr>\n",
              "    <tr>\n",
              "      <th>8970</th>\n",
              "      <td>4401700172</td>\n",
              "      <td>NIVEL MOCOA PISCIKART</td>\n",
              "      <td>Limnimétrica</td>\n",
              "      <td>Activa</td>\n",
              "      <td>Putumayo</td>\n",
              "      <td>Villagarzón</td>\n",
              "      <td>(1.03964167, -76.61091944)</td>\n",
              "      <td>408</td>\n",
              "      <td>2020-02-25</td>\n",
              "      <td>NaN</td>\n",
              "      <td>Mocoa</td>\n",
              "    </tr>\n",
              "    <tr>\n",
              "      <th>8971</th>\n",
              "      <td>4401700173</td>\n",
              "      <td>NIVEL RUMIYACO LAGARTO</td>\n",
              "      <td>Limnimétrica</td>\n",
              "      <td>Activa</td>\n",
              "      <td>Putumayo</td>\n",
              "      <td>Mocoa</td>\n",
              "      <td>(1.119225, -76.67045)</td>\n",
              "      <td>647</td>\n",
              "      <td>2020-02-25</td>\n",
              "      <td>NaN</td>\n",
              "      <td>Mocoa</td>\n",
              "    </tr>\n",
              "    <tr>\n",
              "      <th>8972</th>\n",
              "      <td>4401700174</td>\n",
              "      <td>NIVEL RIO PEPINO</td>\n",
              "      <td>Limnimétrica</td>\n",
              "      <td>Activa</td>\n",
              "      <td>Putumayo</td>\n",
              "      <td>Mocoa</td>\n",
              "      <td>(1.088775, -76.69261667)</td>\n",
              "      <td>868</td>\n",
              "      <td>2020-02-25</td>\n",
              "      <td>NaN</td>\n",
              "      <td>Mocoa</td>\n",
              "    </tr>\n",
              "  </tbody>\n",
              "</table>\n",
              "<p>8973 rows × 11 columns</p>\n",
              "</div>"
            ],
            "text/plain": [
              "          Codigo                          Nombre  ... Fecha_suspension Corriente\n",
              "0       52057100      RUMICHACA - AUT [52057100]  ...              NaN  Guaitara\n",
              "1       52055170    LA JOSEFINA - AUT [52055170]  ...              NaN  Guaitara\n",
              "2       52055220     EL PARAISO - AUT [52055220]  ...              NaN  Guaitara\n",
              "3       44015070      EL PEPINO - AUT [44015070]  ...              NaN  Guaitara\n",
              "4       48015040  PUERTO NARINO - AUT [48015040]  ...              NaN  Amazonas\n",
              "...          ...                             ...  ...              ...       ...\n",
              "8968  4401700167        NIVEL SANGOYACO GARGANTA  ...              NaN     Mocoa\n",
              "8969  4401700168           NIVEL MULATO PALMERAS  ...              NaN     Mocoa\n",
              "8970  4401700172           NIVEL MOCOA PISCIKART  ...              NaN     Mocoa\n",
              "8971  4401700173          NIVEL RUMIYACO LAGARTO  ...              NaN     Mocoa\n",
              "8972  4401700174                NIVEL RIO PEPINO  ...              NaN     Mocoa\n",
              "\n",
              "[8973 rows x 11 columns]"
            ]
          },
          "metadata": {
            "tags": []
          },
          "execution_count": 3
        }
      ]
    },
    {
      "cell_type": "code",
      "metadata": {
        "colab": {
          "base_uri": "https://localhost:8080/"
        },
        "id": "_BxT9T9YV0lu",
        "outputId": "141ff41f-a63c-4a33-8087-e0d77f550c36"
      },
      "source": [
        "centro_monitoreo_hidrico['Nombre'].sample(30)"
      ],
      "execution_count": 4,
      "outputs": [
        {
          "output_type": "execute_result",
          "data": {
            "text/plain": [
              "3898                 CAMPAMENTO [26197010]\n",
              "6241           PARQUE NACIONAL  [21206720]\n",
              "1165             PUERTO INIRIDA [31097020]\n",
              "3433            MORALES-LA CRUZ [23205040]\n",
              "8051               APIA  - AUT  [26145501]\n",
              "7359     CORPOGUAJIRA RIOHACHA  [15061001]\n",
              "3545                ARRASTRE EL [29037780]\n",
              "743           SANTA ROSA  - AUT [23127060]\n",
              "262        AEROPUERTO A BONILLA [26075040]\n",
              "1655            PUENTE COLONIAL [24037300]\n",
              "3414                VILLA LEIVA [23187100]\n",
              "6550                   PALERMO  [26170140]\n",
              "8723          BURITICA - AUT  [2621000029]\n",
              "6967               ORIENTAL LA  [26170340]\n",
              "6454               PTE PINILLA  [24017450]\n",
              "4730                  SAN JOSE  [35030210]\n",
              "6604                VENTALARGA  [21200260]\n",
              "3052         INGENIO SANTA CRUZ [29035090]\n",
              "4587    SAN_ANDRES_CIOH  - AUT  [12011001]\n",
              "1961         NUEVO LIBARE BOCAT [26127160]\n",
              "7702                 ELVIRA LA  [26050280]\n",
              "7962           MOLINO EL PSN-1  [23087410]\n",
              "8289             MOSCA LA RN-2  [23087030]\n",
              "4169               HIDROPARAISO [21202160]\n",
              "6004               MONTECRISTO  [26110180]\n",
              "8302                  PLAYA LA  [23197120]\n",
              "1968                      SUEVA [35060020]\n",
              "338              MOTILON  - AUT [21117110]\n",
              "1750                      IDEMA [21250310]\n",
              "7213                 YANACONAS  [26050090]\n",
              "Name: Nombre, dtype: object"
            ]
          },
          "metadata": {
            "tags": []
          },
          "execution_count": 4
        }
      ]
    },
    {
      "cell_type": "markdown",
      "metadata": {
        "id": "eJFEYZ0A9S6v"
      },
      "source": [
        "# **Exploración del DataFrame**"
      ]
    },
    {
      "cell_type": "code",
      "metadata": {
        "colab": {
          "base_uri": "https://localhost:8080/"
        },
        "id": "5H87MEYp-9o6",
        "outputId": "553d3c2f-7017-4640-a704-ccf63715abab"
      },
      "source": [
        "centro_monitoreo_hidrico['Departamento'].duplicated().value_counts()"
      ],
      "execution_count": 5,
      "outputs": [
        {
          "output_type": "execute_result",
          "data": {
            "text/plain": [
              "True     8940\n",
              "False      33\n",
              "Name: Departamento, dtype: int64"
            ]
          },
          "metadata": {
            "tags": []
          },
          "execution_count": 5
        }
      ]
    },
    {
      "cell_type": "code",
      "metadata": {
        "colab": {
          "base_uri": "https://localhost:8080/"
        },
        "id": "aqTvAvbyBXg-",
        "outputId": "dedbfc56-8bb5-4a22-8ed3-cdc75786067b"
      },
      "source": [
        "centro_monitoreo_hidrico['Codigo'].duplicated().value_counts()"
      ],
      "execution_count": 6,
      "outputs": [
        {
          "output_type": "execute_result",
          "data": {
            "text/plain": [
              "False    8973\n",
              "Name: Codigo, dtype: int64"
            ]
          },
          "metadata": {
            "tags": []
          },
          "execution_count": 6
        }
      ]
    },
    {
      "cell_type": "code",
      "metadata": {
        "colab": {
          "base_uri": "https://localhost:8080/"
        },
        "id": "8DYhy3XO_SWy",
        "outputId": "a6c0d6d7-5ccb-4349-fe8d-c27e6d722c57"
      },
      "source": [
        "# Tipo de estaciones Hidrológicas\n",
        "centro_monitoreo_hidrico['Categoria'].unique()"
      ],
      "execution_count": 7,
      "outputs": [
        {
          "output_type": "execute_result",
          "data": {
            "text/plain": [
              "array(['Limnigráfica', 'Climática Principal', 'Mareográfica',\n",
              "       'Pluviográfica', 'Climática Ordinaria', 'Agrometeorológica',\n",
              "       'Limnimétrica', 'Pluviométrica', 'Meteorológica Especial',\n",
              "       'Sinóptica Principal', 'Sinóptica Secundaria', 'Radio Sonda'],\n",
              "      dtype=object)"
            ]
          },
          "metadata": {
            "tags": []
          },
          "execution_count": 7
        }
      ]
    },
    {
      "cell_type": "code",
      "metadata": {
        "colab": {
          "base_uri": "https://localhost:8080/"
        },
        "id": "Ak4_YQj1DEhR",
        "outputId": "0bcc5c57-4127-4942-ee50-248d7c069f8a"
      },
      "source": [
        "# Valores únicos da la variable corriente\n",
        "centro_monitoreo_hidrico['Corriente'].unique()"
      ],
      "execution_count": 8,
      "outputs": [
        {
          "output_type": "execute_result",
          "data": {
            "text/plain": [
              "array(['Guaitara', 'Amazonas', '0', ..., '1229', '1233', '1241'],\n",
              "      dtype=object)"
            ]
          },
          "metadata": {
            "tags": []
          },
          "execution_count": 8
        }
      ]
    },
    {
      "cell_type": "code",
      "metadata": {
        "colab": {
          "base_uri": "https://localhost:8080/",
          "height": 112
        },
        "id": "bxGvVskcqCWc",
        "outputId": "8fc939ba-6065-414a-86a9-2b2dc0c7bcac"
      },
      "source": [
        "# Filtrando por registro \"numerico\" de la variable corriente\n",
        "centro_monitoreo_hidrico[centro_monitoreo_hidrico['Corriente'] == '1241'][['Corriente','Categoria',\t'Estado',\t'Departamento',\t'Municipio']] "
      ],
      "execution_count": 9,
      "outputs": [
        {
          "output_type": "execute_result",
          "data": {
            "text/html": [
              "<div>\n",
              "<style scoped>\n",
              "    .dataframe tbody tr th:only-of-type {\n",
              "        vertical-align: middle;\n",
              "    }\n",
              "\n",
              "    .dataframe tbody tr th {\n",
              "        vertical-align: top;\n",
              "    }\n",
              "\n",
              "    .dataframe thead th {\n",
              "        text-align: right;\n",
              "    }\n",
              "</style>\n",
              "<table border=\"1\" class=\"dataframe\">\n",
              "  <thead>\n",
              "    <tr style=\"text-align: right;\">\n",
              "      <th></th>\n",
              "      <th>Corriente</th>\n",
              "      <th>Categoria</th>\n",
              "      <th>Estado</th>\n",
              "      <th>Departamento</th>\n",
              "      <th>Municipio</th>\n",
              "    </tr>\n",
              "  </thead>\n",
              "  <tbody>\n",
              "    <tr>\n",
              "      <th>8911</th>\n",
              "      <td>1241</td>\n",
              "      <td>Limnigráfica</td>\n",
              "      <td>Activa</td>\n",
              "      <td>Caldas</td>\n",
              "      <td>Pácora</td>\n",
              "    </tr>\n",
              "    <tr>\n",
              "      <th>8912</th>\n",
              "      <td>1241</td>\n",
              "      <td>Limnigráfica</td>\n",
              "      <td>Activa</td>\n",
              "      <td>Caldas</td>\n",
              "      <td>Salamina (Caldas)</td>\n",
              "    </tr>\n",
              "  </tbody>\n",
              "</table>\n",
              "</div>"
            ],
            "text/plain": [
              "     Corriente     Categoria  Estado Departamento          Municipio\n",
              "8911      1241  Limnigráfica  Activa       Caldas             Pácora\n",
              "8912      1241  Limnigráfica  Activa       Caldas  Salamina (Caldas)"
            ]
          },
          "metadata": {
            "tags": []
          },
          "execution_count": 9
        }
      ]
    },
    {
      "cell_type": "code",
      "metadata": {
        "colab": {
          "base_uri": "https://localhost:8080/",
          "height": 363
        },
        "id": "ijv_1ELTY2kP",
        "outputId": "1ef1d954-e376-4b8f-aeec-7457e494f9fb"
      },
      "source": [
        "# Filtrando fuente hidrica del rio Atrató\n",
        "centro_monitoreo_hidrico.query('Corriente == \"Atrato\"').sample(10)"
      ],
      "execution_count": 59,
      "outputs": [
        {
          "output_type": "execute_result",
          "data": {
            "text/html": [
              "<div>\n",
              "<style scoped>\n",
              "    .dataframe tbody tr th:only-of-type {\n",
              "        vertical-align: middle;\n",
              "    }\n",
              "\n",
              "    .dataframe tbody tr th {\n",
              "        vertical-align: top;\n",
              "    }\n",
              "\n",
              "    .dataframe thead th {\n",
              "        text-align: right;\n",
              "    }\n",
              "</style>\n",
              "<table border=\"1\" class=\"dataframe\">\n",
              "  <thead>\n",
              "    <tr style=\"text-align: right;\">\n",
              "      <th></th>\n",
              "      <th>Codigo</th>\n",
              "      <th>Nombre</th>\n",
              "      <th>Categoria</th>\n",
              "      <th>Estado</th>\n",
              "      <th>Departamento</th>\n",
              "      <th>Municipio</th>\n",
              "      <th>Ubicación</th>\n",
              "      <th>Altitud</th>\n",
              "      <th>Fecha_instalacion</th>\n",
              "      <th>Fecha_suspension</th>\n",
              "      <th>Corriente</th>\n",
              "    </tr>\n",
              "  </thead>\n",
              "  <tbody>\n",
              "    <tr>\n",
              "      <th>2426</th>\n",
              "      <td>24030610</td>\n",
              "      <td>EMPODUITAMA [24030610]</td>\n",
              "      <td>Pluviométrica</td>\n",
              "      <td>Suspendida</td>\n",
              "      <td>Boyacá</td>\n",
              "      <td>Duitama</td>\n",
              "      <td>(5.85, -73.05)</td>\n",
              "      <td>2,590</td>\n",
              "      <td>1972-06-15</td>\n",
              "      <td>2002-02-15</td>\n",
              "      <td>Atrato</td>\n",
              "    </tr>\n",
              "    <tr>\n",
              "      <th>2406</th>\n",
              "      <td>26175040</td>\n",
              "      <td>TUNEZ HACIENDA [26175040]</td>\n",
              "      <td>Climática Ordinaria</td>\n",
              "      <td>Activa</td>\n",
              "      <td>Antioquia</td>\n",
              "      <td>Fredonia</td>\n",
              "      <td>(5.80025, -75.65097222)</td>\n",
              "      <td>604</td>\n",
              "      <td>1975-04-15</td>\n",
              "      <td>NaN</td>\n",
              "      <td>Atrato</td>\n",
              "    </tr>\n",
              "    <tr>\n",
              "      <th>3947</th>\n",
              "      <td>26220060</td>\n",
              "      <td>TUNAL EL [26220060]</td>\n",
              "      <td>Pluviométrica</td>\n",
              "      <td>Suspendida</td>\n",
              "      <td>Antioquia</td>\n",
              "      <td>Santa Fe De Antioquia</td>\n",
              "      <td>(6.58333333, -75.83333333)</td>\n",
              "      <td>650</td>\n",
              "      <td>1985-12-15</td>\n",
              "      <td>1989-05-15</td>\n",
              "      <td>Atrato</td>\n",
              "    </tr>\n",
              "    <tr>\n",
              "      <th>145</th>\n",
              "      <td>35235040</td>\n",
              "      <td>TRINIDAD - AUT [35235040]</td>\n",
              "      <td>Climática Ordinaria</td>\n",
              "      <td>Activa</td>\n",
              "      <td>Casanare</td>\n",
              "      <td>Trinidad</td>\n",
              "      <td>(5.41902778, -71.66616667)</td>\n",
              "      <td>265</td>\n",
              "      <td>2016-12-15</td>\n",
              "      <td>NaN</td>\n",
              "      <td>Atrato</td>\n",
              "    </tr>\n",
              "    <tr>\n",
              "      <th>149</th>\n",
              "      <td>55015010</td>\n",
              "      <td>PIE DE PATO - AUT [55015010]</td>\n",
              "      <td>Climática Principal</td>\n",
              "      <td>Activa</td>\n",
              "      <td>Chocó</td>\n",
              "      <td>Alto Baudó (Pie De Pato)</td>\n",
              "      <td>(5.52108333, -76.97316667)</td>\n",
              "      <td>40</td>\n",
              "      <td>2006-03-12</td>\n",
              "      <td>NaN</td>\n",
              "      <td>Atrato</td>\n",
              "    </tr>\n",
              "    <tr>\n",
              "      <th>948</th>\n",
              "      <td>23100040</td>\n",
              "      <td>YOLOMBO [23100040]</td>\n",
              "      <td>Pluviométrica</td>\n",
              "      <td>Activa</td>\n",
              "      <td>Antioquia</td>\n",
              "      <td>Yolombó</td>\n",
              "      <td>(6.59427778, -75.01091667)</td>\n",
              "      <td>965</td>\n",
              "      <td>1975-04-15</td>\n",
              "      <td>NaN</td>\n",
              "      <td>Atrato</td>\n",
              "    </tr>\n",
              "    <tr>\n",
              "      <th>1723</th>\n",
              "      <td>11027060</td>\n",
              "      <td>PINON EL [11027060]</td>\n",
              "      <td>Limnimétrica</td>\n",
              "      <td>Suspendida</td>\n",
              "      <td>Chocó</td>\n",
              "      <td>El Carmen (Choco)</td>\n",
              "      <td>(5.73333333, -76.36666667)</td>\n",
              "      <td>1,350</td>\n",
              "      <td>1959-03-15</td>\n",
              "      <td>1971-11-15</td>\n",
              "      <td>Atrato</td>\n",
              "    </tr>\n",
              "    <tr>\n",
              "      <th>152</th>\n",
              "      <td>11027070</td>\n",
              "      <td>BORAUDO - AUT [11027070]</td>\n",
              "      <td>Limnigráfica</td>\n",
              "      <td>Activa</td>\n",
              "      <td>Chocó</td>\n",
              "      <td>Lloró</td>\n",
              "      <td>(5.51461111, -76.57569444)</td>\n",
              "      <td>78</td>\n",
              "      <td>2005-04-14 19:00</td>\n",
              "      <td>NaN</td>\n",
              "      <td>Atrato</td>\n",
              "    </tr>\n",
              "    <tr>\n",
              "      <th>4060</th>\n",
              "      <td>27030130</td>\n",
              "      <td>LONDRE EL [27030130]</td>\n",
              "      <td>Pluviométrica</td>\n",
              "      <td>Suspendida</td>\n",
              "      <td>Antioquia</td>\n",
              "      <td>El Bagre</td>\n",
              "      <td>(7.46666667, -74.65)</td>\n",
              "      <td>10</td>\n",
              "      <td>1974-11-15</td>\n",
              "      <td>1987-05-15</td>\n",
              "      <td>Atrato</td>\n",
              "    </tr>\n",
              "    <tr>\n",
              "      <th>2408</th>\n",
              "      <td>26170190</td>\n",
              "      <td>DIQUE EL [26170190]</td>\n",
              "      <td>Pluviométrica</td>\n",
              "      <td>Activa</td>\n",
              "      <td>Antioquia</td>\n",
              "      <td>Jericó (Antioquia)</td>\n",
              "      <td>(5.80386111, -75.72361111)</td>\n",
              "      <td>1,140</td>\n",
              "      <td>1970-09-15</td>\n",
              "      <td>NaN</td>\n",
              "      <td>Atrato</td>\n",
              "    </tr>\n",
              "  </tbody>\n",
              "</table>\n",
              "</div>"
            ],
            "text/plain": [
              "        Codigo                        Nombre  ... Fecha_suspension Corriente\n",
              "2426  24030610        EMPODUITAMA [24030610]  ...       2002-02-15    Atrato\n",
              "2406  26175040     TUNEZ HACIENDA [26175040]  ...              NaN    Atrato\n",
              "3947  26220060           TUNAL EL [26220060]  ...       1989-05-15    Atrato\n",
              "145   35235040     TRINIDAD - AUT [35235040]  ...              NaN    Atrato\n",
              "149   55015010  PIE DE PATO - AUT [55015010]  ...              NaN    Atrato\n",
              "948   23100040            YOLOMBO [23100040]  ...              NaN    Atrato\n",
              "1723  11027060           PINON EL [11027060]  ...       1971-11-15    Atrato\n",
              "152   11027070      BORAUDO - AUT [11027070]  ...              NaN    Atrato\n",
              "4060  27030130          LONDRE EL [27030130]  ...       1987-05-15    Atrato\n",
              "2408  26170190           DIQUE EL [26170190]  ...              NaN    Atrato\n",
              "\n",
              "[10 rows x 11 columns]"
            ]
          },
          "metadata": {
            "tags": []
          },
          "execution_count": 59
        }
      ]
    },
    {
      "cell_type": "markdown",
      "metadata": {
        "id": "TFkZuCoEwJ8W"
      },
      "source": [
        "**NOTA:**\n",
        "\n",
        " La fuente hidrica del rio Atrató no recorre algunos departamentos como Santander, Boyaca, Caldas, Valle del Cauca, Arauca, Casanare. Los municipios de Antioquia que aqui se presentan no pertenecen a los municipios de Antioquia con influencia sobre el rio Atrato "
      ]
    },
    {
      "cell_type": "code",
      "metadata": {
        "colab": {
          "base_uri": "https://localhost:8080/"
        },
        "id": "HgGvGZmXD0A7",
        "outputId": "3dca3919-22c7-4796-ff16-0bfd46862990"
      },
      "source": [
        "centro_monitoreo_hidrico['Departamento'].unique()"
      ],
      "execution_count": 11,
      "outputs": [
        {
          "output_type": "execute_result",
          "data": {
            "text/plain": [
              "array(['Nariño', 'Putumayo', 'Amazonas', 'Caquetá', 'Huila', 'Cauca',\n",
              "       'Bolívar', 'Sucre', 'Boyacá', 'Valle del Cauca', 'Caldas',\n",
              "       'Tolima', 'Cundinamarca', 'Meta', 'Bogotá', 'Guainía', 'RIsaralda',\n",
              "       'Quindío', 'Casanare', 'Chocó', 'Antioquia', 'Santander',\n",
              "       'Norte de Santander', 'Arauca', 'Córdoba', 'Cesar', 'Magdalena',\n",
              "       'La Guajira',\n",
              "       'Archipiélago de San Andres, Providencia y Santa Catalina',\n",
              "       'Atlantico', 'Vaupes', 'Vichada', 'Guaviare'], dtype=object)"
            ]
          },
          "metadata": {
            "tags": []
          },
          "execution_count": 11
        }
      ]
    },
    {
      "cell_type": "code",
      "metadata": {
        "colab": {
          "base_uri": "https://localhost:8080/"
        },
        "id": "21MtKLgNEQgF",
        "outputId": "2c6f6032-ae05-42ee-dbdf-289498dff951"
      },
      "source": [
        "centro_monitoreo_hidrico['Municipio'].unique()"
      ],
      "execution_count": 12,
      "outputs": [
        {
          "output_type": "execute_result",
          "data": {
            "text/plain": [
              "array(['Ipiales', 'Contadero', 'Túquerres', ..., 'Soatá', 'Chitaraque',\n",
              "       'Chipatá'], dtype=object)"
            ]
          },
          "metadata": {
            "tags": []
          },
          "execution_count": 12
        }
      ]
    },
    {
      "cell_type": "code",
      "metadata": {
        "colab": {
          "base_uri": "https://localhost:8080/"
        },
        "id": "iW28usMREgwY",
        "outputId": "b505691c-2112-4eba-f4e9-f47a92e420aa"
      },
      "source": [
        "centro_monitoreo_hidrico['Municipio'].duplicated().value_counts()"
      ],
      "execution_count": 13,
      "outputs": [
        {
          "output_type": "execute_result",
          "data": {
            "text/plain": [
              "True     7946\n",
              "False    1027\n",
              "Name: Municipio, dtype: int64"
            ]
          },
          "metadata": {
            "tags": []
          },
          "execution_count": 13
        }
      ]
    },
    {
      "cell_type": "code",
      "metadata": {
        "id": "YAv1cBvg_ZAo",
        "colab": {
          "base_uri": "https://localhost:8080/"
        },
        "outputId": "82b25281-40a8-40b9-8c9d-098bdbab8b3f"
      },
      "source": [
        "centro_monitoreo_hidrico['Corriente'].duplicated().value_counts()"
      ],
      "execution_count": 14,
      "outputs": [
        {
          "output_type": "execute_result",
          "data": {
            "text/plain": [
              "True     7821\n",
              "False    1152\n",
              "Name: Corriente, dtype: int64"
            ]
          },
          "metadata": {
            "tags": []
          },
          "execution_count": 14
        }
      ]
    },
    {
      "cell_type": "code",
      "metadata": {
        "colab": {
          "base_uri": "https://localhost:8080/"
        },
        "id": "MM27DjS48Q1P",
        "outputId": "0323c310-32fa-4a36-e8bf-5da5ca840f91"
      },
      "source": [
        "# Cantidad de observaciones y variables\n",
        "centro_monitoreo_hidrico.shape"
      ],
      "execution_count": 15,
      "outputs": [
        {
          "output_type": "execute_result",
          "data": {
            "text/plain": [
              "(8973, 11)"
            ]
          },
          "metadata": {
            "tags": []
          },
          "execution_count": 15
        }
      ]
    },
    {
      "cell_type": "code",
      "metadata": {
        "id": "PhyEipw9-s7W",
        "colab": {
          "base_uri": "https://localhost:8080/"
        },
        "outputId": "0f52adb6-379f-4406-f6e1-650f21d1ec9e"
      },
      "source": [
        "# Tipo de datos \n",
        "centro_monitoreo_hidrico.info()"
      ],
      "execution_count": 16,
      "outputs": [
        {
          "output_type": "stream",
          "text": [
            "<class 'pandas.core.frame.DataFrame'>\n",
            "RangeIndex: 8973 entries, 0 to 8972\n",
            "Data columns (total 11 columns):\n",
            " #   Column             Non-Null Count  Dtype \n",
            "---  ------             --------------  ----- \n",
            " 0   Codigo             8973 non-null   int64 \n",
            " 1   Nombre             8973 non-null   object\n",
            " 2   Categoria          8973 non-null   object\n",
            " 3   Estado             8973 non-null   object\n",
            " 4   Departamento       8973 non-null   object\n",
            " 5   Municipio          8973 non-null   object\n",
            " 6   Ubicación          8973 non-null   object\n",
            " 7   Altitud            8973 non-null   object\n",
            " 8   Fecha_instalacion  8839 non-null   object\n",
            " 9   Fecha_suspension   3441 non-null   object\n",
            " 10  Corriente          8955 non-null   object\n",
            "dtypes: int64(1), object(10)\n",
            "memory usage: 771.2+ KB\n"
          ],
          "name": "stdout"
        }
      ]
    },
    {
      "cell_type": "code",
      "metadata": {
        "colab": {
          "base_uri": "https://localhost:8080/"
        },
        "id": "dL_LkQIE3Yxi",
        "outputId": "bcdeec68-cff6-4fec-af81-20ef8cd040a4"
      },
      "source": [
        "print(centro_monitoreo_hidrico.isna().any())"
      ],
      "execution_count": 17,
      "outputs": [
        {
          "output_type": "stream",
          "text": [
            "Codigo               False\n",
            "Nombre               False\n",
            "Categoria            False\n",
            "Estado               False\n",
            "Departamento         False\n",
            "Municipio            False\n",
            "Ubicación            False\n",
            "Altitud              False\n",
            "Fecha_instalacion     True\n",
            "Fecha_suspension      True\n",
            "Corriente             True\n",
            "dtype: bool\n"
          ],
          "name": "stdout"
        }
      ]
    },
    {
      "cell_type": "code",
      "metadata": {
        "colab": {
          "base_uri": "https://localhost:8080/"
        },
        "id": "pNJFVW6p3neA",
        "outputId": "871e7822-3bf6-418c-b9c0-8dca5e83f055"
      },
      "source": [
        "# Cantidad de observaciones faltantes \n",
        "centro_monitoreo_hidrico.isna().sum()"
      ],
      "execution_count": 18,
      "outputs": [
        {
          "output_type": "execute_result",
          "data": {
            "text/plain": [
              "Codigo                  0\n",
              "Nombre                  0\n",
              "Categoria               0\n",
              "Estado                  0\n",
              "Departamento            0\n",
              "Municipio               0\n",
              "Ubicación               0\n",
              "Altitud                 0\n",
              "Fecha_instalacion     134\n",
              "Fecha_suspension     5532\n",
              "Corriente              18\n",
              "dtype: int64"
            ]
          },
          "metadata": {
            "tags": []
          },
          "execution_count": 18
        }
      ]
    },
    {
      "cell_type": "code",
      "metadata": {
        "colab": {
          "base_uri": "https://localhost:8080/",
          "height": 725
        },
        "id": "YXlVXrnVAeVS",
        "outputId": "409ad4ea-a5cd-4929-e1af-f1272ff2aaa1"
      },
      "source": [
        "msno.matrix(centro_monitoreo_hidrico)"
      ],
      "execution_count": 19,
      "outputs": [
        {
          "output_type": "execute_result",
          "data": {
            "text/plain": [
              "<matplotlib.axes._subplots.AxesSubplot at 0x7f9713c928d0>"
            ]
          },
          "metadata": {
            "tags": []
          },
          "execution_count": 19
        },
        {
          "output_type": "display_data",
          "data": {
            "image/png": "[encoded data removed]",
            "text/plain": [
              "<Figure size 1800x720 with 2 Axes>"
            ]
          },
          "metadata": {
            "tags": [],
            "needs_background": "light"
          }
        }
      ]
    },
    {
      "cell_type": "code",
      "metadata": {
        "colab": {
          "base_uri": "https://localhost:8080/",
          "height": 175
        },
        "id": "I8LQLc0Z_r21",
        "outputId": "d3609e91-32d7-4d14-e33b-289b903ff604"
      },
      "source": [
        "centro_monitoreo_hidrico.describe(include=['O'])"
      ],
      "execution_count": 20,
      "outputs": [
        {
          "output_type": "execute_result",
          "data": {
            "text/html": [
              "<div>\n",
              "<style scoped>\n",
              "    .dataframe tbody tr th:only-of-type {\n",
              "        vertical-align: middle;\n",
              "    }\n",
              "\n",
              "    .dataframe tbody tr th {\n",
              "        vertical-align: top;\n",
              "    }\n",
              "\n",
              "    .dataframe thead th {\n",
              "        text-align: right;\n",
              "    }\n",
              "</style>\n",
              "<table border=\"1\" class=\"dataframe\">\n",
              "  <thead>\n",
              "    <tr style=\"text-align: right;\">\n",
              "      <th></th>\n",
              "      <th>Nombre</th>\n",
              "      <th>Categoria</th>\n",
              "      <th>Estado</th>\n",
              "      <th>Departamento</th>\n",
              "      <th>Municipio</th>\n",
              "      <th>Ubicación</th>\n",
              "      <th>Altitud</th>\n",
              "      <th>Fecha_instalacion</th>\n",
              "      <th>Fecha_suspension</th>\n",
              "      <th>Corriente</th>\n",
              "    </tr>\n",
              "  </thead>\n",
              "  <tbody>\n",
              "    <tr>\n",
              "      <th>count</th>\n",
              "      <td>8973</td>\n",
              "      <td>8973</td>\n",
              "      <td>8973</td>\n",
              "      <td>8973</td>\n",
              "      <td>8973</td>\n",
              "      <td>8973</td>\n",
              "      <td>8973</td>\n",
              "      <td>8839</td>\n",
              "      <td>3441</td>\n",
              "      <td>8955</td>\n",
              "    </tr>\n",
              "    <tr>\n",
              "      <th>unique</th>\n",
              "      <td>8945</td>\n",
              "      <td>12</td>\n",
              "      <td>3</td>\n",
              "      <td>33</td>\n",
              "      <td>1027</td>\n",
              "      <td>7897</td>\n",
              "      <td>1974</td>\n",
              "      <td>1725</td>\n",
              "      <td>910</td>\n",
              "      <td>1151</td>\n",
              "    </tr>\n",
              "    <tr>\n",
              "      <th>top</th>\n",
              "      <td>TURMEQUE JOYAGUA [35075120]</td>\n",
              "      <td>Pluviométrica</td>\n",
              "      <td>Activa</td>\n",
              "      <td>Antioquia</td>\n",
              "      <td>Bogota, D.C</td>\n",
              "      <td>(4.6, -74.08333333)</td>\n",
              "      <td>20</td>\n",
              "      <td>2017-06-30 19:00</td>\n",
              "      <td>2002-02-15</td>\n",
              "      <td>0</td>\n",
              "    </tr>\n",
              "    <tr>\n",
              "      <th>freq</th>\n",
              "      <td>3</td>\n",
              "      <td>3533</td>\n",
              "      <td>5491</td>\n",
              "      <td>1215</td>\n",
              "      <td>342</td>\n",
              "      <td>8</td>\n",
              "      <td>135</td>\n",
              "      <td>75</td>\n",
              "      <td>93</td>\n",
              "      <td>878</td>\n",
              "    </tr>\n",
              "  </tbody>\n",
              "</table>\n",
              "</div>"
            ],
            "text/plain": [
              "                             Nombre      Categoria  ... Fecha_suspension Corriente\n",
              "count                          8973           8973  ...             3441      8955\n",
              "unique                         8945             12  ...              910      1151\n",
              "top     TURMEQUE JOYAGUA [35075120]  Pluviométrica  ...       2002-02-15         0\n",
              "freq                              3           3533  ...               93       878\n",
              "\n",
              "[4 rows x 10 columns]"
            ]
          },
          "metadata": {
            "tags": []
          },
          "execution_count": 20
        }
      ]
    },
    {
      "cell_type": "markdown",
      "metadata": {
        "id": "IgP-Gn__XLpz"
      },
      "source": [
        "#**Identifique el número total de estaciones de acuerdo a su estado. Para ello use 4 metodologías diferentes**"
      ]
    },
    {
      "cell_type": "markdown",
      "metadata": {
        "id": "S8t3ANMn1v_H"
      },
      "source": [
        "## **Opcion 1. Filtrando y contando los criterios de la Columna 'Estado'**"
      ]
    },
    {
      "cell_type": "code",
      "metadata": {
        "id": "33xn_QWB-hzf",
        "colab": {
          "base_uri": "https://localhost:8080/"
        },
        "outputId": "cacce903-db0c-4f9d-8040-abcfa7ef8d4d"
      },
      "source": [
        "centro_monitoreo_hidrico[centro_monitoreo_hidrico['Estado']== 'Activa'].count()"
      ],
      "execution_count": 21,
      "outputs": [
        {
          "output_type": "execute_result",
          "data": {
            "text/plain": [
              "Codigo               5491\n",
              "Nombre               5491\n",
              "Categoria            5491\n",
              "Estado               5491\n",
              "Departamento         5491\n",
              "Municipio            5491\n",
              "Ubicación            5491\n",
              "Altitud              5491\n",
              "Fecha_instalacion    5357\n",
              "Fecha_suspension        2\n",
              "Corriente            5487\n",
              "dtype: int64"
            ]
          },
          "metadata": {
            "tags": []
          },
          "execution_count": 21
        }
      ]
    },
    {
      "cell_type": "code",
      "metadata": {
        "id": "maqtVZmk_jw9",
        "colab": {
          "base_uri": "https://localhost:8080/"
        },
        "outputId": "3c1550ef-e362-4fa5-93bf-a09c27c599b2"
      },
      "source": [
        "centro_monitoreo_hidrico[centro_monitoreo_hidrico['Estado']== 'Suspendida'].count()"
      ],
      "execution_count": 22,
      "outputs": [
        {
          "output_type": "execute_result",
          "data": {
            "text/plain": [
              "Codigo               3439\n",
              "Nombre               3439\n",
              "Categoria            3439\n",
              "Estado               3439\n",
              "Departamento         3439\n",
              "Municipio            3439\n",
              "Ubicación            3439\n",
              "Altitud              3439\n",
              "Fecha_instalacion    3439\n",
              "Fecha_suspension     3439\n",
              "Corriente            3425\n",
              "dtype: int64"
            ]
          },
          "metadata": {
            "tags": []
          },
          "execution_count": 22
        }
      ]
    },
    {
      "cell_type": "code",
      "metadata": {
        "id": "x1BzDXth_sYR",
        "colab": {
          "base_uri": "https://localhost:8080/"
        },
        "outputId": "2aa1cd6d-3346-416c-8018-0dd410b7b5c5"
      },
      "source": [
        "centro_monitoreo_hidrico[centro_monitoreo_hidrico['Estado']== 'En Mantenimiento'].count()"
      ],
      "execution_count": 23,
      "outputs": [
        {
          "output_type": "execute_result",
          "data": {
            "text/plain": [
              "Codigo               43\n",
              "Nombre               43\n",
              "Categoria            43\n",
              "Estado               43\n",
              "Departamento         43\n",
              "Municipio            43\n",
              "Ubicación            43\n",
              "Altitud              43\n",
              "Fecha_instalacion    43\n",
              "Fecha_suspension      0\n",
              "Corriente            43\n",
              "dtype: int64"
            ]
          },
          "metadata": {
            "tags": []
          },
          "execution_count": 23
        }
      ]
    },
    {
      "cell_type": "markdown",
      "metadata": {
        "id": "FCWp7Qhh2pdH"
      },
      "source": [
        "## **Opcion 2. Filtrando usando metodo .query()**"
      ]
    },
    {
      "cell_type": "code",
      "metadata": {
        "id": "nxtwlArgii_A",
        "colab": {
          "base_uri": "https://localhost:8080/"
        },
        "outputId": "e9db258e-a634-40a7-fcbe-03a6eb33742d"
      },
      "source": [
        "metodo_query =centro_monitoreo_hidrico.query('Estado == \"Activa\"')\n",
        "len(metodo_query)\n"
      ],
      "execution_count": 24,
      "outputs": [
        {
          "output_type": "execute_result",
          "data": {
            "text/plain": [
              "5491"
            ]
          },
          "metadata": {
            "tags": []
          },
          "execution_count": 24
        }
      ]
    },
    {
      "cell_type": "code",
      "metadata": {
        "id": "2bc6_fU4jcTf",
        "colab": {
          "base_uri": "https://localhost:8080/"
        },
        "outputId": "07780300-d138-4299-d3d6-71f8a4c47ba8"
      },
      "source": [
        "metodo_query = centro_monitoreo_hidrico.query('Estado == \"Suspendida\"')\n",
        "len(metodo_query)"
      ],
      "execution_count": 25,
      "outputs": [
        {
          "output_type": "execute_result",
          "data": {
            "text/plain": [
              "3439"
            ]
          },
          "metadata": {
            "tags": []
          },
          "execution_count": 25
        }
      ]
    },
    {
      "cell_type": "code",
      "metadata": {
        "id": "A7eyfuU4nq4k",
        "colab": {
          "base_uri": "https://localhost:8080/"
        },
        "outputId": "8773a71a-14fd-4eac-83cf-9694ecf48c53"
      },
      "source": [
        "metodo_query = centro_monitoreo_hidrico.query('Estado == \"En Mantenimiento\"')\n",
        "len(metodo_query)"
      ],
      "execution_count": 26,
      "outputs": [
        {
          "output_type": "execute_result",
          "data": {
            "text/plain": [
              "43"
            ]
          },
          "metadata": {
            "tags": []
          },
          "execution_count": 26
        }
      ]
    },
    {
      "cell_type": "code",
      "metadata": {
        "colab": {
          "base_uri": "https://localhost:8080/",
          "height": 363
        },
        "id": "B0Rc5zcvhlbb",
        "outputId": "4ede8571-c373-4d8c-ae6f-e8dabef05a9f"
      },
      "source": [
        "centro_monitoreo_hidrico[centro_monitoreo_hidrico['Corriente'] == \"Atrato\"][['Corriente','Departamento', 'Municipio', 'Categoria', 'Estado']].sample(10)"
      ],
      "execution_count": 27,
      "outputs": [
        {
          "output_type": "execute_result",
          "data": {
            "text/html": [
              "<div>\n",
              "<style scoped>\n",
              "    .dataframe tbody tr th:only-of-type {\n",
              "        vertical-align: middle;\n",
              "    }\n",
              "\n",
              "    .dataframe tbody tr th {\n",
              "        vertical-align: top;\n",
              "    }\n",
              "\n",
              "    .dataframe thead th {\n",
              "        text-align: right;\n",
              "    }\n",
              "</style>\n",
              "<table border=\"1\" class=\"dataframe\">\n",
              "  <thead>\n",
              "    <tr style=\"text-align: right;\">\n",
              "      <th></th>\n",
              "      <th>Corriente</th>\n",
              "      <th>Departamento</th>\n",
              "      <th>Municipio</th>\n",
              "      <th>Categoria</th>\n",
              "      <th>Estado</th>\n",
              "    </tr>\n",
              "  </thead>\n",
              "  <tbody>\n",
              "    <tr>\n",
              "      <th>2996</th>\n",
              "      <td>Atrato</td>\n",
              "      <td>Antioquia</td>\n",
              "      <td>Turbo</td>\n",
              "      <td>Pluviográfica</td>\n",
              "      <td>Activa</td>\n",
              "    </tr>\n",
              "    <tr>\n",
              "      <th>2997</th>\n",
              "      <td>Atrato</td>\n",
              "      <td>Chocó</td>\n",
              "      <td>Riosucio (Choco)</td>\n",
              "      <td>Limnimétrica</td>\n",
              "      <td>Suspendida</td>\n",
              "    </tr>\n",
              "    <tr>\n",
              "      <th>951</th>\n",
              "      <td>Atrato</td>\n",
              "      <td>Antioquia</td>\n",
              "      <td>Puerto Berrío</td>\n",
              "      <td>Pluviométrica</td>\n",
              "      <td>Activa</td>\n",
              "    </tr>\n",
              "    <tr>\n",
              "      <th>950</th>\n",
              "      <td>Atrato</td>\n",
              "      <td>Antioquia</td>\n",
              "      <td>Santa Rosa De Osos</td>\n",
              "      <td>Pluviométrica</td>\n",
              "      <td>Activa</td>\n",
              "    </tr>\n",
              "    <tr>\n",
              "      <th>1018</th>\n",
              "      <td>Atrato</td>\n",
              "      <td>Chocó</td>\n",
              "      <td>El Carmen (Choco)</td>\n",
              "      <td>Limnigráfica</td>\n",
              "      <td>Activa</td>\n",
              "    </tr>\n",
              "    <tr>\n",
              "      <th>2407</th>\n",
              "      <td>Atrato</td>\n",
              "      <td>Boyacá</td>\n",
              "      <td>Duitama</td>\n",
              "      <td>Agrometeorológica</td>\n",
              "      <td>Activa</td>\n",
              "    </tr>\n",
              "    <tr>\n",
              "      <th>4349</th>\n",
              "      <td>Atrato</td>\n",
              "      <td>Chocó</td>\n",
              "      <td>Quibdó</td>\n",
              "      <td>Limnigráfica</td>\n",
              "      <td>Activa</td>\n",
              "    </tr>\n",
              "    <tr>\n",
              "      <th>4352</th>\n",
              "      <td>Atrato</td>\n",
              "      <td>Chocó</td>\n",
              "      <td>Carmen Del Darién  (Curbaradó)</td>\n",
              "      <td>Limnimétrica</td>\n",
              "      <td>Activa</td>\n",
              "    </tr>\n",
              "    <tr>\n",
              "      <th>956</th>\n",
              "      <td>Atrato</td>\n",
              "      <td>Antioquia</td>\n",
              "      <td>Puerto Berrío</td>\n",
              "      <td>Pluviográfica</td>\n",
              "      <td>Suspendida</td>\n",
              "    </tr>\n",
              "    <tr>\n",
              "      <th>149</th>\n",
              "      <td>Atrato</td>\n",
              "      <td>Chocó</td>\n",
              "      <td>Alto Baudó (Pie De Pato)</td>\n",
              "      <td>Climática Principal</td>\n",
              "      <td>Activa</td>\n",
              "    </tr>\n",
              "  </tbody>\n",
              "</table>\n",
              "</div>"
            ],
            "text/plain": [
              "     Corriente Departamento  ...            Categoria      Estado\n",
              "2996    Atrato    Antioquia  ...        Pluviográfica      Activa\n",
              "2997    Atrato        Chocó  ...         Limnimétrica  Suspendida\n",
              "951     Atrato    Antioquia  ...        Pluviométrica      Activa\n",
              "950     Atrato    Antioquia  ...        Pluviométrica      Activa\n",
              "1018    Atrato        Chocó  ...         Limnigráfica      Activa\n",
              "2407    Atrato       Boyacá  ...    Agrometeorológica      Activa\n",
              "4349    Atrato        Chocó  ...         Limnigráfica      Activa\n",
              "4352    Atrato        Chocó  ...         Limnimétrica      Activa\n",
              "956     Atrato    Antioquia  ...        Pluviográfica  Suspendida\n",
              "149     Atrato        Chocó  ...  Climática Principal      Activa\n",
              "\n",
              "[10 rows x 5 columns]"
            ]
          },
          "metadata": {
            "tags": []
          },
          "execution_count": 27
        }
      ]
    },
    {
      "cell_type": "markdown",
      "metadata": {
        "id": "PWwvYsFSdLOT"
      },
      "source": [
        "## **Opcion 3. Usando ciclo for**"
      ]
    },
    {
      "cell_type": "code",
      "metadata": {
        "id": "GE4XmJ9ji92w",
        "colab": {
          "base_uri": "https://localhost:8080/"
        },
        "outputId": "93836ad5-7ad0-4e0d-bd14-f5fdee034aa7"
      },
      "source": [
        "for estado in centro_monitoreo_hidrico:\n",
        "  estado_activa = centro_monitoreo_hidrico[centro_monitoreo_hidrico['Estado'] == 'Activa']\n",
        "len(estado_activa)"
      ],
      "execution_count": 28,
      "outputs": [
        {
          "output_type": "execute_result",
          "data": {
            "text/plain": [
              "5491"
            ]
          },
          "metadata": {
            "tags": []
          },
          "execution_count": 28
        }
      ]
    },
    {
      "cell_type": "code",
      "metadata": {
        "id": "ZbefU7_ILpLQ",
        "colab": {
          "base_uri": "https://localhost:8080/"
        },
        "outputId": "5ab6eef3-e058-438a-ee84-12a09ce5e99c"
      },
      "source": [
        "for estado in centro_monitoreo_hidrico:\n",
        "  estado_suspendida = centro_monitoreo_hidrico[centro_monitoreo_hidrico['Estado'] == 'Suspendida']\n",
        "len(estado_suspendida)"
      ],
      "execution_count": 29,
      "outputs": [
        {
          "output_type": "execute_result",
          "data": {
            "text/plain": [
              "3439"
            ]
          },
          "metadata": {
            "tags": []
          },
          "execution_count": 29
        }
      ]
    },
    {
      "cell_type": "code",
      "metadata": {
        "id": "osp8V8Oomznx",
        "colab": {
          "base_uri": "https://localhost:8080/"
        },
        "outputId": "a4474b0d-8749-4e1f-f7d7-da969e53dd43"
      },
      "source": [
        "for estado in centro_monitoreo_hidrico:\n",
        "  estado_mantenimiento = centro_monitoreo_hidrico[centro_monitoreo_hidrico['Estado'] == 'En Mantenimiento']\n",
        "len(estado_mantenimiento)"
      ],
      "execution_count": 30,
      "outputs": [
        {
          "output_type": "execute_result",
          "data": {
            "text/plain": [
              "43"
            ]
          },
          "metadata": {
            "tags": []
          },
          "execution_count": 30
        }
      ]
    },
    {
      "cell_type": "markdown",
      "metadata": {
        "id": "rXFjIuESfgD8"
      },
      "source": [
        "## **Opcion 4. Usando value_counts()**"
      ]
    },
    {
      "cell_type": "code",
      "metadata": {
        "colab": {
          "base_uri": "https://localhost:8080/"
        },
        "id": "x26-NHzTmT31",
        "outputId": "0d6f9f3b-e0e1-494d-ca3d-1e3973417e73"
      },
      "source": [
        "# Cantidad de estaciones de acuerdo a su estado \n",
        "centro_monitoreo_hidrico.Estado.value_counts()"
      ],
      "execution_count": 31,
      "outputs": [
        {
          "output_type": "execute_result",
          "data": {
            "text/plain": [
              "Activa              5491\n",
              "Suspendida          3439\n",
              "En Mantenimiento      43\n",
              "Name: Estado, dtype: int64"
            ]
          },
          "metadata": {
            "tags": []
          },
          "execution_count": 31
        }
      ]
    },
    {
      "cell_type": "markdown",
      "metadata": {
        "id": "FYMxov5ieDNv"
      },
      "source": [
        "# **Hora de Graficar**"
      ]
    },
    {
      "cell_type": "markdown",
      "metadata": {
        "id": "HW9hPaHXfvB4"
      },
      "source": [
        "### **Diagrama de torta para representar el Porcentaje del estado de las estaciones** "
      ]
    },
    {
      "cell_type": "code",
      "metadata": {
        "id": "KiFJknBP-OCU",
        "colab": {
          "base_uri": "https://localhost:8080/",
          "height": 341
        },
        "outputId": "0c638e7e-e54a-4158-866a-082a1ae105b6"
      },
      "source": [
        "estado = centro_monitoreo_hidrico.Estado.value_counts()\n",
        "\n",
        "pie, ax = plt.subplots(figsize=[8,5])\n",
        "labels = estado.keys()\n",
        "plt.pie(x=estado, autopct=\"%.1f%%\", explode=[0.03]*3, labels=labels, pctdistance=0.5, labeldistance=None)\n",
        "plt.title(\"Porcentaje del Estado de las Estaciones\", fontsize=18, bbox={\"facecolor\":\"0.95\", \"pad\":5})\n",
        "plt.legend(bbox_to_anchor=(0.88, 0.93))"
      ],
      "execution_count": 32,
      "outputs": [
        {
          "output_type": "execute_result",
          "data": {
            "text/plain": [
              "<matplotlib.legend.Legend at 0x7f970b3e1b90>"
            ]
          },
          "metadata": {
            "tags": []
          },
          "execution_count": 32
        },
        {
          "output_type": "display_data",
          "data": {
            "image/png": "[encoded data removed]",
            "text/plain": [
              "<Figure size 576x360 with 1 Axes>"
            ]
          },
          "metadata": {
            "tags": []
          }
        }
      ]
    },
    {
      "cell_type": "markdown",
      "metadata": {
        "id": "YApakpssv1qQ"
      },
      "source": [
        "## **value_counts() para cuantificar las estaciones de acuerdo a su categoria**"
      ]
    },
    {
      "cell_type": "code",
      "metadata": {
        "id": "QHX_wlKAv_O2",
        "colab": {
          "base_uri": "https://localhost:8080/"
        },
        "outputId": "4227647c-f62b-415e-8fc5-5f6eff99e834"
      },
      "source": [
        "centro_monitoreo_hidrico.Categoria.value_counts()"
      ],
      "execution_count": 33,
      "outputs": [
        {
          "output_type": "execute_result",
          "data": {
            "text/plain": [
              "Pluviométrica             3533\n",
              "Limnimétrica              1747\n",
              "Limnigráfica              1140\n",
              "Climática Ordinaria        887\n",
              "Climática Principal        680\n",
              "Pluviográfica              631\n",
              "Meteorológica Especial     166\n",
              "Agrometeorológica           74\n",
              "Mareográfica                49\n",
              "Sinóptica Principal         37\n",
              "Sinóptica Secundaria        15\n",
              "Radio Sonda                 14\n",
              "Name: Categoria, dtype: int64"
            ]
          },
          "metadata": {
            "tags": []
          },
          "execution_count": 33
        }
      ]
    },
    {
      "cell_type": "markdown",
      "metadata": {
        "id": "S9YT9YQbgZbM"
      },
      "source": [
        "### **Grafica de torta para representar el porcentaje de las estaciones de acuerdo a su categoria**"
      ]
    },
    {
      "cell_type": "code",
      "metadata": {
        "id": "GRkYIgIUFdf9",
        "colab": {
          "base_uri": "https://localhost:8080/",
          "height": 395
        },
        "outputId": "751a3031-2468-4d6a-be41-f9bdb80b3585"
      },
      "source": [
        "categoria = centro_monitoreo_hidrico.Categoria.value_counts()\n",
        "explode = [0, 0, 0, 0, 0, 0, 0, 0.1, 0.2, 0.4, 0.7, 1]\n",
        "pie, ax = plt.subplots(figsize=[10,6])\n",
        "labels = categoria.keys()\n",
        "plt.pie(x=categoria, autopct=\"%.1f%%\", explode=explode,  labels=labels, pctdistance=1.1, shadow=True, labeldistance=None)\n",
        "plt.title(\"Porcentaje del Tipo de Estaciones\", fontsize=18, bbox={\"facecolor\":\"0.9\", \"pad\":5})\n",
        "plt.legend(bbox_to_anchor=(0, 0.9))\n",
        "#plt.legend(loc = 'upper left')"
      ],
      "execution_count": 34,
      "outputs": [
        {
          "output_type": "execute_result",
          "data": {
            "text/plain": [
              "<matplotlib.legend.Legend at 0x7f970aeee550>"
            ]
          },
          "metadata": {
            "tags": []
          },
          "execution_count": 34
        },
        {
          "output_type": "display_data",
          "data": {
            "image/png": "[encoded data removed]",
            "text/plain": [
              "<Figure size 720x432 with 1 Axes>"
            ]
          },
          "metadata": {
            "tags": []
          }
        }
      ]
    },
    {
      "cell_type": "markdown",
      "metadata": {
        "id": "J2PIVLeJgsen"
      },
      "source": [
        "### **Grafica de barra 1 para representar la cantidad de estaciones de acuerdo a su categoria**"
      ]
    },
    {
      "cell_type": "code",
      "metadata": {
        "id": "JkYLRgXMCxDv",
        "colab": {
          "base_uri": "https://localhost:8080/",
          "height": 455
        },
        "outputId": "7afb5a8c-8986-4017-9c41-b4af6dfd8780"
      },
      "source": [
        "categorizacion = centro_monitoreo_hidrico.Categoria.value_counts()\n",
        "df_categorizacion = pd.DataFrame(categorizacion)\n",
        "labels = categorizacion.keys\n",
        "df_categorizacion.plot(kind = 'bar', fontsize=14, color='purple')\n",
        "plt.title('Categorización Estaciones Hidrológicas', fontsize=18, bbox={\"facecolor\":\"0.9\", \"pad\":5})\n",
        "plt.ylabel('Cantidad', fontsize=16)"
      ],
      "execution_count": 35,
      "outputs": [
        {
          "output_type": "execute_result",
          "data": {
            "text/plain": [
              "Text(0, 0.5, 'Cantidad')"
            ]
          },
          "metadata": {
            "tags": []
          },
          "execution_count": 35
        },
        {
          "output_type": "display_data",
          "data": {
            "image/png": "[encoded data removed]",
            "text/plain": [
              "<Figure size 432x288 with 1 Axes>"
            ]
          },
          "metadata": {
            "tags": [],
            "needs_background": "light"
          }
        }
      ]
    },
    {
      "cell_type": "markdown",
      "metadata": {
        "id": "8_M9o27OhHHq"
      },
      "source": [
        "### **Grafica de barra 2 para representar la cantidad de estaciones de acuerdo a su categoria**"
      ]
    },
    {
      "cell_type": "code",
      "metadata": {
        "id": "LRoL1uJyENHy",
        "colab": {
          "base_uri": "https://localhost:8080/",
          "height": 420
        },
        "outputId": "ca783c9b-f3ce-48cd-ddf9-a699ed134029"
      },
      "source": [
        "sns.set_theme(context='notebook', style='darkgrid', palette='bright', font='sans-serif')\n",
        "plt.figure(figsize=(8,6))\n",
        "sns.countplot(y='Categoria', data=centro_monitoreo_hidrico)\n",
        "plt.title('Categorización Estaciones Hidrológicas', fontsize=18, bbox={\"facecolor\":\"0.9\", \"pad\":5})\n",
        "plt.xlabel('Cantidad', fontsize=16)\n",
        "plt.ylabel('Cantidad', fontsize=16)\n",
        "plt.xticks(fontsize=14)\n",
        "plt.yticks(fontsize=14)\n",
        "plt.show()"
      ],
      "execution_count": 36,
      "outputs": [
        {
          "output_type": "display_data",
          "data": {
            "image/png": "[encoded data removed]",
            "text/plain": [
              "<Figure size 576x432 with 1 Axes>"
            ]
          },
          "metadata": {
            "tags": []
          }
        }
      ]
    },
    {
      "cell_type": "markdown",
      "metadata": {
        "id": "I7LgP2wu0qyo"
      },
      "source": [
        "## **De acuerdo a la categorización. ¿En que estado se encuentra cada una?**"
      ]
    },
    {
      "cell_type": "code",
      "metadata": {
        "id": "pikNqA6ypZdA",
        "colab": {
          "base_uri": "https://localhost:8080/"
        },
        "outputId": "fd71f955-ed0c-4fbc-bd82-eeb289ae108e"
      },
      "source": [
        "centro_monitoreo_hidrico.groupby('Categoria')['Estado'].value_counts()"
      ],
      "execution_count": 37,
      "outputs": [
        {
          "output_type": "execute_result",
          "data": {
            "text/plain": [
              "Categoria               Estado          \n",
              "Agrometeorológica       Activa                57\n",
              "                        Suspendida            16\n",
              "                        En Mantenimiento       1\n",
              "Climática Ordinaria     Suspendida           478\n",
              "                        Activa               401\n",
              "                        En Mantenimiento       8\n",
              "Climática Principal     Activa               576\n",
              "                        Suspendida           103\n",
              "                        En Mantenimiento       1\n",
              "Limnigráfica            Activa               853\n",
              "                        Suspendida           269\n",
              "                        En Mantenimiento      18\n",
              "Limnimétrica            Activa               898\n",
              "                        Suspendida           846\n",
              "                        En Mantenimiento       3\n",
              "Mareográfica            Activa                31\n",
              "                        Suspendida            17\n",
              "                        En Mantenimiento       1\n",
              "Meteorológica Especial  Activa                94\n",
              "                        Suspendida            72\n",
              "Pluviográfica           Activa               460\n",
              "                        Suspendida           163\n",
              "                        En Mantenimiento       8\n",
              "Pluviométrica           Activa              2074\n",
              "                        Suspendida          1457\n",
              "                        En Mantenimiento       2\n",
              "Radio Sonda             Activa                11\n",
              "                        Suspendida             3\n",
              "Sinóptica Principal     Activa                31\n",
              "                        Suspendida             5\n",
              "                        En Mantenimiento       1\n",
              "Sinóptica Secundaria    Suspendida            10\n",
              "                        Activa                 5\n",
              "Name: Estado, dtype: int64"
            ]
          },
          "metadata": {
            "tags": []
          },
          "execution_count": 37
        }
      ]
    },
    {
      "cell_type": "markdown",
      "metadata": {
        "id": "axYPkPrPjDss"
      },
      "source": [
        "### **Grafica de barra para representar el estado en que se encuentra cada una de las estaciones**"
      ]
    },
    {
      "cell_type": "code",
      "metadata": {
        "id": "ngiFOl9p3ONo",
        "colab": {
          "base_uri": "https://localhost:8080/",
          "height": 404
        },
        "outputId": "b0ce7bf2-2fb0-47e8-8330-d28618ab033c"
      },
      "source": [
        "sns.set_theme(context='notebook', style='darkgrid', palette='bright', font='sans-serif')\n",
        "plt.figure(figsize=(8,3))\n",
        "sns.countplot(x='Categoria', data=centro_monitoreo_hidrico, hue='Estado')\n",
        "plt.title('Estado Según Categoria', fontsize=18, bbox={\"facecolor\":\"0.9\", \"pad\":5})\n",
        "plt.ylabel('Cantidad', fontsize=16)\n",
        "plt.xlabel('Categoria', fontsize=16)\n",
        "plt.xticks(rotation = 90, fontsize=14)\n",
        "plt.yticks(fontsize=14)\n",
        "plt.show()"
      ],
      "execution_count": 38,
      "outputs": [
        {
          "output_type": "display_data",
          "data": {
            "image/png": "[encoded data removed]",
            "text/plain": [
              "<Figure size 576x216 with 1 Axes>"
            ]
          },
          "metadata": {
            "tags": []
          }
        }
      ]
    },
    {
      "cell_type": "markdown",
      "metadata": {
        "id": "Q88hm0b0cCKq"
      },
      "source": [
        "Colombia tiene instalados en su territorio Nacional principalmente estaciones de tipo Pluviométrica. Por otro lado, las estaciones de tipo Climática Ordinaria presenta un mayor número de estaciones suspendidas que Activas "
      ]
    },
    {
      "cell_type": "markdown",
      "metadata": {
        "id": "dJhRFowSHeyY"
      },
      "source": [
        "## **Determine el valorcorrespondiente de los primeros 5 Departamento con mayor numero de estaciones segun su Estado**"
      ]
    },
    {
      "cell_type": "markdown",
      "metadata": {
        "id": "75ChMpHAjgrv"
      },
      "source": [
        "### **Grafica de barra para representar los departamentos con mayor número de estaciones de acuerdo a su estado**"
      ]
    },
    {
      "cell_type": "code",
      "metadata": {
        "id": "pdFE8QILKgcm",
        "colab": {
          "base_uri": "https://localhost:8080/",
          "height": 1000
        },
        "outputId": "c00285be-d220-42b3-da8c-84e00418b5d9"
      },
      "source": [
        "sns.set_theme(context='notebook', style='darkgrid', palette='bright', font='sans-serif')\n",
        "plt.figure(figsize=(18,8))\n",
        "sns.countplot(x='Departamento',  data=centro_monitoreo_hidrico, hue='Estado')\n",
        "plt.title('Total Tipo de Estaciones por Departamento', fontsize=25, bbox={\"facecolor\":\"0.9\", \"pad\":5})\n",
        "plt.ylabel('Cantidad', fontsize=20)\n",
        "plt.xlabel('Departamento', fontsize=20)\n",
        "plt.xticks(rotation=90, fontsize=16)\n",
        "plt.yticks(fontsize=16)"
      ],
      "execution_count": 39,
      "outputs": [
        {
          "output_type": "execute_result",
          "data": {
            "text/plain": [
              "(array([  0., 100., 200., 300., 400., 500., 600., 700., 800., 900.]),\n",
              " <a list of 10 Text major ticklabel objects>)"
            ]
          },
          "metadata": {
            "tags": []
          },
          "execution_count": 39
        },
        {
          "output_type": "display_data",
          "data": {
            "image/png": "[encoded data removed]",
            "text/plain": [
              "<Figure size 1296x576 with 1 Axes>"
            ]
          },
          "metadata": {
            "tags": []
          }
        }
      ]
    },
    {
      "cell_type": "markdown",
      "metadata": {
        "id": "SHM8rgVUV4Ef"
      },
      "source": [
        "Departamentos como NS, Cesar Bolivar, Tolima Córdoba, Atlantico y Arauca reportan un número de estaciones suspendidas mayor al numero de estaciones Activas"
      ]
    },
    {
      "cell_type": "code",
      "metadata": {
        "colab": {
          "base_uri": "https://localhost:8080/",
          "height": 175
        },
        "id": "u5o9X0dmMzD5",
        "outputId": "ea8f3430-ad8e-4758-a430-93533c8ab379"
      },
      "source": [
        "top_5_departamentos = centro_monitoreo_hidrico.groupby(['Departamento', 'Estado']).agg({'Estado':'count'})\n",
        "top_5_departamentos.query('Departamento == \"Cundinamarca\"')"
      ],
      "execution_count": 40,
      "outputs": [
        {
          "output_type": "execute_result",
          "data": {
            "text/html": [
              "<div>\n",
              "<style scoped>\n",
              "    .dataframe tbody tr th:only-of-type {\n",
              "        vertical-align: middle;\n",
              "    }\n",
              "\n",
              "    .dataframe tbody tr th {\n",
              "        vertical-align: top;\n",
              "    }\n",
              "\n",
              "    .dataframe thead th {\n",
              "        text-align: right;\n",
              "    }\n",
              "</style>\n",
              "<table border=\"1\" class=\"dataframe\">\n",
              "  <thead>\n",
              "    <tr style=\"text-align: right;\">\n",
              "      <th></th>\n",
              "      <th></th>\n",
              "      <th>Estado</th>\n",
              "    </tr>\n",
              "    <tr>\n",
              "      <th>Departamento</th>\n",
              "      <th>Estado</th>\n",
              "      <th></th>\n",
              "    </tr>\n",
              "  </thead>\n",
              "  <tbody>\n",
              "    <tr>\n",
              "      <th rowspan=\"3\" valign=\"top\">Cundinamarca</th>\n",
              "      <th>Activa</th>\n",
              "      <td>804</td>\n",
              "    </tr>\n",
              "    <tr>\n",
              "      <th>En Mantenimiento</th>\n",
              "      <td>2</td>\n",
              "    </tr>\n",
              "    <tr>\n",
              "      <th>Suspendida</th>\n",
              "      <td>256</td>\n",
              "    </tr>\n",
              "  </tbody>\n",
              "</table>\n",
              "</div>"
            ],
            "text/plain": [
              "                               Estado\n",
              "Departamento Estado                  \n",
              "Cundinamarca Activa               804\n",
              "             En Mantenimiento       2\n",
              "             Suspendida           256"
            ]
          },
          "metadata": {
            "tags": []
          },
          "execution_count": 40
        }
      ]
    },
    {
      "cell_type": "code",
      "metadata": {
        "colab": {
          "base_uri": "https://localhost:8080/",
          "height": 175
        },
        "id": "6yfuTAlJNAxu",
        "outputId": "52208710-5fd9-4a28-8af7-97cd8b6a84b4"
      },
      "source": [
        "top_5_departamentos = centro_monitoreo_hidrico.groupby(['Departamento', 'Estado']).agg({'Estado':'count'})\n",
        "top_5_departamentos.query('Departamento == \"Antioquia\"')"
      ],
      "execution_count": 41,
      "outputs": [
        {
          "output_type": "execute_result",
          "data": {
            "text/html": [
              "<div>\n",
              "<style scoped>\n",
              "    .dataframe tbody tr th:only-of-type {\n",
              "        vertical-align: middle;\n",
              "    }\n",
              "\n",
              "    .dataframe tbody tr th {\n",
              "        vertical-align: top;\n",
              "    }\n",
              "\n",
              "    .dataframe thead th {\n",
              "        text-align: right;\n",
              "    }\n",
              "</style>\n",
              "<table border=\"1\" class=\"dataframe\">\n",
              "  <thead>\n",
              "    <tr style=\"text-align: right;\">\n",
              "      <th></th>\n",
              "      <th></th>\n",
              "      <th>Estado</th>\n",
              "    </tr>\n",
              "    <tr>\n",
              "      <th>Departamento</th>\n",
              "      <th>Estado</th>\n",
              "      <th></th>\n",
              "    </tr>\n",
              "  </thead>\n",
              "  <tbody>\n",
              "    <tr>\n",
              "      <th rowspan=\"3\" valign=\"top\">Antioquia</th>\n",
              "      <th>Activa</th>\n",
              "      <td>713</td>\n",
              "    </tr>\n",
              "    <tr>\n",
              "      <th>En Mantenimiento</th>\n",
              "      <td>20</td>\n",
              "    </tr>\n",
              "    <tr>\n",
              "      <th>Suspendida</th>\n",
              "      <td>482</td>\n",
              "    </tr>\n",
              "  </tbody>\n",
              "</table>\n",
              "</div>"
            ],
            "text/plain": [
              "                               Estado\n",
              "Departamento Estado                  \n",
              "Antioquia    Activa               713\n",
              "             En Mantenimiento      20\n",
              "             Suspendida           482"
            ]
          },
          "metadata": {
            "tags": []
          },
          "execution_count": 41
        }
      ]
    },
    {
      "cell_type": "code",
      "metadata": {
        "id": "JiH07-AXGNfo",
        "colab": {
          "base_uri": "https://localhost:8080/",
          "height": 175
        },
        "outputId": "479495e6-a086-4403-fcac-5cd2d588883a"
      },
      "source": [
        "top_5_departamentos = centro_monitoreo_hidrico.groupby(['Departamento', 'Estado']).agg({'Estado':'count'})\n",
        "top_5_departamentos.query('Departamento == \"Valle del Cauca\"')\n"
      ],
      "execution_count": 42,
      "outputs": [
        {
          "output_type": "execute_result",
          "data": {
            "text/html": [
              "<div>\n",
              "<style scoped>\n",
              "    .dataframe tbody tr th:only-of-type {\n",
              "        vertical-align: middle;\n",
              "    }\n",
              "\n",
              "    .dataframe tbody tr th {\n",
              "        vertical-align: top;\n",
              "    }\n",
              "\n",
              "    .dataframe thead th {\n",
              "        text-align: right;\n",
              "    }\n",
              "</style>\n",
              "<table border=\"1\" class=\"dataframe\">\n",
              "  <thead>\n",
              "    <tr style=\"text-align: right;\">\n",
              "      <th></th>\n",
              "      <th></th>\n",
              "      <th>Estado</th>\n",
              "    </tr>\n",
              "    <tr>\n",
              "      <th>Departamento</th>\n",
              "      <th>Estado</th>\n",
              "      <th></th>\n",
              "    </tr>\n",
              "  </thead>\n",
              "  <tbody>\n",
              "    <tr>\n",
              "      <th rowspan=\"3\" valign=\"top\">Valle del Cauca</th>\n",
              "      <th>Activa</th>\n",
              "      <td>577</td>\n",
              "    </tr>\n",
              "    <tr>\n",
              "      <th>En Mantenimiento</th>\n",
              "      <td>2</td>\n",
              "    </tr>\n",
              "    <tr>\n",
              "      <th>Suspendida</th>\n",
              "      <td>248</td>\n",
              "    </tr>\n",
              "  </tbody>\n",
              "</table>\n",
              "</div>"
            ],
            "text/plain": [
              "                                  Estado\n",
              "Departamento    Estado                  \n",
              "Valle del Cauca Activa               577\n",
              "                En Mantenimiento       2\n",
              "                Suspendida           248"
            ]
          },
          "metadata": {
            "tags": []
          },
          "execution_count": 42
        }
      ]
    },
    {
      "cell_type": "code",
      "metadata": {
        "id": "7l7jzcxworyZ",
        "colab": {
          "base_uri": "https://localhost:8080/",
          "height": 175
        },
        "outputId": "555452b5-1604-4ff4-8f2c-33599b70a33a"
      },
      "source": [
        "top_5_departamentos = centro_monitoreo_hidrico.groupby(['Departamento', 'Estado']).agg({'Estado':'count'})\n",
        "top_5_departamentos.query('Departamento == \"Boyacá\"')\n"
      ],
      "execution_count": 43,
      "outputs": [
        {
          "output_type": "execute_result",
          "data": {
            "text/html": [
              "<div>\n",
              "<style scoped>\n",
              "    .dataframe tbody tr th:only-of-type {\n",
              "        vertical-align: middle;\n",
              "    }\n",
              "\n",
              "    .dataframe tbody tr th {\n",
              "        vertical-align: top;\n",
              "    }\n",
              "\n",
              "    .dataframe thead th {\n",
              "        text-align: right;\n",
              "    }\n",
              "</style>\n",
              "<table border=\"1\" class=\"dataframe\">\n",
              "  <thead>\n",
              "    <tr style=\"text-align: right;\">\n",
              "      <th></th>\n",
              "      <th></th>\n",
              "      <th>Estado</th>\n",
              "    </tr>\n",
              "    <tr>\n",
              "      <th>Departamento</th>\n",
              "      <th>Estado</th>\n",
              "      <th></th>\n",
              "    </tr>\n",
              "  </thead>\n",
              "  <tbody>\n",
              "    <tr>\n",
              "      <th rowspan=\"3\" valign=\"top\">Boyacá</th>\n",
              "      <th>Activa</th>\n",
              "      <td>326</td>\n",
              "    </tr>\n",
              "    <tr>\n",
              "      <th>En Mantenimiento</th>\n",
              "      <td>1</td>\n",
              "    </tr>\n",
              "    <tr>\n",
              "      <th>Suspendida</th>\n",
              "      <td>193</td>\n",
              "    </tr>\n",
              "  </tbody>\n",
              "</table>\n",
              "</div>"
            ],
            "text/plain": [
              "                               Estado\n",
              "Departamento Estado                  \n",
              "Boyacá       Activa               326\n",
              "             En Mantenimiento       1\n",
              "             Suspendida           193"
            ]
          },
          "metadata": {
            "tags": []
          },
          "execution_count": 43
        }
      ]
    },
    {
      "cell_type": "code",
      "metadata": {
        "id": "otVdn6_YUwF1",
        "colab": {
          "base_uri": "https://localhost:8080/",
          "height": 175
        },
        "outputId": "7eb032fd-2d62-412e-ad76-d812c91ac3ba"
      },
      "source": [
        "top_5_departamentos = centro_monitoreo_hidrico.groupby(['Departamento', 'Estado']).agg({'Estado':'count'})\n",
        "top_5_departamentos.query('Departamento == \"Caldas\"')"
      ],
      "execution_count": 44,
      "outputs": [
        {
          "output_type": "execute_result",
          "data": {
            "text/html": [
              "<div>\n",
              "<style scoped>\n",
              "    .dataframe tbody tr th:only-of-type {\n",
              "        vertical-align: middle;\n",
              "    }\n",
              "\n",
              "    .dataframe tbody tr th {\n",
              "        vertical-align: top;\n",
              "    }\n",
              "\n",
              "    .dataframe thead th {\n",
              "        text-align: right;\n",
              "    }\n",
              "</style>\n",
              "<table border=\"1\" class=\"dataframe\">\n",
              "  <thead>\n",
              "    <tr style=\"text-align: right;\">\n",
              "      <th></th>\n",
              "      <th></th>\n",
              "      <th>Estado</th>\n",
              "    </tr>\n",
              "    <tr>\n",
              "      <th>Departamento</th>\n",
              "      <th>Estado</th>\n",
              "      <th></th>\n",
              "    </tr>\n",
              "  </thead>\n",
              "  <tbody>\n",
              "    <tr>\n",
              "      <th rowspan=\"3\" valign=\"top\">Caldas</th>\n",
              "      <th>Activa</th>\n",
              "      <td>323</td>\n",
              "    </tr>\n",
              "    <tr>\n",
              "      <th>En Mantenimiento</th>\n",
              "      <td>1</td>\n",
              "    </tr>\n",
              "    <tr>\n",
              "      <th>Suspendida</th>\n",
              "      <td>81</td>\n",
              "    </tr>\n",
              "  </tbody>\n",
              "</table>\n",
              "</div>"
            ],
            "text/plain": [
              "                               Estado\n",
              "Departamento Estado                  \n",
              "Caldas       Activa               323\n",
              "             En Mantenimiento       1\n",
              "             Suspendida            81"
            ]
          },
          "metadata": {
            "tags": []
          },
          "execution_count": 44
        }
      ]
    },
    {
      "cell_type": "code",
      "metadata": {
        "id": "vZDZF1fbrnEp",
        "colab": {
          "base_uri": "https://localhost:8080/",
          "height": 175
        },
        "outputId": "d6c4d659-b65f-45a2-8cdb-b2ca3b07a3ca"
      },
      "source": [
        "top_5_departamentos = centro_monitoreo_hidrico.groupby(['Departamento', 'Estado']).agg({'Estado':'count'})\n",
        "top_5_departamentos.query('Departamento == \"Santander\"')"
      ],
      "execution_count": 45,
      "outputs": [
        {
          "output_type": "execute_result",
          "data": {
            "text/html": [
              "<div>\n",
              "<style scoped>\n",
              "    .dataframe tbody tr th:only-of-type {\n",
              "        vertical-align: middle;\n",
              "    }\n",
              "\n",
              "    .dataframe tbody tr th {\n",
              "        vertical-align: top;\n",
              "    }\n",
              "\n",
              "    .dataframe thead th {\n",
              "        text-align: right;\n",
              "    }\n",
              "</style>\n",
              "<table border=\"1\" class=\"dataframe\">\n",
              "  <thead>\n",
              "    <tr style=\"text-align: right;\">\n",
              "      <th></th>\n",
              "      <th></th>\n",
              "      <th>Estado</th>\n",
              "    </tr>\n",
              "    <tr>\n",
              "      <th>Departamento</th>\n",
              "      <th>Estado</th>\n",
              "      <th></th>\n",
              "    </tr>\n",
              "  </thead>\n",
              "  <tbody>\n",
              "    <tr>\n",
              "      <th rowspan=\"3\" valign=\"top\">Santander</th>\n",
              "      <th>Activa</th>\n",
              "      <td>273</td>\n",
              "    </tr>\n",
              "    <tr>\n",
              "      <th>En Mantenimiento</th>\n",
              "      <td>1</td>\n",
              "    </tr>\n",
              "    <tr>\n",
              "      <th>Suspendida</th>\n",
              "      <td>199</td>\n",
              "    </tr>\n",
              "  </tbody>\n",
              "</table>\n",
              "</div>"
            ],
            "text/plain": [
              "                               Estado\n",
              "Departamento Estado                  \n",
              "Santander    Activa               273\n",
              "             En Mantenimiento       1\n",
              "             Suspendida           199"
            ]
          },
          "metadata": {
            "tags": []
          },
          "execution_count": 45
        }
      ]
    },
    {
      "cell_type": "markdown",
      "metadata": {
        "id": "2gziPepha_-k"
      },
      "source": [
        "## **Identifique los departamento con mayor número de estaciones según su categoria**"
      ]
    },
    {
      "cell_type": "code",
      "metadata": {
        "id": "6J6PRoZ6Wrpa",
        "colab": {
          "base_uri": "https://localhost:8080/",
          "height": 707
        },
        "outputId": "027cc2ef-45bd-4d2c-9d48-647f3404c025"
      },
      "source": [
        "centro_monitoreo_hidrico.groupby(['Categoria', 'Departamento']).agg({'Estado':'count'}).sort_values('Estado', ascending=False).head(20)\n"
      ],
      "execution_count": 46,
      "outputs": [
        {
          "output_type": "execute_result",
          "data": {
            "text/html": [
              "<div>\n",
              "<style scoped>\n",
              "    .dataframe tbody tr th:only-of-type {\n",
              "        vertical-align: middle;\n",
              "    }\n",
              "\n",
              "    .dataframe tbody tr th {\n",
              "        vertical-align: top;\n",
              "    }\n",
              "\n",
              "    .dataframe thead th {\n",
              "        text-align: right;\n",
              "    }\n",
              "</style>\n",
              "<table border=\"1\" class=\"dataframe\">\n",
              "  <thead>\n",
              "    <tr style=\"text-align: right;\">\n",
              "      <th></th>\n",
              "      <th></th>\n",
              "      <th>Estado</th>\n",
              "    </tr>\n",
              "    <tr>\n",
              "      <th>Categoria</th>\n",
              "      <th>Departamento</th>\n",
              "      <th></th>\n",
              "    </tr>\n",
              "  </thead>\n",
              "  <tbody>\n",
              "    <tr>\n",
              "      <th rowspan=\"2\" valign=\"top\">Pluviométrica</th>\n",
              "      <th>Valle del Cauca</th>\n",
              "      <td>419</td>\n",
              "    </tr>\n",
              "    <tr>\n",
              "      <th>Antioquia</th>\n",
              "      <td>367</td>\n",
              "    </tr>\n",
              "    <tr>\n",
              "      <th>Limnimétrica</th>\n",
              "      <th>Cundinamarca</th>\n",
              "      <td>316</td>\n",
              "    </tr>\n",
              "    <tr>\n",
              "      <th>Pluviométrica</th>\n",
              "      <th>Cundinamarca</th>\n",
              "      <td>292</td>\n",
              "    </tr>\n",
              "    <tr>\n",
              "      <th>Limnigráfica</th>\n",
              "      <th>Antioquia</th>\n",
              "      <td>258</td>\n",
              "    </tr>\n",
              "    <tr>\n",
              "      <th>Pluviográfica</th>\n",
              "      <th>Antioquia</th>\n",
              "      <td>257</td>\n",
              "    </tr>\n",
              "    <tr>\n",
              "      <th rowspan=\"4\" valign=\"top\">Pluviométrica</th>\n",
              "      <th>Santander</th>\n",
              "      <td>223</td>\n",
              "    </tr>\n",
              "    <tr>\n",
              "      <th>Tolima</th>\n",
              "      <td>208</td>\n",
              "    </tr>\n",
              "    <tr>\n",
              "      <th>Boyacá</th>\n",
              "      <td>182</td>\n",
              "    </tr>\n",
              "    <tr>\n",
              "      <th>Cauca</th>\n",
              "      <td>175</td>\n",
              "    </tr>\n",
              "    <tr>\n",
              "      <th>Limnimétrica</th>\n",
              "      <th>Antioquia</th>\n",
              "      <td>166</td>\n",
              "    </tr>\n",
              "    <tr>\n",
              "      <th rowspan=\"3\" valign=\"top\">Pluviométrica</th>\n",
              "      <th>Caldas</th>\n",
              "      <td>161</td>\n",
              "    </tr>\n",
              "    <tr>\n",
              "      <th>Cesar</th>\n",
              "      <td>160</td>\n",
              "    </tr>\n",
              "    <tr>\n",
              "      <th>Huila</th>\n",
              "      <td>153</td>\n",
              "    </tr>\n",
              "    <tr>\n",
              "      <th>Limnigráfica</th>\n",
              "      <th>Cundinamarca</th>\n",
              "      <td>141</td>\n",
              "    </tr>\n",
              "    <tr>\n",
              "      <th rowspan=\"2\" valign=\"top\">Limnimétrica</th>\n",
              "      <th>Boyacá</th>\n",
              "      <td>141</td>\n",
              "    </tr>\n",
              "    <tr>\n",
              "      <th>Bolívar</th>\n",
              "      <td>131</td>\n",
              "    </tr>\n",
              "    <tr>\n",
              "      <th>Pluviométrica</th>\n",
              "      <th>Norte de Santander</th>\n",
              "      <td>129</td>\n",
              "    </tr>\n",
              "    <tr>\n",
              "      <th>Limnimétrica</th>\n",
              "      <th>Santander</th>\n",
              "      <td>115</td>\n",
              "    </tr>\n",
              "    <tr>\n",
              "      <th>Pluviométrica</th>\n",
              "      <th>Bogotá</th>\n",
              "      <td>111</td>\n",
              "    </tr>\n",
              "  </tbody>\n",
              "</table>\n",
              "</div>"
            ],
            "text/plain": [
              "                                  Estado\n",
              "Categoria     Departamento              \n",
              "Pluviométrica Valle del Cauca        419\n",
              "              Antioquia              367\n",
              "Limnimétrica  Cundinamarca           316\n",
              "Pluviométrica Cundinamarca           292\n",
              "Limnigráfica  Antioquia              258\n",
              "Pluviográfica Antioquia              257\n",
              "Pluviométrica Santander              223\n",
              "              Tolima                 208\n",
              "              Boyacá                 182\n",
              "              Cauca                  175\n",
              "Limnimétrica  Antioquia              166\n",
              "Pluviométrica Caldas                 161\n",
              "              Cesar                  160\n",
              "              Huila                  153\n",
              "Limnigráfica  Cundinamarca           141\n",
              "Limnimétrica  Boyacá                 141\n",
              "              Bolívar                131\n",
              "Pluviométrica Norte de Santander     129\n",
              "Limnimétrica  Santander              115\n",
              "Pluviométrica Bogotá                 111"
            ]
          },
          "metadata": {
            "tags": []
          },
          "execution_count": 46
        }
      ]
    },
    {
      "cell_type": "markdown",
      "metadata": {
        "id": "Xo6kGvrndBAG"
      },
      "source": [
        "Aunque vemos que Antioquia tiene mayor número de estaciones Activas, Es el Valle del Cauca quien tiene mayor número de estaciones Pluviométricas instaladas"
      ]
    },
    {
      "cell_type": "markdown",
      "metadata": {
        "id": "9zv0T8aK6zCd"
      },
      "source": [
        "# **value_counts() para cuantificar las corrientes hidricas monitoreadas**"
      ]
    },
    {
      "cell_type": "code",
      "metadata": {
        "colab": {
          "base_uri": "https://localhost:8080/",
          "height": 455
        },
        "id": "SxaBzs6W-Fuu",
        "outputId": "66020682-f515-429a-9686-1a8a7d8691ed"
      },
      "source": [
        "corriente_hidrica = centro_monitoreo_hidrico.groupby(['Departamento', 'Corriente', 'Categoria', 'Estado']).count()\n",
        "df_corriente_hidrica = pd.DataFrame(corriente_hidrica)\n",
        "df_corriente_hidrica"
      ],
      "execution_count": 47,
      "outputs": [
        {
          "output_type": "execute_result",
          "data": {
            "text/html": [
              "<div>\n",
              "<style scoped>\n",
              "    .dataframe tbody tr th:only-of-type {\n",
              "        vertical-align: middle;\n",
              "    }\n",
              "\n",
              "    .dataframe tbody tr th {\n",
              "        vertical-align: top;\n",
              "    }\n",
              "\n",
              "    .dataframe thead th {\n",
              "        text-align: right;\n",
              "    }\n",
              "</style>\n",
              "<table border=\"1\" class=\"dataframe\">\n",
              "  <thead>\n",
              "    <tr style=\"text-align: right;\">\n",
              "      <th></th>\n",
              "      <th></th>\n",
              "      <th></th>\n",
              "      <th></th>\n",
              "      <th>Codigo</th>\n",
              "      <th>Nombre</th>\n",
              "      <th>Municipio</th>\n",
              "      <th>Ubicación</th>\n",
              "      <th>Altitud</th>\n",
              "      <th>Fecha_instalacion</th>\n",
              "      <th>Fecha_suspension</th>\n",
              "    </tr>\n",
              "    <tr>\n",
              "      <th>Departamento</th>\n",
              "      <th>Corriente</th>\n",
              "      <th>Categoria</th>\n",
              "      <th>Estado</th>\n",
              "      <th></th>\n",
              "      <th></th>\n",
              "      <th></th>\n",
              "      <th></th>\n",
              "      <th></th>\n",
              "      <th></th>\n",
              "      <th></th>\n",
              "    </tr>\n",
              "  </thead>\n",
              "  <tbody>\n",
              "    <tr>\n",
              "      <th rowspan=\"5\" valign=\"top\">Amazonas</th>\n",
              "      <th rowspan=\"5\" valign=\"top\">0</th>\n",
              "      <th>Climática Ordinaria</th>\n",
              "      <th>Suspendida</th>\n",
              "      <td>1</td>\n",
              "      <td>1</td>\n",
              "      <td>1</td>\n",
              "      <td>1</td>\n",
              "      <td>1</td>\n",
              "      <td>1</td>\n",
              "      <td>1</td>\n",
              "    </tr>\n",
              "    <tr>\n",
              "      <th>Climática Principal</th>\n",
              "      <th>Activa</th>\n",
              "      <td>1</td>\n",
              "      <td>1</td>\n",
              "      <td>1</td>\n",
              "      <td>1</td>\n",
              "      <td>1</td>\n",
              "      <td>1</td>\n",
              "      <td>0</td>\n",
              "    </tr>\n",
              "    <tr>\n",
              "      <th>Meteorológica Especial</th>\n",
              "      <th>Suspendida</th>\n",
              "      <td>1</td>\n",
              "      <td>1</td>\n",
              "      <td>1</td>\n",
              "      <td>1</td>\n",
              "      <td>1</td>\n",
              "      <td>1</td>\n",
              "      <td>1</td>\n",
              "    </tr>\n",
              "    <tr>\n",
              "      <th>Pluviométrica</th>\n",
              "      <th>Activa</th>\n",
              "      <td>1</td>\n",
              "      <td>1</td>\n",
              "      <td>1</td>\n",
              "      <td>1</td>\n",
              "      <td>1</td>\n",
              "      <td>1</td>\n",
              "      <td>0</td>\n",
              "    </tr>\n",
              "    <tr>\n",
              "      <th>Radio Sonda</th>\n",
              "      <th>Activa</th>\n",
              "      <td>2</td>\n",
              "      <td>2</td>\n",
              "      <td>2</td>\n",
              "      <td>2</td>\n",
              "      <td>2</td>\n",
              "      <td>2</td>\n",
              "      <td>0</td>\n",
              "    </tr>\n",
              "    <tr>\n",
              "      <th>...</th>\n",
              "      <th>...</th>\n",
              "      <th>...</th>\n",
              "      <th>...</th>\n",
              "      <td>...</td>\n",
              "      <td>...</td>\n",
              "      <td>...</td>\n",
              "      <td>...</td>\n",
              "      <td>...</td>\n",
              "      <td>...</td>\n",
              "      <td>...</td>\n",
              "    </tr>\n",
              "    <tr>\n",
              "      <th rowspan=\"5\" valign=\"top\">Vichada</th>\n",
              "      <th>Quebrada Guatoque</th>\n",
              "      <th>Pluviométrica</th>\n",
              "      <th>Suspendida</th>\n",
              "      <td>1</td>\n",
              "      <td>1</td>\n",
              "      <td>1</td>\n",
              "      <td>1</td>\n",
              "      <td>1</td>\n",
              "      <td>1</td>\n",
              "      <td>1</td>\n",
              "    </tr>\n",
              "    <tr>\n",
              "      <th>Quebrada Idaza</th>\n",
              "      <th>Climática Ordinaria</th>\n",
              "      <th>Activa</th>\n",
              "      <td>1</td>\n",
              "      <td>1</td>\n",
              "      <td>1</td>\n",
              "      <td>1</td>\n",
              "      <td>1</td>\n",
              "      <td>1</td>\n",
              "      <td>0</td>\n",
              "    </tr>\n",
              "    <tr>\n",
              "      <th>Quebrada Los Pozos</th>\n",
              "      <th>Pluviométrica</th>\n",
              "      <th>Activa</th>\n",
              "      <td>1</td>\n",
              "      <td>1</td>\n",
              "      <td>1</td>\n",
              "      <td>1</td>\n",
              "      <td>1</td>\n",
              "      <td>1</td>\n",
              "      <td>0</td>\n",
              "    </tr>\n",
              "    <tr>\n",
              "      <th>Tuparro</th>\n",
              "      <th>Limnimétrica</th>\n",
              "      <th>Activa</th>\n",
              "      <td>2</td>\n",
              "      <td>2</td>\n",
              "      <td>2</td>\n",
              "      <td>2</td>\n",
              "      <td>2</td>\n",
              "      <td>2</td>\n",
              "      <td>0</td>\n",
              "    </tr>\n",
              "    <tr>\n",
              "      <th>Vichada</th>\n",
              "      <th>Limnimétrica</th>\n",
              "      <th>Activa</th>\n",
              "      <td>1</td>\n",
              "      <td>1</td>\n",
              "      <td>1</td>\n",
              "      <td>1</td>\n",
              "      <td>1</td>\n",
              "      <td>1</td>\n",
              "      <td>0</td>\n",
              "    </tr>\n",
              "  </tbody>\n",
              "</table>\n",
              "<p>5373 rows × 7 columns</p>\n",
              "</div>"
            ],
            "text/plain": [
              "                                                                   Codigo  ...  Fecha_suspension\n",
              "Departamento Corriente          Categoria              Estado              ...                  \n",
              "Amazonas     0                  Climática Ordinaria    Suspendida       1  ...                 1\n",
              "                                Climática Principal    Activa           1  ...                 0\n",
              "                                Meteorológica Especial Suspendida       1  ...                 1\n",
              "                                Pluviométrica          Activa           1  ...                 0\n",
              "                                Radio Sonda            Activa           2  ...                 0\n",
              "...                                                                   ...  ...               ...\n",
              "Vichada      Quebrada Guatoque  Pluviométrica          Suspendida       1  ...                 1\n",
              "             Quebrada Idaza     Climática Ordinaria    Activa           1  ...                 0\n",
              "             Quebrada Los Pozos Pluviométrica          Activa           1  ...                 0\n",
              "             Tuparro            Limnimétrica           Activa           2  ...                 0\n",
              "             Vichada            Limnimétrica           Activa           1  ...                 0\n",
              "\n",
              "[5373 rows x 7 columns]"
            ]
          },
          "metadata": {
            "tags": []
          },
          "execution_count": 47
        }
      ]
    },
    {
      "cell_type": "markdown",
      "metadata": {
        "id": "UelY-o1zF4ji"
      },
      "source": [
        "Vemos que me imprimio todas las columnas con un valor. Sin embargo, no requiero todos los valores del DataFrame. Por lo tanto, **renombro la columna 'Codigo' por 'Total'**"
      ]
    },
    {
      "cell_type": "code",
      "metadata": {
        "colab": {
          "base_uri": "https://localhost:8080/",
          "height": 455
        },
        "id": "k1UhQ2nIEhIC",
        "outputId": "18bb9b3e-7747-457e-93be-d4d310d943b9"
      },
      "source": [
        "renombrar_columna_codigo = df_corriente_hidrica.rename(columns={'Codigo': 'Total'})\n",
        "renombrar_columna_codigo"
      ],
      "execution_count": 48,
      "outputs": [
        {
          "output_type": "execute_result",
          "data": {
            "text/html": [
              "<div>\n",
              "<style scoped>\n",
              "    .dataframe tbody tr th:only-of-type {\n",
              "        vertical-align: middle;\n",
              "    }\n",
              "\n",
              "    .dataframe tbody tr th {\n",
              "        vertical-align: top;\n",
              "    }\n",
              "\n",
              "    .dataframe thead th {\n",
              "        text-align: right;\n",
              "    }\n",
              "</style>\n",
              "<table border=\"1\" class=\"dataframe\">\n",
              "  <thead>\n",
              "    <tr style=\"text-align: right;\">\n",
              "      <th></th>\n",
              "      <th></th>\n",
              "      <th></th>\n",
              "      <th></th>\n",
              "      <th>Total</th>\n",
              "      <th>Nombre</th>\n",
              "      <th>Municipio</th>\n",
              "      <th>Ubicación</th>\n",
              "      <th>Altitud</th>\n",
              "      <th>Fecha_instalacion</th>\n",
              "      <th>Fecha_suspension</th>\n",
              "    </tr>\n",
              "    <tr>\n",
              "      <th>Departamento</th>\n",
              "      <th>Corriente</th>\n",
              "      <th>Categoria</th>\n",
              "      <th>Estado</th>\n",
              "      <th></th>\n",
              "      <th></th>\n",
              "      <th></th>\n",
              "      <th></th>\n",
              "      <th></th>\n",
              "      <th></th>\n",
              "      <th></th>\n",
              "    </tr>\n",
              "  </thead>\n",
              "  <tbody>\n",
              "    <tr>\n",
              "      <th rowspan=\"5\" valign=\"top\">Amazonas</th>\n",
              "      <th rowspan=\"5\" valign=\"top\">0</th>\n",
              "      <th>Climática Ordinaria</th>\n",
              "      <th>Suspendida</th>\n",
              "      <td>1</td>\n",
              "      <td>1</td>\n",
              "      <td>1</td>\n",
              "      <td>1</td>\n",
              "      <td>1</td>\n",
              "      <td>1</td>\n",
              "      <td>1</td>\n",
              "    </tr>\n",
              "    <tr>\n",
              "      <th>Climática Principal</th>\n",
              "      <th>Activa</th>\n",
              "      <td>1</td>\n",
              "      <td>1</td>\n",
              "      <td>1</td>\n",
              "      <td>1</td>\n",
              "      <td>1</td>\n",
              "      <td>1</td>\n",
              "      <td>0</td>\n",
              "    </tr>\n",
              "    <tr>\n",
              "      <th>Meteorológica Especial</th>\n",
              "      <th>Suspendida</th>\n",
              "      <td>1</td>\n",
              "      <td>1</td>\n",
              "      <td>1</td>\n",
              "      <td>1</td>\n",
              "      <td>1</td>\n",
              "      <td>1</td>\n",
              "      <td>1</td>\n",
              "    </tr>\n",
              "    <tr>\n",
              "      <th>Pluviométrica</th>\n",
              "      <th>Activa</th>\n",
              "      <td>1</td>\n",
              "      <td>1</td>\n",
              "      <td>1</td>\n",
              "      <td>1</td>\n",
              "      <td>1</td>\n",
              "      <td>1</td>\n",
              "      <td>0</td>\n",
              "    </tr>\n",
              "    <tr>\n",
              "      <th>Radio Sonda</th>\n",
              "      <th>Activa</th>\n",
              "      <td>2</td>\n",
              "      <td>2</td>\n",
              "      <td>2</td>\n",
              "      <td>2</td>\n",
              "      <td>2</td>\n",
              "      <td>2</td>\n",
              "      <td>0</td>\n",
              "    </tr>\n",
              "    <tr>\n",
              "      <th>...</th>\n",
              "      <th>...</th>\n",
              "      <th>...</th>\n",
              "      <th>...</th>\n",
              "      <td>...</td>\n",
              "      <td>...</td>\n",
              "      <td>...</td>\n",
              "      <td>...</td>\n",
              "      <td>...</td>\n",
              "      <td>...</td>\n",
              "      <td>...</td>\n",
              "    </tr>\n",
              "    <tr>\n",
              "      <th rowspan=\"5\" valign=\"top\">Vichada</th>\n",
              "      <th>Quebrada Guatoque</th>\n",
              "      <th>Pluviométrica</th>\n",
              "      <th>Suspendida</th>\n",
              "      <td>1</td>\n",
              "      <td>1</td>\n",
              "      <td>1</td>\n",
              "      <td>1</td>\n",
              "      <td>1</td>\n",
              "      <td>1</td>\n",
              "      <td>1</td>\n",
              "    </tr>\n",
              "    <tr>\n",
              "      <th>Quebrada Idaza</th>\n",
              "      <th>Climática Ordinaria</th>\n",
              "      <th>Activa</th>\n",
              "      <td>1</td>\n",
              "      <td>1</td>\n",
              "      <td>1</td>\n",
              "      <td>1</td>\n",
              "      <td>1</td>\n",
              "      <td>1</td>\n",
              "      <td>0</td>\n",
              "    </tr>\n",
              "    <tr>\n",
              "      <th>Quebrada Los Pozos</th>\n",
              "      <th>Pluviométrica</th>\n",
              "      <th>Activa</th>\n",
              "      <td>1</td>\n",
              "      <td>1</td>\n",
              "      <td>1</td>\n",
              "      <td>1</td>\n",
              "      <td>1</td>\n",
              "      <td>1</td>\n",
              "      <td>0</td>\n",
              "    </tr>\n",
              "    <tr>\n",
              "      <th>Tuparro</th>\n",
              "      <th>Limnimétrica</th>\n",
              "      <th>Activa</th>\n",
              "      <td>2</td>\n",
              "      <td>2</td>\n",
              "      <td>2</td>\n",
              "      <td>2</td>\n",
              "      <td>2</td>\n",
              "      <td>2</td>\n",
              "      <td>0</td>\n",
              "    </tr>\n",
              "    <tr>\n",
              "      <th>Vichada</th>\n",
              "      <th>Limnimétrica</th>\n",
              "      <th>Activa</th>\n",
              "      <td>1</td>\n",
              "      <td>1</td>\n",
              "      <td>1</td>\n",
              "      <td>1</td>\n",
              "      <td>1</td>\n",
              "      <td>1</td>\n",
              "      <td>0</td>\n",
              "    </tr>\n",
              "  </tbody>\n",
              "</table>\n",
              "<p>5373 rows × 7 columns</p>\n",
              "</div>"
            ],
            "text/plain": [
              "                                                                   Total  ...  Fecha_suspension\n",
              "Departamento Corriente          Categoria              Estado             ...                  \n",
              "Amazonas     0                  Climática Ordinaria    Suspendida      1  ...                 1\n",
              "                                Climática Principal    Activa          1  ...                 0\n",
              "                                Meteorológica Especial Suspendida      1  ...                 1\n",
              "                                Pluviométrica          Activa          1  ...                 0\n",
              "                                Radio Sonda            Activa          2  ...                 0\n",
              "...                                                                  ...  ...               ...\n",
              "Vichada      Quebrada Guatoque  Pluviométrica          Suspendida      1  ...                 1\n",
              "             Quebrada Idaza     Climática Ordinaria    Activa          1  ...                 0\n",
              "             Quebrada Los Pozos Pluviométrica          Activa          1  ...                 0\n",
              "             Tuparro            Limnimétrica           Activa          2  ...                 0\n",
              "             Vichada            Limnimétrica           Activa          1  ...                 0\n",
              "\n",
              "[5373 rows x 7 columns]"
            ]
          },
          "metadata": {
            "tags": []
          },
          "execution_count": 48
        }
      ]
    },
    {
      "cell_type": "markdown",
      "metadata": {
        "id": "-HNd1NvLGkOy"
      },
      "source": [
        "Ahora que la he renombrado, solo quiero visualizar los datos hasta la columna 'Total'"
      ]
    },
    {
      "cell_type": "code",
      "metadata": {
        "colab": {
          "base_uri": "https://localhost:8080/",
          "height": 455
        },
        "id": "stKwDAJmFqRL",
        "outputId": "ec19dcb7-b818-49de-f439-d2b44ed90934"
      },
      "source": [
        "renombrar_columna_codigo.iloc[:, [0]]"
      ],
      "execution_count": 49,
      "outputs": [
        {
          "output_type": "execute_result",
          "data": {
            "text/html": [
              "<div>\n",
              "<style scoped>\n",
              "    .dataframe tbody tr th:only-of-type {\n",
              "        vertical-align: middle;\n",
              "    }\n",
              "\n",
              "    .dataframe tbody tr th {\n",
              "        vertical-align: top;\n",
              "    }\n",
              "\n",
              "    .dataframe thead th {\n",
              "        text-align: right;\n",
              "    }\n",
              "</style>\n",
              "<table border=\"1\" class=\"dataframe\">\n",
              "  <thead>\n",
              "    <tr style=\"text-align: right;\">\n",
              "      <th></th>\n",
              "      <th></th>\n",
              "      <th></th>\n",
              "      <th></th>\n",
              "      <th>Total</th>\n",
              "    </tr>\n",
              "    <tr>\n",
              "      <th>Departamento</th>\n",
              "      <th>Corriente</th>\n",
              "      <th>Categoria</th>\n",
              "      <th>Estado</th>\n",
              "      <th></th>\n",
              "    </tr>\n",
              "  </thead>\n",
              "  <tbody>\n",
              "    <tr>\n",
              "      <th rowspan=\"5\" valign=\"top\">Amazonas</th>\n",
              "      <th rowspan=\"5\" valign=\"top\">0</th>\n",
              "      <th>Climática Ordinaria</th>\n",
              "      <th>Suspendida</th>\n",
              "      <td>1</td>\n",
              "    </tr>\n",
              "    <tr>\n",
              "      <th>Climática Principal</th>\n",
              "      <th>Activa</th>\n",
              "      <td>1</td>\n",
              "    </tr>\n",
              "    <tr>\n",
              "      <th>Meteorológica Especial</th>\n",
              "      <th>Suspendida</th>\n",
              "      <td>1</td>\n",
              "    </tr>\n",
              "    <tr>\n",
              "      <th>Pluviométrica</th>\n",
              "      <th>Activa</th>\n",
              "      <td>1</td>\n",
              "    </tr>\n",
              "    <tr>\n",
              "      <th>Radio Sonda</th>\n",
              "      <th>Activa</th>\n",
              "      <td>2</td>\n",
              "    </tr>\n",
              "    <tr>\n",
              "      <th>...</th>\n",
              "      <th>...</th>\n",
              "      <th>...</th>\n",
              "      <th>...</th>\n",
              "      <td>...</td>\n",
              "    </tr>\n",
              "    <tr>\n",
              "      <th rowspan=\"5\" valign=\"top\">Vichada</th>\n",
              "      <th>Quebrada Guatoque</th>\n",
              "      <th>Pluviométrica</th>\n",
              "      <th>Suspendida</th>\n",
              "      <td>1</td>\n",
              "    </tr>\n",
              "    <tr>\n",
              "      <th>Quebrada Idaza</th>\n",
              "      <th>Climática Ordinaria</th>\n",
              "      <th>Activa</th>\n",
              "      <td>1</td>\n",
              "    </tr>\n",
              "    <tr>\n",
              "      <th>Quebrada Los Pozos</th>\n",
              "      <th>Pluviométrica</th>\n",
              "      <th>Activa</th>\n",
              "      <td>1</td>\n",
              "    </tr>\n",
              "    <tr>\n",
              "      <th>Tuparro</th>\n",
              "      <th>Limnimétrica</th>\n",
              "      <th>Activa</th>\n",
              "      <td>2</td>\n",
              "    </tr>\n",
              "    <tr>\n",
              "      <th>Vichada</th>\n",
              "      <th>Limnimétrica</th>\n",
              "      <th>Activa</th>\n",
              "      <td>1</td>\n",
              "    </tr>\n",
              "  </tbody>\n",
              "</table>\n",
              "<p>5373 rows × 1 columns</p>\n",
              "</div>"
            ],
            "text/plain": [
              "                                                                   Total\n",
              "Departamento Corriente          Categoria              Estado           \n",
              "Amazonas     0                  Climática Ordinaria    Suspendida      1\n",
              "                                Climática Principal    Activa          1\n",
              "                                Meteorológica Especial Suspendida      1\n",
              "                                Pluviométrica          Activa          1\n",
              "                                Radio Sonda            Activa          2\n",
              "...                                                                  ...\n",
              "Vichada      Quebrada Guatoque  Pluviométrica          Suspendida      1\n",
              "             Quebrada Idaza     Climática Ordinaria    Activa          1\n",
              "             Quebrada Los Pozos Pluviométrica          Activa          1\n",
              "             Tuparro            Limnimétrica           Activa          2\n",
              "             Vichada            Limnimétrica           Activa          1\n",
              "\n",
              "[5373 rows x 1 columns]"
            ]
          },
          "metadata": {
            "tags": []
          },
          "execution_count": 49
        }
      ]
    },
    {
      "cell_type": "code",
      "metadata": {
        "colab": {
          "base_uri": "https://localhost:8080/",
          "height": 394
        },
        "id": "NNvm1UEaHzR_",
        "outputId": "9d5d9e01-7572-4016-fd9b-8e6e58a85004"
      },
      "source": [
        "renombrar_columna_codigo.query('Corriente == \"Medellin\"')"
      ],
      "execution_count": 50,
      "outputs": [
        {
          "output_type": "execute_result",
          "data": {
            "text/html": [
              "<div>\n",
              "<style scoped>\n",
              "    .dataframe tbody tr th:only-of-type {\n",
              "        vertical-align: middle;\n",
              "    }\n",
              "\n",
              "    .dataframe tbody tr th {\n",
              "        vertical-align: top;\n",
              "    }\n",
              "\n",
              "    .dataframe thead th {\n",
              "        text-align: right;\n",
              "    }\n",
              "</style>\n",
              "<table border=\"1\" class=\"dataframe\">\n",
              "  <thead>\n",
              "    <tr style=\"text-align: right;\">\n",
              "      <th></th>\n",
              "      <th></th>\n",
              "      <th></th>\n",
              "      <th></th>\n",
              "      <th>Total</th>\n",
              "      <th>Nombre</th>\n",
              "      <th>Municipio</th>\n",
              "      <th>Ubicación</th>\n",
              "      <th>Altitud</th>\n",
              "      <th>Fecha_instalacion</th>\n",
              "      <th>Fecha_suspension</th>\n",
              "    </tr>\n",
              "    <tr>\n",
              "      <th>Departamento</th>\n",
              "      <th>Corriente</th>\n",
              "      <th>Categoria</th>\n",
              "      <th>Estado</th>\n",
              "      <th></th>\n",
              "      <th></th>\n",
              "      <th></th>\n",
              "      <th></th>\n",
              "      <th></th>\n",
              "      <th></th>\n",
              "      <th></th>\n",
              "    </tr>\n",
              "  </thead>\n",
              "  <tbody>\n",
              "    <tr>\n",
              "      <th rowspan=\"7\" valign=\"top\">Antioquia</th>\n",
              "      <th rowspan=\"7\" valign=\"top\">Medellin</th>\n",
              "      <th rowspan=\"2\" valign=\"top\">Limnigráfica</th>\n",
              "      <th>Activa</th>\n",
              "      <td>5</td>\n",
              "      <td>5</td>\n",
              "      <td>5</td>\n",
              "      <td>5</td>\n",
              "      <td>5</td>\n",
              "      <td>5</td>\n",
              "      <td>0</td>\n",
              "    </tr>\n",
              "    <tr>\n",
              "      <th>Suspendida</th>\n",
              "      <td>6</td>\n",
              "      <td>6</td>\n",
              "      <td>6</td>\n",
              "      <td>6</td>\n",
              "      <td>6</td>\n",
              "      <td>6</td>\n",
              "      <td>6</td>\n",
              "    </tr>\n",
              "    <tr>\n",
              "      <th>Limnimétrica</th>\n",
              "      <th>Activa</th>\n",
              "      <td>1</td>\n",
              "      <td>1</td>\n",
              "      <td>1</td>\n",
              "      <td>1</td>\n",
              "      <td>1</td>\n",
              "      <td>1</td>\n",
              "      <td>0</td>\n",
              "    </tr>\n",
              "    <tr>\n",
              "      <th rowspan=\"2\" valign=\"top\">Pluviográfica</th>\n",
              "      <th>Activa</th>\n",
              "      <td>6</td>\n",
              "      <td>6</td>\n",
              "      <td>6</td>\n",
              "      <td>6</td>\n",
              "      <td>6</td>\n",
              "      <td>6</td>\n",
              "      <td>0</td>\n",
              "    </tr>\n",
              "    <tr>\n",
              "      <th>Suspendida</th>\n",
              "      <td>2</td>\n",
              "      <td>2</td>\n",
              "      <td>2</td>\n",
              "      <td>2</td>\n",
              "      <td>2</td>\n",
              "      <td>2</td>\n",
              "      <td>2</td>\n",
              "    </tr>\n",
              "    <tr>\n",
              "      <th rowspan=\"2\" valign=\"top\">Pluviométrica</th>\n",
              "      <th>Activa</th>\n",
              "      <td>1</td>\n",
              "      <td>1</td>\n",
              "      <td>1</td>\n",
              "      <td>1</td>\n",
              "      <td>1</td>\n",
              "      <td>1</td>\n",
              "      <td>0</td>\n",
              "    </tr>\n",
              "    <tr>\n",
              "      <th>Suspendida</th>\n",
              "      <td>1</td>\n",
              "      <td>1</td>\n",
              "      <td>1</td>\n",
              "      <td>1</td>\n",
              "      <td>1</td>\n",
              "      <td>1</td>\n",
              "      <td>1</td>\n",
              "    </tr>\n",
              "    <tr>\n",
              "      <th>Boyacá</th>\n",
              "      <th>Medellin</th>\n",
              "      <th>Pluviométrica</th>\n",
              "      <th>Activa</th>\n",
              "      <td>1</td>\n",
              "      <td>1</td>\n",
              "      <td>1</td>\n",
              "      <td>1</td>\n",
              "      <td>1</td>\n",
              "      <td>0</td>\n",
              "      <td>0</td>\n",
              "    </tr>\n",
              "    <tr>\n",
              "      <th>Santander</th>\n",
              "      <th>Medellin</th>\n",
              "      <th>Pluviométrica</th>\n",
              "      <th>Activa</th>\n",
              "      <td>1</td>\n",
              "      <td>1</td>\n",
              "      <td>1</td>\n",
              "      <td>1</td>\n",
              "      <td>1</td>\n",
              "      <td>0</td>\n",
              "      <td>0</td>\n",
              "    </tr>\n",
              "    <tr>\n",
              "      <th>Vichada</th>\n",
              "      <th>Medellin</th>\n",
              "      <th>Sinóptica Principal</th>\n",
              "      <th>Suspendida</th>\n",
              "      <td>1</td>\n",
              "      <td>1</td>\n",
              "      <td>1</td>\n",
              "      <td>1</td>\n",
              "      <td>1</td>\n",
              "      <td>1</td>\n",
              "      <td>1</td>\n",
              "    </tr>\n",
              "  </tbody>\n",
              "</table>\n",
              "</div>"
            ],
            "text/plain": [
              "                                                       Total  ...  Fecha_suspension\n",
              "Departamento Corriente Categoria           Estado             ...                  \n",
              "Antioquia    Medellin  Limnigráfica        Activa          5  ...                 0\n",
              "                                           Suspendida      6  ...                 6\n",
              "                       Limnimétrica        Activa          1  ...                 0\n",
              "                       Pluviográfica       Activa          6  ...                 0\n",
              "                                           Suspendida      2  ...                 2\n",
              "                       Pluviométrica       Activa          1  ...                 0\n",
              "                                           Suspendida      1  ...                 1\n",
              "Boyacá       Medellin  Pluviométrica       Activa          1  ...                 0\n",
              "Santander    Medellin  Pluviométrica       Activa          1  ...                 0\n",
              "Vichada      Medellin  Sinóptica Principal Suspendida      1  ...                 1\n",
              "\n",
              "[10 rows x 7 columns]"
            ]
          },
          "metadata": {
            "tags": []
          },
          "execution_count": 50
        }
      ]
    },
    {
      "cell_type": "markdown",
      "metadata": {
        "id": "P-4ZpnILZijf"
      },
      "source": [
        "El la corriente o rio Cali, pertenece netamente al Dpto del Valle del Cauca. Estos datos presentarón importantes errores. Este es uno de ellos. \n",
        "\n",
        "Pero, dado que la finalidad de este proyecto ha sido practicar y profundizar conceptos y temas vistos durante mi aprendizaje en DataCamp. No profundizaré o intentaré corregir dichos errores. "
      ]
    }
  ]
}