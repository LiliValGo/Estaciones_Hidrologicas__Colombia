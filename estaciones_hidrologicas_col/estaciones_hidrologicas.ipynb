{
  "nbformat": 4,
  "nbformat_minor": 0,
  "metadata": {
    "colab": {
      "name": "estaciones_hidrologicas.ipynb",
      "provenance": [],
      "collapsed_sections": []
    },
    "kernelspec": {
      "name": "python3",
      "display_name": "Python 3"
    }
  },
  "cells": [
    {
      "cell_type": "markdown",
      "metadata": {
        "id": "6T3DyxOO2gLF"
      },
      "source": [
        "# **Estaciones Hidrológicas de Colombia**"
      ]
    },
    {
      "cell_type": "markdown",
      "metadata": {
        "id": "5imEl7oqxXot"
      },
      "source": [
        "## **¿Qué hay en los datos?**\n",
        "\n",
        "En el Dataset encontrarás información sobre la categorización y estado de las estaciones hidrológicas ubicadas en el territorio nacional(Fuentes hidrícas monitoreadas). Tambien información de geolocalización (Departamento, Municipio y Coordenadas).Los datos fueron extraidos de [datos.gov.co](https://www.datos.gov.co/Ambiente-y-Desarrollo-Sostenible/estaciones-hidrologicas/bzh5-mste\n",
        ")"
      ]
    },
    {
      "cell_type": "markdown",
      "metadata": {
        "id": "lBhd-nxay6Al"
      },
      "source": [
        "## **¿Qué quiero saber?**\n",
        "\n",
        "1.   ¿Cuál es la cantidad de estaciones Activas, Suspendidas o En Mantenimiento? \n",
        "\n",
        "2.   ¿Cuál es el tipo de estación de mayor presencia en el territorio nacional?\n",
        "\n",
        "3. ¿Cuáles son los 5 principales departamentos con mayor número de estaciones? \n",
        "\n",
        "4. ¿Cuál es la fuente hídrica mayormente monitoreada?\n"
      ]
    },
    {
      "cell_type": "markdown",
      "metadata": {
        "id": "CPP16uVp4V_X"
      },
      "source": [
        "## **¿Qué debes saber?**\n",
        "\n",
        "**1. Tipos de Estaciones Hidrológicas**\n",
        "\n",
        "Conceptos extraidos de: \n",
        "[DEFINICIONES DEL CATÁLOGO NACIONAL DE ESTACIONES\n",
        " ](http://www.ideam.gov.co/documents/10182/557765/Definiciones+CNE.pdf/25e1cca5-ee47-4eaf-86c0-c4f5192a9937)\n",
        "\n",
        "\n",
        "> **Pluviométrica:** Es una estación meteorológica dotada de un pluviómetro o recipiente que permite medir la cantidad de lluvia caída entre dos observaciones consecutivas\n",
        "\n",
        "\n",
        "\n",
        "> **Limnimétrica:** Estación donde se mide el nivel de una corriente hídrica mediante un aparato (mira dividida en centímetros) que mide altura del agua, sin registrarla. Una persona toma el dato y lo registra en una libreta.\n",
        "\n",
        "\n",
        "\n",
        "> **Climatológica Ordinaria:** Es aquella en la cual se hacen observaciones de precipitación, temperatura del aire, temperaturas máxima y mínima a 2 metros y humedad primordialmente. Poseen muy poco instrumental registrador. Algunas llevan instrumentos adicionales tales como tanque de evaporación, heliógrafo y anemómetro.\n",
        "\n",
        "> **Limnigráfica:** Estación donde se mide el nivel de una corriente hídrica mediante un aparato registrador de nivel y que grafica una curva llamada limnigrama\n",
        "\n",
        "\n",
        "> **Pluviográfica:** Registra en forma mecánica y continua la precipitación, en una gráfica que permite conocer la cantidad, duración, intensidad y periodo en que ha ocurrido la lluvia. Actualmente se utilizan los pluviógrafos de registro diario\n",
        "\n",
        "> **Climatológica Principal:** Es aquella en la cual se hacen observaciones de visibilidad, tiempo atmosférico presente, cantidad, tipo y altura de las nubes, estado del suelo, precipitación, temperatura del aire, humedad, viento, radiación, solar, brillo solar, evaporación y fenómenos especiales\n",
        "\n",
        "> **Meteorológica especial:** Estación instalada para realizar seguimiento a un fenómeno o un fin específico, por ejemplo, las heladas\n",
        "\n",
        "> **Mareográfica:** Estaciones para observación del estado del mar. Mide nivel, temperatura y salinidad de las aguas marinas\n",
        "\n",
        "> **Agrometeorológica:** Determina las relaciones entre el tiempo y el clima, por una parte y la vida de las plantas y los animales, por la otra\n",
        "\n",
        "> **Sinóptica Secundaria:** Al igual que en la estación anterior, las observaciones se realizan a horas convenidas internacionalmente y los datos corresponden comúnmente a visibilidad, fenómenos especiales, tiempo atmosférico, nubosidad, estado del suelo, precipitación, temperatura del aire, humedad del aire y viento\n",
        "\n",
        "> **Sinóptica Principal:** Se efectúan observaciones de los principales elementos meteorológicos en horas convenidas internacionalmente. Los datos se toman horariamente y corresponden a nubosidad, dirección y velocidad de los vientos, presión atmosférica, temperatura del aire, tipo y altura de las nubes, visibilidad, fenómenos especiales, características de humedad, precipitación, temperaturas extremas, capas significativas de nubes, recorrido del viento y secuencia de los fenómenos atmosféricos\n",
        "\n",
        "> **Radiosonda:** Tiene por finalidad la observación de temperaturas, presión, humedad y viento en las capas altas de la atmósfera (tropósfera y baja estratósfera), mediante el rastreo, por medios electrónicos o de radar, de la trayectoria de un globo meteorológico que asciende libremente\n",
        "\n"
      ]
    },
    {
      "cell_type": "markdown",
      "metadata": {
        "id": "wgXDoWcpcF28"
      },
      "source": [
        "#**Carga del Archivo CSV**"
      ]
    },
    {
      "cell_type": "code",
      "metadata": {
        "colab": {
          "resources": {
            "http://localhost:8080/nbextensions/google.colab/files.js": {
              "data": "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",
              "ok": true,
              "headers": [
                [
                  "content-type",
                  "application/javascript"
                ]
              ],
              "status": 200,
              "status_text": ""
            }
          },
          "base_uri": "https://localhost:8080/",
          "height": 73
        },
        "id": "lGuonT-x2YZa",
        "outputId": "b0b14973-9be5-4605-d1d6-7f4141591541"
      },
      "source": [
        "# cargar el csv con colab\n",
        "from google.colab import files\n",
        "import pandas as pd\n",
        "#Sube el archivo desde el pc\n",
        "uploaded = files.upload()\n",
        "# obtenemos la ruta en colab del archivo csv cargado con colab\n",
        "filePath = next(iter(uploaded))\n",
        "# leemos el archivo csv y lo pasamos a pandas\n",
        "df=pd.read_csv(filePath)\n"
      ],
      "execution_count": null,
      "outputs": [
        {
          "output_type": "display_data",
          "data": {
            "text/html": [
              "\n",
              "     <input type=\"file\" id=\"files-0afa306d-67a9-482e-b173-df2578834c5c\" name=\"files[]\" multiple disabled\n",
              "        style=\"border:none\" />\n",
              "     <output id=\"result-0afa306d-67a9-482e-b173-df2578834c5c\">\n",
              "      Upload widget is only available when the cell has been executed in the\n",
              "      current browser session. Please rerun this cell to enable.\n",
              "      </output>\n",
              "      <script src=\"/nbextensions/google.colab/files.js\"></script> "
            ],
            "text/plain": [
              "<IPython.core.display.HTML object>"
            ]
          },
          "metadata": {
            "tags": []
          }
        },
        {
          "output_type": "stream",
          "text": [
            "Saving estaciones_hidrologicas.csv to estaciones_hidrologicas.csv\n"
          ],
          "name": "stdout"
        }
      ]
    },
    {
      "cell_type": "markdown",
      "metadata": {
        "id": "d5fCK4k0ceES"
      },
      "source": [
        "# **Importación de Librerias**"
      ]
    },
    {
      "cell_type": "code",
      "metadata": {
        "id": "eDW1MiNH4lJN"
      },
      "source": [
        "import pandas as pd\n",
        "import datetime\n",
        "import matplotlib.pyplot as plt\n",
        "import seaborn as sns\n",
        "import numpy as np\n"
      ],
      "execution_count": null,
      "outputs": []
    },
    {
      "cell_type": "markdown",
      "metadata": {
        "id": "wbpD57ABcpcW"
      },
      "source": [
        "# **Creación del DataFrame**"
      ]
    },
    {
      "cell_type": "code",
      "metadata": {
        "colab": {
          "base_uri": "https://localhost:8080/",
          "height": 402
        },
        "id": "oQpRLTRq3BY0",
        "outputId": "da11d07b-ce87-4623-f92d-11bdbf7498fb"
      },
      "source": [
        "import pandas as pd\n",
        "centro_monitoreo_hidrico = pd.read_csv('estaciones_hidrologicas.csv')\n",
        "centro_monitoreo_hidrico"
      ],
      "execution_count": null,
      "outputs": [
        {
          "output_type": "execute_result",
          "data": {
            "text/html": [
              "<div>\n",
              "<style scoped>\n",
              "    .dataframe tbody tr th:only-of-type {\n",
              "        vertical-align: middle;\n",
              "    }\n",
              "\n",
              "    .dataframe tbody tr th {\n",
              "        vertical-align: top;\n",
              "    }\n",
              "\n",
              "    .dataframe thead th {\n",
              "        text-align: right;\n",
              "    }\n",
              "</style>\n",
              "<table border=\"1\" class=\"dataframe\">\n",
              "  <thead>\n",
              "    <tr style=\"text-align: right;\">\n",
              "      <th></th>\n",
              "      <th>Codigo</th>\n",
              "      <th>Nombre</th>\n",
              "      <th>Categoria</th>\n",
              "      <th>Estado</th>\n",
              "      <th>Departamento</th>\n",
              "      <th>Municipio</th>\n",
              "      <th>Ubicación</th>\n",
              "      <th>Altitud</th>\n",
              "      <th>Fecha_instalacion</th>\n",
              "      <th>Fecha_suspension</th>\n",
              "      <th>Corriente</th>\n",
              "    </tr>\n",
              "  </thead>\n",
              "  <tbody>\n",
              "    <tr>\n",
              "      <th>0</th>\n",
              "      <td>52057100</td>\n",
              "      <td>RUMICHACA - AUT [52057100]</td>\n",
              "      <td>Limnigráfica</td>\n",
              "      <td>Activa</td>\n",
              "      <td>Nariño</td>\n",
              "      <td>Ipiales</td>\n",
              "      <td>(0.81378611, -77.66197778)</td>\n",
              "      <td>2,582</td>\n",
              "      <td>2016-11-15</td>\n",
              "      <td>NaN</td>\n",
              "      <td>Guaitara</td>\n",
              "    </tr>\n",
              "    <tr>\n",
              "      <th>1</th>\n",
              "      <td>52055170</td>\n",
              "      <td>LA JOSEFINA - AUT [52055170]</td>\n",
              "      <td>Climática Principal</td>\n",
              "      <td>Activa</td>\n",
              "      <td>Nariño</td>\n",
              "      <td>Contadero</td>\n",
              "      <td>(0.93030556, -77.49119444)</td>\n",
              "      <td>2,450</td>\n",
              "      <td>2005-12-10</td>\n",
              "      <td>NaN</td>\n",
              "      <td>Guaitara</td>\n",
              "    </tr>\n",
              "    <tr>\n",
              "      <th>2</th>\n",
              "      <td>52055220</td>\n",
              "      <td>EL PARAISO - AUT [52055220]</td>\n",
              "      <td>Climática Principal</td>\n",
              "      <td>Activa</td>\n",
              "      <td>Nariño</td>\n",
              "      <td>Túquerres</td>\n",
              "      <td>(1.07061111, -77.63688889)</td>\n",
              "      <td>3,120</td>\n",
              "      <td>2004-03-01</td>\n",
              "      <td>NaN</td>\n",
              "      <td>Guaitara</td>\n",
              "    </tr>\n",
              "    <tr>\n",
              "      <th>3</th>\n",
              "      <td>44015070</td>\n",
              "      <td>EL PEPINO - AUT [44015070]</td>\n",
              "      <td>Climática Principal</td>\n",
              "      <td>Activa</td>\n",
              "      <td>Putumayo</td>\n",
              "      <td>Mocoa</td>\n",
              "      <td>(1.08288889, -76.66711111)</td>\n",
              "      <td>760</td>\n",
              "      <td>2005-11-11</td>\n",
              "      <td>NaN</td>\n",
              "      <td>Guaitara</td>\n",
              "    </tr>\n",
              "    <tr>\n",
              "      <th>4</th>\n",
              "      <td>48015040</td>\n",
              "      <td>PUERTO NARINO - AUT [48015040]</td>\n",
              "      <td>Climática Principal</td>\n",
              "      <td>Activa</td>\n",
              "      <td>Amazonas</td>\n",
              "      <td>Puerto Nariño</td>\n",
              "      <td>(-3.78030556, -70.36263889)</td>\n",
              "      <td>158</td>\n",
              "      <td>2005-07-19</td>\n",
              "      <td>NaN</td>\n",
              "      <td>Amazonas</td>\n",
              "    </tr>\n",
              "    <tr>\n",
              "      <th>...</th>\n",
              "      <td>...</td>\n",
              "      <td>...</td>\n",
              "      <td>...</td>\n",
              "      <td>...</td>\n",
              "      <td>...</td>\n",
              "      <td>...</td>\n",
              "      <td>...</td>\n",
              "      <td>...</td>\n",
              "      <td>...</td>\n",
              "      <td>...</td>\n",
              "      <td>...</td>\n",
              "    </tr>\n",
              "    <tr>\n",
              "      <th>8968</th>\n",
              "      <td>4401700167</td>\n",
              "      <td>NIVEL SANGOYACO GARGANTA</td>\n",
              "      <td>Limnimétrica</td>\n",
              "      <td>Activa</td>\n",
              "      <td>Putumayo</td>\n",
              "      <td>Mocoa</td>\n",
              "      <td>(1.15872222, -76.67080556)</td>\n",
              "      <td>761</td>\n",
              "      <td>2020-02-25</td>\n",
              "      <td>NaN</td>\n",
              "      <td>Mocoa</td>\n",
              "    </tr>\n",
              "    <tr>\n",
              "      <th>8969</th>\n",
              "      <td>4401700168</td>\n",
              "      <td>NIVEL MULATO PALMERAS</td>\n",
              "      <td>Limnimétrica</td>\n",
              "      <td>Activa</td>\n",
              "      <td>Putumayo</td>\n",
              "      <td>Mocoa</td>\n",
              "      <td>(1.15638889, -76.69027778)</td>\n",
              "      <td>966</td>\n",
              "      <td>2020-02-25</td>\n",
              "      <td>NaN</td>\n",
              "      <td>Mocoa</td>\n",
              "    </tr>\n",
              "    <tr>\n",
              "      <th>8970</th>\n",
              "      <td>4401700172</td>\n",
              "      <td>NIVEL MOCOA PISCIKART</td>\n",
              "      <td>Limnimétrica</td>\n",
              "      <td>Activa</td>\n",
              "      <td>Putumayo</td>\n",
              "      <td>Villagarzón</td>\n",
              "      <td>(1.03964167, -76.61091944)</td>\n",
              "      <td>408</td>\n",
              "      <td>2020-02-25</td>\n",
              "      <td>NaN</td>\n",
              "      <td>Mocoa</td>\n",
              "    </tr>\n",
              "    <tr>\n",
              "      <th>8971</th>\n",
              "      <td>4401700173</td>\n",
              "      <td>NIVEL RUMIYACO LAGARTO</td>\n",
              "      <td>Limnimétrica</td>\n",
              "      <td>Activa</td>\n",
              "      <td>Putumayo</td>\n",
              "      <td>Mocoa</td>\n",
              "      <td>(1.119225, -76.67045)</td>\n",
              "      <td>647</td>\n",
              "      <td>2020-02-25</td>\n",
              "      <td>NaN</td>\n",
              "      <td>Mocoa</td>\n",
              "    </tr>\n",
              "    <tr>\n",
              "      <th>8972</th>\n",
              "      <td>4401700174</td>\n",
              "      <td>NIVEL RIO PEPINO</td>\n",
              "      <td>Limnimétrica</td>\n",
              "      <td>Activa</td>\n",
              "      <td>Putumayo</td>\n",
              "      <td>Mocoa</td>\n",
              "      <td>(1.088775, -76.69261667)</td>\n",
              "      <td>868</td>\n",
              "      <td>2020-02-25</td>\n",
              "      <td>NaN</td>\n",
              "      <td>Mocoa</td>\n",
              "    </tr>\n",
              "  </tbody>\n",
              "</table>\n",
              "<p>8973 rows × 11 columns</p>\n",
              "</div>"
            ],
            "text/plain": [
              "          Codigo                          Nombre  ... Fecha_suspension Corriente\n",
              "0       52057100      RUMICHACA - AUT [52057100]  ...              NaN  Guaitara\n",
              "1       52055170    LA JOSEFINA - AUT [52055170]  ...              NaN  Guaitara\n",
              "2       52055220     EL PARAISO - AUT [52055220]  ...              NaN  Guaitara\n",
              "3       44015070      EL PEPINO - AUT [44015070]  ...              NaN  Guaitara\n",
              "4       48015040  PUERTO NARINO - AUT [48015040]  ...              NaN  Amazonas\n",
              "...          ...                             ...  ...              ...       ...\n",
              "8968  4401700167        NIVEL SANGOYACO GARGANTA  ...              NaN     Mocoa\n",
              "8969  4401700168           NIVEL MULATO PALMERAS  ...              NaN     Mocoa\n",
              "8970  4401700172           NIVEL MOCOA PISCIKART  ...              NaN     Mocoa\n",
              "8971  4401700173          NIVEL RUMIYACO LAGARTO  ...              NaN     Mocoa\n",
              "8972  4401700174                NIVEL RIO PEPINO  ...              NaN     Mocoa\n",
              "\n",
              "[8973 rows x 11 columns]"
            ]
          },
          "metadata": {
            "tags": []
          },
          "execution_count": 2
        }
      ]
    },
    {
      "cell_type": "markdown",
      "metadata": {
        "id": "eJFEYZ0A9S6v"
      },
      "source": [
        "# **Exploración del DataFrame**"
      ]
    },
    {
      "cell_type": "code",
      "metadata": {
        "colab": {
          "base_uri": "https://localhost:8080/"
        },
        "id": "MM27DjS48Q1P",
        "outputId": "6c17ef5f-559a-43a4-b9ab-836f78f48bef"
      },
      "source": [
        "print(centro_monitoreo_hidrico.shape)"
      ],
      "execution_count": null,
      "outputs": [
        {
          "output_type": "stream",
          "text": [
            "(8973, 11)\n"
          ],
          "name": "stdout"
        }
      ]
    },
    {
      "cell_type": "code",
      "metadata": {
        "id": "PhyEipw9-s7W",
        "colab": {
          "base_uri": "https://localhost:8080/"
        },
        "outputId": "c41127cd-92ba-4646-b6fb-a667dd1ea988"
      },
      "source": [
        "print(centro_monitoreo_hidrico.info())"
      ],
      "execution_count": null,
      "outputs": [
        {
          "output_type": "stream",
          "text": [
            "<class 'pandas.core.frame.DataFrame'>\n",
            "RangeIndex: 8973 entries, 0 to 8972\n",
            "Data columns (total 11 columns):\n",
            " #   Column             Non-Null Count  Dtype \n",
            "---  ------             --------------  ----- \n",
            " 0   Codigo             8973 non-null   int64 \n",
            " 1   Nombre             8973 non-null   object\n",
            " 2   Categoria          8973 non-null   object\n",
            " 3   Estado             8973 non-null   object\n",
            " 4   Departamento       8973 non-null   object\n",
            " 5   Municipio          8973 non-null   object\n",
            " 6   Ubicación          8973 non-null   object\n",
            " 7   Altitud            8973 non-null   object\n",
            " 8   Fecha_instalacion  8839 non-null   object\n",
            " 9   Fecha_suspension   3441 non-null   object\n",
            " 10  Corriente          8955 non-null   object\n",
            "dtypes: int64(1), object(10)\n",
            "memory usage: 771.2+ KB\n",
            "None\n"
          ],
          "name": "stdout"
        }
      ]
    },
    {
      "cell_type": "code",
      "metadata": {
        "colab": {
          "base_uri": "https://localhost:8080/"
        },
        "id": "dL_LkQIE3Yxi",
        "outputId": "82bda888-d2c6-47f0-f3ac-4d300fd087da"
      },
      "source": [
        "print(centro_monitoreo_hidrico.isna().any())"
      ],
      "execution_count": null,
      "outputs": [
        {
          "output_type": "stream",
          "text": [
            "Codigo               False\n",
            "Nombre               False\n",
            "Categoria            False\n",
            "Estado               False\n",
            "Departamento         False\n",
            "Municipio            False\n",
            "Ubicación            False\n",
            "Altitud              False\n",
            "Fecha_instalacion     True\n",
            "Fecha_suspension      True\n",
            "Corriente             True\n",
            "dtype: bool\n"
          ],
          "name": "stdout"
        }
      ]
    },
    {
      "cell_type": "code",
      "metadata": {
        "colab": {
          "base_uri": "https://localhost:8080/"
        },
        "id": "pNJFVW6p3neA",
        "outputId": "9c119cca-310d-4b22-a362-7307dff511cd"
      },
      "source": [
        "print(centro_monitoreo_hidrico.isna().sum())"
      ],
      "execution_count": null,
      "outputs": [
        {
          "output_type": "stream",
          "text": [
            "Codigo                  0\n",
            "Nombre                  0\n",
            "Categoria               0\n",
            "Estado                  0\n",
            "Departamento            0\n",
            "Municipio               0\n",
            "Ubicación               0\n",
            "Altitud                 0\n",
            "Fecha_instalacion     134\n",
            "Fecha_suspension     5532\n",
            "Corriente              18\n",
            "dtype: int64\n"
          ],
          "name": "stdout"
        }
      ]
    },
    {
      "cell_type": "markdown",
      "metadata": {
        "id": "IgP-Gn__XLpz"
      },
      "source": [
        "#**Identifique el número total de estaciones de acuerdo a su estado. Para ello use 4 metodologías diferentes**"
      ]
    },
    {
      "cell_type": "markdown",
      "metadata": {
        "id": "S8t3ANMn1v_H"
      },
      "source": [
        "## **Opcion 1. Filtrando y contando los criterios de la Columna 'Estado'**"
      ]
    },
    {
      "cell_type": "code",
      "metadata": {
        "colab": {
          "base_uri": "https://localhost:8080/"
        },
        "id": "G3h8ddV5Rgdb",
        "outputId": "fb4b5652-bc6f-4148-b4a5-402b63190f77"
      },
      "source": [
        "activas = centro_monitoreo_hidrico[centro_monitoreo_hidrico['Estado'] == 'Activa'].agg({'Estado': 'count'})\n",
        "activas"
      ],
      "execution_count": null,
      "outputs": [
        {
          "output_type": "execute_result",
          "data": {
            "text/plain": [
              "Estado    5491\n",
              "dtype: int64"
            ]
          },
          "metadata": {
            "tags": []
          },
          "execution_count": 22
        }
      ]
    },
    {
      "cell_type": "code",
      "metadata": {
        "colab": {
          "base_uri": "https://localhost:8080/"
        },
        "id": "ZW1a6pK-UKUy",
        "outputId": "710ac7f1-86d9-4801-b820-6aae2568c40a"
      },
      "source": [
        "Suspendida = centro_monitoreo_hidrico[centro_monitoreo_hidrico['Estado'] == 'Suspendida'].agg({'Estado': 'count'})\n",
        "Suspendida"
      ],
      "execution_count": null,
      "outputs": [
        {
          "output_type": "execute_result",
          "data": {
            "text/plain": [
              "Estado    3439\n",
              "dtype: int64"
            ]
          },
          "metadata": {
            "tags": []
          },
          "execution_count": 110
        }
      ]
    },
    {
      "cell_type": "code",
      "metadata": {
        "colab": {
          "base_uri": "https://localhost:8080/"
        },
        "id": "y3ilCfhPlBtm",
        "outputId": "618b975e-93d9-4003-e1c9-2e70bba1abb0"
      },
      "source": [
        "Mantenimiento = centro_monitoreo_hidrico[centro_monitoreo_hidrico['Estado'] == 'En Mantenimiento'].agg({'Estado': 'count'})\n",
        "Mantenimiento"
      ],
      "execution_count": null,
      "outputs": [
        {
          "output_type": "execute_result",
          "data": {
            "text/plain": [
              "Estado    43\n",
              "dtype: int64"
            ]
          },
          "metadata": {
            "tags": []
          },
          "execution_count": 57
        }
      ]
    },
    {
      "cell_type": "markdown",
      "metadata": {
        "id": "FCWp7Qhh2pdH"
      },
      "source": [
        "## **Opcion 2. Filtrando usando metodo .query()**"
      ]
    },
    {
      "cell_type": "code",
      "metadata": {
        "colab": {
          "base_uri": "https://localhost:8080/"
        },
        "id": "nxtwlArgii_A",
        "outputId": "8c950c24-cd82-4775-a826-8ceb2dce84d7"
      },
      "source": [
        "metodo_query =centro_monitoreo_hidrico.query('Estado == \"Activa\"')\n",
        "len(metodo_query)\n"
      ],
      "execution_count": null,
      "outputs": [
        {
          "output_type": "execute_result",
          "data": {
            "text/plain": [
              "5491"
            ]
          },
          "metadata": {
            "tags": []
          },
          "execution_count": 62
        }
      ]
    },
    {
      "cell_type": "code",
      "metadata": {
        "colab": {
          "base_uri": "https://localhost:8080/"
        },
        "id": "2bc6_fU4jcTf",
        "outputId": "e7e90ebe-fa7b-4e72-c853-88737e27f4c0"
      },
      "source": [
        "metodo_query = centro_monitoreo_hidrico.query('Estado == \"Suspendida\"')\n",
        "len(metodo_query)"
      ],
      "execution_count": null,
      "outputs": [
        {
          "output_type": "execute_result",
          "data": {
            "text/plain": [
              "3439"
            ]
          },
          "metadata": {
            "tags": []
          },
          "execution_count": 63
        }
      ]
    },
    {
      "cell_type": "code",
      "metadata": {
        "colab": {
          "base_uri": "https://localhost:8080/"
        },
        "id": "A7eyfuU4nq4k",
        "outputId": "93a11bb3-c425-4c2e-81ae-53cf5661dfc9"
      },
      "source": [
        "metodo_query = centro_monitoreo_hidrico.query('Estado == \"En Mantenimiento\"')\n",
        "len(metodo_query)"
      ],
      "execution_count": null,
      "outputs": [
        {
          "output_type": "execute_result",
          "data": {
            "text/plain": [
              "43"
            ]
          },
          "metadata": {
            "tags": []
          },
          "execution_count": 64
        }
      ]
    },
    {
      "cell_type": "code",
      "metadata": {
        "colab": {
          "base_uri": "https://localhost:8080/",
          "height": 1000
        },
        "id": "Yjh2vVFpJSkw",
        "outputId": "31d7e77d-a25c-4c44-d833-093919bd8941"
      },
      "source": [
        "centro_monitoreo_hidrico.query('Corriente == \"Atrato\"')"
      ],
      "execution_count": null,
      "outputs": [
        {
          "output_type": "execute_result",
          "data": {
            "text/html": [
              "<div>\n",
              "<style scoped>\n",
              "    .dataframe tbody tr th:only-of-type {\n",
              "        vertical-align: middle;\n",
              "    }\n",
              "\n",
              "    .dataframe tbody tr th {\n",
              "        vertical-align: top;\n",
              "    }\n",
              "\n",
              "    .dataframe thead th {\n",
              "        text-align: right;\n",
              "    }\n",
              "</style>\n",
              "<table border=\"1\" class=\"dataframe\">\n",
              "  <thead>\n",
              "    <tr style=\"text-align: right;\">\n",
              "      <th></th>\n",
              "      <th>Codigo</th>\n",
              "      <th>Nombre</th>\n",
              "      <th>Categoria</th>\n",
              "      <th>Estado</th>\n",
              "      <th>Departamento</th>\n",
              "      <th>Municipio</th>\n",
              "      <th>Ubicación</th>\n",
              "      <th>Altitud</th>\n",
              "      <th>Fecha_instalacion</th>\n",
              "      <th>Fecha_suspension</th>\n",
              "      <th>Corriente</th>\n",
              "    </tr>\n",
              "  </thead>\n",
              "  <tbody>\n",
              "    <tr>\n",
              "      <th>145</th>\n",
              "      <td>35235040</td>\n",
              "      <td>TRINIDAD - AUT [35235040]</td>\n",
              "      <td>Climática Ordinaria</td>\n",
              "      <td>Activa</td>\n",
              "      <td>Casanare</td>\n",
              "      <td>Trinidad</td>\n",
              "      <td>(5.41902778, -71.66616667)</td>\n",
              "      <td>265</td>\n",
              "      <td>2016-12-15</td>\n",
              "      <td>NaN</td>\n",
              "      <td>Atrato</td>\n",
              "    </tr>\n",
              "    <tr>\n",
              "      <th>149</th>\n",
              "      <td>55015010</td>\n",
              "      <td>PIE DE PATO - AUT [55015010]</td>\n",
              "      <td>Climática Principal</td>\n",
              "      <td>Activa</td>\n",
              "      <td>Chocó</td>\n",
              "      <td>Alto Baudó (Pie De Pato)</td>\n",
              "      <td>(5.52108333, -76.97316667)</td>\n",
              "      <td>40</td>\n",
              "      <td>2006-03-12</td>\n",
              "      <td>NaN</td>\n",
              "      <td>Atrato</td>\n",
              "    </tr>\n",
              "    <tr>\n",
              "      <th>152</th>\n",
              "      <td>11027070</td>\n",
              "      <td>BORAUDO - AUT [11027070]</td>\n",
              "      <td>Limnigráfica</td>\n",
              "      <td>Activa</td>\n",
              "      <td>Chocó</td>\n",
              "      <td>Lloró</td>\n",
              "      <td>(5.51461111, -76.57569444)</td>\n",
              "      <td>78</td>\n",
              "      <td>2005-04-14 19:00</td>\n",
              "      <td>NaN</td>\n",
              "      <td>Atrato</td>\n",
              "    </tr>\n",
              "    <tr>\n",
              "      <th>153</th>\n",
              "      <td>35195060</td>\n",
              "      <td>TOQUILLA - AUT [35195060]</td>\n",
              "      <td>Climática Ordinaria</td>\n",
              "      <td>Activa</td>\n",
              "      <td>Boyacá</td>\n",
              "      <td>Aquitania</td>\n",
              "      <td>(5.52361111, -72.79097222)</td>\n",
              "      <td>2,950</td>\n",
              "      <td>2016-12-15</td>\n",
              "      <td>NaN</td>\n",
              "      <td>Atrato</td>\n",
              "    </tr>\n",
              "    <tr>\n",
              "      <th>398</th>\n",
              "      <td>11047010</td>\n",
              "      <td>BELEN [11047010]</td>\n",
              "      <td>Limnigráfica</td>\n",
              "      <td>Activa</td>\n",
              "      <td>Chocó</td>\n",
              "      <td>Quibdó</td>\n",
              "      <td>(5.76483333, -76.66966667)</td>\n",
              "      <td>26</td>\n",
              "      <td>1965-12-15</td>\n",
              "      <td>NaN</td>\n",
              "      <td>Atrato</td>\n",
              "    </tr>\n",
              "    <tr>\n",
              "      <th>406</th>\n",
              "      <td>11020020</td>\n",
              "      <td>GUADUAS [11020020]</td>\n",
              "      <td>Pluviométrica</td>\n",
              "      <td>Suspendida</td>\n",
              "      <td>Chocó</td>\n",
              "      <td>El Carmen (Choco)</td>\n",
              "      <td>(5.76666667, -76.18333333)</td>\n",
              "      <td>1,500</td>\n",
              "      <td>1977-03-15</td>\n",
              "      <td>2002-04-15</td>\n",
              "      <td>Atrato</td>\n",
              "    </tr>\n",
              "    <tr>\n",
              "      <th>613</th>\n",
              "      <td>11057020</td>\n",
              "      <td>SAN ANTONIO PADUA  - AUT [11057020]</td>\n",
              "      <td>Limnimétrica</td>\n",
              "      <td>Activa</td>\n",
              "      <td>Antioquia</td>\n",
              "      <td>Vigia Del Fuerte</td>\n",
              "      <td>(6.28666667, -76.76180556)</td>\n",
              "      <td>18</td>\n",
              "      <td>1973-05-14 19:00</td>\n",
              "      <td>NaN</td>\n",
              "      <td>Atrato</td>\n",
              "    </tr>\n",
              "    <tr>\n",
              "      <th>803</th>\n",
              "      <td>26210140</td>\n",
              "      <td>ALTAMIRA [26210140]</td>\n",
              "      <td>Pluviométrica</td>\n",
              "      <td>Activa</td>\n",
              "      <td>Antioquia</td>\n",
              "      <td>Betulia (Antioquia)</td>\n",
              "      <td>(6.21852778, -75.9455)</td>\n",
              "      <td>232</td>\n",
              "      <td>1975-04-15</td>\n",
              "      <td>NaN</td>\n",
              "      <td>Atrato</td>\n",
              "    </tr>\n",
              "    <tr>\n",
              "      <th>813</th>\n",
              "      <td>11057010</td>\n",
              "      <td>TAGACHI [11057010]</td>\n",
              "      <td>Limnimétrica</td>\n",
              "      <td>Suspendida</td>\n",
              "      <td>Chocó</td>\n",
              "      <td>Quibdó</td>\n",
              "      <td>(6.21666667, -76.71666667)</td>\n",
              "      <td>18</td>\n",
              "      <td>1966-04-15</td>\n",
              "      <td>2002-02-15</td>\n",
              "      <td>Atrato</td>\n",
              "    </tr>\n",
              "    <tr>\n",
              "      <th>814</th>\n",
              "      <td>23120090</td>\n",
              "      <td>LANDAZURI [23120090]</td>\n",
              "      <td>Pluviométrica</td>\n",
              "      <td>Suspendida</td>\n",
              "      <td>Santander</td>\n",
              "      <td>Vélez</td>\n",
              "      <td>(6.21666667, -73.81666667)</td>\n",
              "      <td>185</td>\n",
              "      <td>1959-10-15</td>\n",
              "      <td>1975-03-15</td>\n",
              "      <td>Atrato</td>\n",
              "    </tr>\n",
              "    <tr>\n",
              "      <th>940</th>\n",
              "      <td>27010830</td>\n",
              "      <td>SAN ISIDRO [27010830]</td>\n",
              "      <td>Pluviométrica</td>\n",
              "      <td>Activa</td>\n",
              "      <td>Antioquia</td>\n",
              "      <td>Entrerrios</td>\n",
              "      <td>(6.56322222, -75.51575)</td>\n",
              "      <td>2,320</td>\n",
              "      <td>1970-08-15</td>\n",
              "      <td>NaN</td>\n",
              "      <td>Atrato</td>\n",
              "    </tr>\n",
              "    <tr>\n",
              "      <th>946</th>\n",
              "      <td>36030030</td>\n",
              "      <td>MORICHAL [36030030]</td>\n",
              "      <td>Pluviométrica</td>\n",
              "      <td>Activa</td>\n",
              "      <td>Arauca</td>\n",
              "      <td>Tame</td>\n",
              "      <td>(6.57063889, -71.70763889)</td>\n",
              "      <td>300</td>\n",
              "      <td>1982-12-15</td>\n",
              "      <td>NaN</td>\n",
              "      <td>Atrato</td>\n",
              "    </tr>\n",
              "    <tr>\n",
              "      <th>947</th>\n",
              "      <td>24020150</td>\n",
              "      <td>MAMONAL EL HACIENDA [24020150]</td>\n",
              "      <td>Pluviométrica</td>\n",
              "      <td>Activa</td>\n",
              "      <td>Santander</td>\n",
              "      <td>San Gil</td>\n",
              "      <td>(6.57666667, -73.10616667)</td>\n",
              "      <td>1,408</td>\n",
              "      <td>1979-10-15</td>\n",
              "      <td>NaN</td>\n",
              "      <td>Atrato</td>\n",
              "    </tr>\n",
              "    <tr>\n",
              "      <th>948</th>\n",
              "      <td>23100040</td>\n",
              "      <td>YOLOMBO [23100040]</td>\n",
              "      <td>Pluviométrica</td>\n",
              "      <td>Activa</td>\n",
              "      <td>Antioquia</td>\n",
              "      <td>Yolombó</td>\n",
              "      <td>(6.59427778, -75.01091667)</td>\n",
              "      <td>965</td>\n",
              "      <td>1975-04-15</td>\n",
              "      <td>NaN</td>\n",
              "      <td>Atrato</td>\n",
              "    </tr>\n",
              "    <tr>\n",
              "      <th>949</th>\n",
              "      <td>24020130</td>\n",
              "      <td>CURITI 2 [24020130]</td>\n",
              "      <td>Pluviométrica</td>\n",
              "      <td>Activa</td>\n",
              "      <td>Santander</td>\n",
              "      <td>Curití</td>\n",
              "      <td>(6.59825, -73.05611111)</td>\n",
              "      <td>1,626</td>\n",
              "      <td>1973-11-15</td>\n",
              "      <td>NaN</td>\n",
              "      <td>Atrato</td>\n",
              "    </tr>\n",
              "    <tr>\n",
              "      <th>950</th>\n",
              "      <td>27010840</td>\n",
              "      <td>SAN PABLO [27010840]</td>\n",
              "      <td>Pluviométrica</td>\n",
              "      <td>Activa</td>\n",
              "      <td>Antioquia</td>\n",
              "      <td>Santa Rosa De Osos</td>\n",
              "      <td>(6.602, -75.24652778)</td>\n",
              "      <td>1,900</td>\n",
              "      <td>1970-10-15</td>\n",
              "      <td>NaN</td>\n",
              "      <td>Atrato</td>\n",
              "    </tr>\n",
              "    <tr>\n",
              "      <th>951</th>\n",
              "      <td>23090110</td>\n",
              "      <td>MURILLO [23090110]</td>\n",
              "      <td>Pluviométrica</td>\n",
              "      <td>Activa</td>\n",
              "      <td>Antioquia</td>\n",
              "      <td>Puerto Berrío</td>\n",
              "      <td>(6.60305556, -74.39527778)</td>\n",
              "      <td>130</td>\n",
              "      <td>1984-09-15</td>\n",
              "      <td>NaN</td>\n",
              "      <td>Atrato</td>\n",
              "    </tr>\n",
              "    <tr>\n",
              "      <th>952</th>\n",
              "      <td>24040060</td>\n",
              "      <td>REMOLINO [24040060]</td>\n",
              "      <td>Pluviométrica</td>\n",
              "      <td>Activa</td>\n",
              "      <td>Santander</td>\n",
              "      <td>Cabrera (Santander)</td>\n",
              "      <td>(6.60611111, -73.27611111)</td>\n",
              "      <td>630</td>\n",
              "      <td>1979-08-15</td>\n",
              "      <td>NaN</td>\n",
              "      <td>Atrato</td>\n",
              "    </tr>\n",
              "    <tr>\n",
              "      <th>953</th>\n",
              "      <td>27010870</td>\n",
              "      <td>BELMIRA [27010870]</td>\n",
              "      <td>Pluviométrica</td>\n",
              "      <td>Activa</td>\n",
              "      <td>Antioquia</td>\n",
              "      <td>Belmira</td>\n",
              "      <td>(6.60916667, -75.66833333)</td>\n",
              "      <td>2,540</td>\n",
              "      <td>1970-11-15</td>\n",
              "      <td>NaN</td>\n",
              "      <td>Atrato</td>\n",
              "    </tr>\n",
              "    <tr>\n",
              "      <th>956</th>\n",
              "      <td>23090100</td>\n",
              "      <td>SAN JUAN BEDUTH [23090100]</td>\n",
              "      <td>Pluviográfica</td>\n",
              "      <td>Suspendida</td>\n",
              "      <td>Antioquia</td>\n",
              "      <td>Puerto Berrío</td>\n",
              "      <td>(6.6, -74.45)</td>\n",
              "      <td>150</td>\n",
              "      <td>1984-08-15</td>\n",
              "      <td>2002-03-15</td>\n",
              "      <td>Atrato</td>\n",
              "    </tr>\n",
              "    <tr>\n",
              "      <th>957</th>\n",
              "      <td>24020070</td>\n",
              "      <td>CURITI 1 [24020070]</td>\n",
              "      <td>Pluviométrica</td>\n",
              "      <td>Suspendida</td>\n",
              "      <td>Santander</td>\n",
              "      <td>Curití</td>\n",
              "      <td>(6.6, -73.06666667)</td>\n",
              "      <td>1,505</td>\n",
              "      <td>1958-02-15</td>\n",
              "      <td>1978-07-15</td>\n",
              "      <td>Atrato</td>\n",
              "    </tr>\n",
              "    <tr>\n",
              "      <th>994</th>\n",
              "      <td>24010710</td>\n",
              "      <td>MONIQUIRA [24010710]</td>\n",
              "      <td>Pluviométrica</td>\n",
              "      <td>Activa</td>\n",
              "      <td>Boyacá</td>\n",
              "      <td>Moniquirá</td>\n",
              "      <td>(5.85216667, -73.57641667)</td>\n",
              "      <td>1,764</td>\n",
              "      <td>1974-04-15</td>\n",
              "      <td>NaN</td>\n",
              "      <td>Atrato</td>\n",
              "    </tr>\n",
              "    <tr>\n",
              "      <th>995</th>\n",
              "      <td>23070020</td>\n",
              "      <td>RIO CLARO [23070020]</td>\n",
              "      <td>Pluviográfica</td>\n",
              "      <td>Activa</td>\n",
              "      <td>Antioquia</td>\n",
              "      <td>Sonsón</td>\n",
              "      <td>(5.85552778, -74.84836111)</td>\n",
              "      <td>449</td>\n",
              "      <td>2009-09-01</td>\n",
              "      <td>NaN</td>\n",
              "      <td>Atrato</td>\n",
              "    </tr>\n",
              "    <tr>\n",
              "      <th>1001</th>\n",
              "      <td>11027010</td>\n",
              "      <td>PUENTE LAS SANCHEZ [11027010]</td>\n",
              "      <td>Limnimétrica</td>\n",
              "      <td>Suspendida</td>\n",
              "      <td>Chocó</td>\n",
              "      <td>El Carmen (Choco)</td>\n",
              "      <td>(5.85197222, -76.18080556)</td>\n",
              "      <td>2,000</td>\n",
              "      <td>1972-08-15</td>\n",
              "      <td>2016-01-06</td>\n",
              "      <td>Atrato</td>\n",
              "    </tr>\n",
              "    <tr>\n",
              "      <th>1018</th>\n",
              "      <td>11027030</td>\n",
              "      <td>EL SIETE - AUT [11027030]</td>\n",
              "      <td>Limnigráfica</td>\n",
              "      <td>Activa</td>\n",
              "      <td>Chocó</td>\n",
              "      <td>El Carmen (Choco)</td>\n",
              "      <td>(5.862, -76.15205556)</td>\n",
              "      <td>2,300</td>\n",
              "      <td>1979-12-14 19:00</td>\n",
              "      <td>NaN</td>\n",
              "      <td>Atrato</td>\n",
              "    </tr>\n",
              "    <tr>\n",
              "      <th>1723</th>\n",
              "      <td>11027060</td>\n",
              "      <td>PINON EL [11027060]</td>\n",
              "      <td>Limnimétrica</td>\n",
              "      <td>Suspendida</td>\n",
              "      <td>Chocó</td>\n",
              "      <td>El Carmen (Choco)</td>\n",
              "      <td>(5.73333333, -76.36666667)</td>\n",
              "      <td>1,350</td>\n",
              "      <td>1959-03-15</td>\n",
              "      <td>1971-11-15</td>\n",
              "      <td>Atrato</td>\n",
              "    </tr>\n",
              "    <tr>\n",
              "      <th>1850</th>\n",
              "      <td>26180240</td>\n",
              "      <td>PAVAS LAS [26180240]</td>\n",
              "      <td>Pluviográfica</td>\n",
              "      <td>Activa</td>\n",
              "      <td>Caldas</td>\n",
              "      <td>Aguadas</td>\n",
              "      <td>(5.52219444, -75.39288889)</td>\n",
              "      <td>3,210</td>\n",
              "      <td>1994-04-15</td>\n",
              "      <td>NaN</td>\n",
              "      <td>Atrato</td>\n",
              "    </tr>\n",
              "    <tr>\n",
              "      <th>1851</th>\n",
              "      <td>26160090</td>\n",
              "      <td>PACORA PLAZA FERIA [26160090]</td>\n",
              "      <td>Pluviométrica</td>\n",
              "      <td>Activa</td>\n",
              "      <td>Caldas</td>\n",
              "      <td>Pácora</td>\n",
              "      <td>(5.52244444, -75.45508333)</td>\n",
              "      <td>712</td>\n",
              "      <td>1970-08-15</td>\n",
              "      <td>NaN</td>\n",
              "      <td>Atrato</td>\n",
              "    </tr>\n",
              "    <tr>\n",
              "      <th>1852</th>\n",
              "      <td>24030120</td>\n",
              "      <td>PESCA [24030120]</td>\n",
              "      <td>Pluviográfica</td>\n",
              "      <td>Activa</td>\n",
              "      <td>Boyacá</td>\n",
              "      <td>Pesca</td>\n",
              "      <td>(5.52303306, -73.07684778)</td>\n",
              "      <td>2,678</td>\n",
              "      <td>1957-02-15</td>\n",
              "      <td>NaN</td>\n",
              "      <td>Atrato</td>\n",
              "    </tr>\n",
              "    <tr>\n",
              "      <th>2406</th>\n",
              "      <td>26175040</td>\n",
              "      <td>TUNEZ HACIENDA [26175040]</td>\n",
              "      <td>Climática Ordinaria</td>\n",
              "      <td>Activa</td>\n",
              "      <td>Antioquia</td>\n",
              "      <td>Fredonia</td>\n",
              "      <td>(5.80025, -75.65097222)</td>\n",
              "      <td>604</td>\n",
              "      <td>1975-04-15</td>\n",
              "      <td>NaN</td>\n",
              "      <td>Atrato</td>\n",
              "    </tr>\n",
              "    <tr>\n",
              "      <th>2407</th>\n",
              "      <td>24035120</td>\n",
              "      <td>SURBATA BONZA [24035120]</td>\n",
              "      <td>Agrometeorológica</td>\n",
              "      <td>Activa</td>\n",
              "      <td>Boyacá</td>\n",
              "      <td>Duitama</td>\n",
              "      <td>(5.80244444, -73.07447222)</td>\n",
              "      <td>2,485</td>\n",
              "      <td>1944-03-15</td>\n",
              "      <td>NaN</td>\n",
              "      <td>Atrato</td>\n",
              "    </tr>\n",
              "    <tr>\n",
              "      <th>2408</th>\n",
              "      <td>26170190</td>\n",
              "      <td>DIQUE EL [26170190]</td>\n",
              "      <td>Pluviométrica</td>\n",
              "      <td>Activa</td>\n",
              "      <td>Antioquia</td>\n",
              "      <td>Jericó (Antioquia)</td>\n",
              "      <td>(5.80386111, -75.72361111)</td>\n",
              "      <td>1,140</td>\n",
              "      <td>1970-09-15</td>\n",
              "      <td>NaN</td>\n",
              "      <td>Atrato</td>\n",
              "    </tr>\n",
              "    <tr>\n",
              "      <th>2411</th>\n",
              "      <td>11027040</td>\n",
              "      <td>ARRAYANES LOS [11027040]</td>\n",
              "      <td>Limnigráfica</td>\n",
              "      <td>Suspendida</td>\n",
              "      <td>Chocó</td>\n",
              "      <td>El Carmen (Choco)</td>\n",
              "      <td>(5.8, -76.3)</td>\n",
              "      <td>1,500</td>\n",
              "      <td>1979-12-15</td>\n",
              "      <td>2008-12-10</td>\n",
              "      <td>Atrato</td>\n",
              "    </tr>\n",
              "    <tr>\n",
              "      <th>2412</th>\n",
              "      <td>24030880</td>\n",
              "      <td>AMARILLA LA [24030880]</td>\n",
              "      <td>Pluviográfica</td>\n",
              "      <td>Suspendida</td>\n",
              "      <td>Boyacá</td>\n",
              "      <td>Duitama</td>\n",
              "      <td>(5.8, -73.06666667)</td>\n",
              "      <td>2,535</td>\n",
              "      <td>1978-07-15</td>\n",
              "      <td>1981-12-15</td>\n",
              "      <td>Atrato</td>\n",
              "    </tr>\n",
              "    <tr>\n",
              "      <th>2425</th>\n",
              "      <td>11027020</td>\n",
              "      <td>OCHO EL [11027020]</td>\n",
              "      <td>Limnimétrica</td>\n",
              "      <td>Suspendida</td>\n",
              "      <td>Chocó</td>\n",
              "      <td>El Carmen (Choco)</td>\n",
              "      <td>(5.85, -76.25)</td>\n",
              "      <td>900</td>\n",
              "      <td>1972-04-15</td>\n",
              "      <td>1979-02-15</td>\n",
              "      <td>Atrato</td>\n",
              "    </tr>\n",
              "    <tr>\n",
              "      <th>2426</th>\n",
              "      <td>24030610</td>\n",
              "      <td>EMPODUITAMA [24030610]</td>\n",
              "      <td>Pluviométrica</td>\n",
              "      <td>Suspendida</td>\n",
              "      <td>Boyacá</td>\n",
              "      <td>Duitama</td>\n",
              "      <td>(5.85, -73.05)</td>\n",
              "      <td>2,590</td>\n",
              "      <td>1972-06-15</td>\n",
              "      <td>2002-02-15</td>\n",
              "      <td>Atrato</td>\n",
              "    </tr>\n",
              "    <tr>\n",
              "      <th>2427</th>\n",
              "      <td>26075020</td>\n",
              "      <td>CALIPUERTO [26075020]</td>\n",
              "      <td>Sinóptica Secundaria</td>\n",
              "      <td>Suspendida</td>\n",
              "      <td>Valle del Cauca</td>\n",
              "      <td>Candelaria (Valle del cauca)</td>\n",
              "      <td>(3.43333333, -76.4)</td>\n",
              "      <td>930</td>\n",
              "      <td>1940-06-15</td>\n",
              "      <td>1971-07-15</td>\n",
              "      <td>Atrato</td>\n",
              "    </tr>\n",
              "    <tr>\n",
              "      <th>2994</th>\n",
              "      <td>23180040</td>\n",
              "      <td>PORVENIR EL [23180040]</td>\n",
              "      <td>Pluviométrica</td>\n",
              "      <td>Activa</td>\n",
              "      <td>Santander</td>\n",
              "      <td>Sabana De Torres</td>\n",
              "      <td>(7.45277778, -73.48277778)</td>\n",
              "      <td>110</td>\n",
              "      <td>1972-09-15</td>\n",
              "      <td>NaN</td>\n",
              "      <td>Atrato</td>\n",
              "    </tr>\n",
              "    <tr>\n",
              "      <th>2995</th>\n",
              "      <td>23185010</td>\n",
              "      <td>VILLA LEIVA [23185010]</td>\n",
              "      <td>Climática Principal</td>\n",
              "      <td>Activa</td>\n",
              "      <td>Santander</td>\n",
              "      <td>Sabana De Torres</td>\n",
              "      <td>(7.45611111, -73.53722222)</td>\n",
              "      <td>328</td>\n",
              "      <td>1966-01-15</td>\n",
              "      <td>NaN</td>\n",
              "      <td>Atrato</td>\n",
              "    </tr>\n",
              "    <tr>\n",
              "      <th>2996</th>\n",
              "      <td>12010170</td>\n",
              "      <td>NUEVO ORIENTE [12010170]</td>\n",
              "      <td>Pluviográfica</td>\n",
              "      <td>Activa</td>\n",
              "      <td>Antioquia</td>\n",
              "      <td>Turbo</td>\n",
              "      <td>(7.46033333, -76.68955556)</td>\n",
              "      <td>23</td>\n",
              "      <td>1991-03-15</td>\n",
              "      <td>NaN</td>\n",
              "      <td>Atrato</td>\n",
              "    </tr>\n",
              "    <tr>\n",
              "      <th>2997</th>\n",
              "      <td>11147010</td>\n",
              "      <td>RIOSUCIO [11147010]</td>\n",
              "      <td>Limnimétrica</td>\n",
              "      <td>Suspendida</td>\n",
              "      <td>Chocó</td>\n",
              "      <td>Riosucio (Choco)</td>\n",
              "      <td>(7.44283333, -77.12125)</td>\n",
              "      <td>2</td>\n",
              "      <td>1965-12-14 19:00</td>\n",
              "      <td>2018-10-12 6:09</td>\n",
              "      <td>Atrato</td>\n",
              "    </tr>\n",
              "    <tr>\n",
              "      <th>3003</th>\n",
              "      <td>12010150</td>\n",
              "      <td>VILLA ARTEAGA [12010150]</td>\n",
              "      <td>Pluviométrica</td>\n",
              "      <td>Suspendida</td>\n",
              "      <td>Antioquia</td>\n",
              "      <td>Mutatá</td>\n",
              "      <td>(7.45, -76.61666667)</td>\n",
              "      <td>150</td>\n",
              "      <td>1946-01-15</td>\n",
              "      <td>1972-03-15</td>\n",
              "      <td>Atrato</td>\n",
              "    </tr>\n",
              "    <tr>\n",
              "      <th>3004</th>\n",
              "      <td>23190530</td>\n",
              "      <td>COOPERATIVA LA [23190530]</td>\n",
              "      <td>Pluviométrica</td>\n",
              "      <td>Suspendida</td>\n",
              "      <td>Santander</td>\n",
              "      <td>Sabana De Torres</td>\n",
              "      <td>(7.45, -73.45)</td>\n",
              "      <td>170</td>\n",
              "      <td>1972-08-15</td>\n",
              "      <td>1999-02-15</td>\n",
              "      <td>Atrato</td>\n",
              "    </tr>\n",
              "    <tr>\n",
              "      <th>3006</th>\n",
              "      <td>23190140</td>\n",
              "      <td>PLAYON EL [23190140]</td>\n",
              "      <td>Pluviométrica</td>\n",
              "      <td>Activa</td>\n",
              "      <td>Santander</td>\n",
              "      <td>El Playón</td>\n",
              "      <td>(7.46472222, -73.20138889)</td>\n",
              "      <td>500</td>\n",
              "      <td>1958-05-15</td>\n",
              "      <td>NaN</td>\n",
              "      <td>Atrato</td>\n",
              "    </tr>\n",
              "    <tr>\n",
              "      <th>3291</th>\n",
              "      <td>11027050</td>\n",
              "      <td>GINDRAMA - AUT [11027050]</td>\n",
              "      <td>Limnigráfica</td>\n",
              "      <td>Activa</td>\n",
              "      <td>Chocó</td>\n",
              "      <td>Lloró</td>\n",
              "      <td>(5.52155556, -76.51772222)</td>\n",
              "      <td>75</td>\n",
              "      <td>1979-12-14 19:00</td>\n",
              "      <td>NaN</td>\n",
              "      <td>Atrato</td>\n",
              "    </tr>\n",
              "    <tr>\n",
              "      <th>3865</th>\n",
              "      <td>11047040</td>\n",
              "      <td>QUIBDO - AUT [11047040]</td>\n",
              "      <td>Limnigráfica</td>\n",
              "      <td>Activa</td>\n",
              "      <td>Chocó</td>\n",
              "      <td>Quibdó</td>\n",
              "      <td>(5.7, -76.66205)</td>\n",
              "      <td>21</td>\n",
              "      <td>2008-11-30</td>\n",
              "      <td>NaN</td>\n",
              "      <td>Atrato</td>\n",
              "    </tr>\n",
              "    <tr>\n",
              "      <th>3926</th>\n",
              "      <td>11050040</td>\n",
              "      <td>CALAORRA [11050040]</td>\n",
              "      <td>Pluviométrica</td>\n",
              "      <td>Suspendida</td>\n",
              "      <td>Chocó</td>\n",
              "      <td>Quibdó</td>\n",
              "      <td>(5.76666667, -76.85)</td>\n",
              "      <td>50</td>\n",
              "      <td>1977-02-15</td>\n",
              "      <td>1994-03-15</td>\n",
              "      <td>Atrato</td>\n",
              "    </tr>\n",
              "    <tr>\n",
              "      <th>3947</th>\n",
              "      <td>26220060</td>\n",
              "      <td>TUNAL EL [26220060]</td>\n",
              "      <td>Pluviométrica</td>\n",
              "      <td>Suspendida</td>\n",
              "      <td>Antioquia</td>\n",
              "      <td>Santa Fe De Antioquia</td>\n",
              "      <td>(6.58333333, -75.83333333)</td>\n",
              "      <td>650</td>\n",
              "      <td>1985-12-15</td>\n",
              "      <td>1989-05-15</td>\n",
              "      <td>Atrato</td>\n",
              "    </tr>\n",
              "    <tr>\n",
              "      <th>4060</th>\n",
              "      <td>27030130</td>\n",
              "      <td>LONDRE EL [27030130]</td>\n",
              "      <td>Pluviométrica</td>\n",
              "      <td>Suspendida</td>\n",
              "      <td>Antioquia</td>\n",
              "      <td>El Bagre</td>\n",
              "      <td>(7.46666667, -74.65)</td>\n",
              "      <td>10</td>\n",
              "      <td>1974-11-15</td>\n",
              "      <td>1987-05-15</td>\n",
              "      <td>Atrato</td>\n",
              "    </tr>\n",
              "    <tr>\n",
              "      <th>4158</th>\n",
              "      <td>11077010</td>\n",
              "      <td>BELLAVISTA  [11077010]</td>\n",
              "      <td>Limnimétrica</td>\n",
              "      <td>Activa</td>\n",
              "      <td>Chocó</td>\n",
              "      <td>Bojayá (Bellavista)</td>\n",
              "      <td>(6.55880556, -76.88447222)</td>\n",
              "      <td>12</td>\n",
              "      <td>1966-05-14 19:00</td>\n",
              "      <td>NaN</td>\n",
              "      <td>Atrato</td>\n",
              "    </tr>\n",
              "    <tr>\n",
              "      <th>4349</th>\n",
              "      <td>11047020</td>\n",
              "      <td>QUIBDO - AUT [11047020]</td>\n",
              "      <td>Limnigráfica</td>\n",
              "      <td>Activa</td>\n",
              "      <td>Chocó</td>\n",
              "      <td>Quibdó</td>\n",
              "      <td>(5.69, -76.65999722)</td>\n",
              "      <td>27</td>\n",
              "      <td>1974-05-15</td>\n",
              "      <td>NaN</td>\n",
              "      <td>Atrato</td>\n",
              "    </tr>\n",
              "    <tr>\n",
              "      <th>4352</th>\n",
              "      <td>11107010</td>\n",
              "      <td>DOMINGODO [11107010]</td>\n",
              "      <td>Limnimétrica</td>\n",
              "      <td>Activa</td>\n",
              "      <td>Chocó</td>\n",
              "      <td>Carmen Del Darién  (Curbaradó)</td>\n",
              "      <td>(7.18, -77.03)</td>\n",
              "      <td>4</td>\n",
              "      <td>1966-11-15</td>\n",
              "      <td>NaN</td>\n",
              "      <td>Atrato</td>\n",
              "    </tr>\n",
              "  </tbody>\n",
              "</table>\n",
              "</div>"
            ],
            "text/plain": [
              "        Codigo                               Nombre  ... Fecha_suspension Corriente\n",
              "145   35235040            TRINIDAD - AUT [35235040]  ...              NaN    Atrato\n",
              "149   55015010         PIE DE PATO - AUT [55015010]  ...              NaN    Atrato\n",
              "152   11027070             BORAUDO - AUT [11027070]  ...              NaN    Atrato\n",
              "153   35195060            TOQUILLA - AUT [35195060]  ...              NaN    Atrato\n",
              "398   11047010                     BELEN [11047010]  ...              NaN    Atrato\n",
              "406   11020020                   GUADUAS [11020020]  ...       2002-04-15    Atrato\n",
              "613   11057020  SAN ANTONIO PADUA  - AUT [11057020]  ...              NaN    Atrato\n",
              "803   26210140                  ALTAMIRA [26210140]  ...              NaN    Atrato\n",
              "813   11057010                   TAGACHI [11057010]  ...       2002-02-15    Atrato\n",
              "814   23120090                 LANDAZURI [23120090]  ...       1975-03-15    Atrato\n",
              "940   27010830                SAN ISIDRO [27010830]  ...              NaN    Atrato\n",
              "946   36030030                  MORICHAL [36030030]  ...              NaN    Atrato\n",
              "947   24020150       MAMONAL EL HACIENDA [24020150]  ...              NaN    Atrato\n",
              "948   23100040                   YOLOMBO [23100040]  ...              NaN    Atrato\n",
              "949   24020130                  CURITI 2 [24020130]  ...              NaN    Atrato\n",
              "950   27010840                 SAN PABLO [27010840]  ...              NaN    Atrato\n",
              "951   23090110                   MURILLO [23090110]  ...              NaN    Atrato\n",
              "952   24040060                  REMOLINO [24040060]  ...              NaN    Atrato\n",
              "953   27010870                   BELMIRA [27010870]  ...              NaN    Atrato\n",
              "956   23090100           SAN JUAN BEDUTH [23090100]  ...       2002-03-15    Atrato\n",
              "957   24020070                  CURITI 1 [24020070]  ...       1978-07-15    Atrato\n",
              "994   24010710                 MONIQUIRA [24010710]  ...              NaN    Atrato\n",
              "995   23070020                 RIO CLARO [23070020]  ...              NaN    Atrato\n",
              "1001  11027010        PUENTE LAS SANCHEZ [11027010]  ...       2016-01-06    Atrato\n",
              "1018  11027030            EL SIETE - AUT [11027030]  ...              NaN    Atrato\n",
              "1723  11027060                  PINON EL [11027060]  ...       1971-11-15    Atrato\n",
              "1850  26180240                 PAVAS LAS [26180240]  ...              NaN    Atrato\n",
              "1851  26160090        PACORA PLAZA FERIA [26160090]  ...              NaN    Atrato\n",
              "1852  24030120                     PESCA [24030120]  ...              NaN    Atrato\n",
              "2406  26175040            TUNEZ HACIENDA [26175040]  ...              NaN    Atrato\n",
              "2407  24035120             SURBATA BONZA [24035120]  ...              NaN    Atrato\n",
              "2408  26170190                  DIQUE EL [26170190]  ...              NaN    Atrato\n",
              "2411  11027040             ARRAYANES LOS [11027040]  ...       2008-12-10    Atrato\n",
              "2412  24030880               AMARILLA LA [24030880]  ...       1981-12-15    Atrato\n",
              "2425  11027020                   OCHO EL [11027020]  ...       1979-02-15    Atrato\n",
              "2426  24030610               EMPODUITAMA [24030610]  ...       2002-02-15    Atrato\n",
              "2427  26075020                CALIPUERTO [26075020]  ...       1971-07-15    Atrato\n",
              "2994  23180040               PORVENIR EL [23180040]  ...              NaN    Atrato\n",
              "2995  23185010               VILLA LEIVA [23185010]  ...              NaN    Atrato\n",
              "2996  12010170             NUEVO ORIENTE [12010170]  ...              NaN    Atrato\n",
              "2997  11147010                  RIOSUCIO [11147010]  ...  2018-10-12 6:09    Atrato\n",
              "3003  12010150             VILLA ARTEAGA [12010150]  ...       1972-03-15    Atrato\n",
              "3004  23190530            COOPERATIVA LA [23190530]  ...       1999-02-15    Atrato\n",
              "3006  23190140                 PLAYON EL [23190140]  ...              NaN    Atrato\n",
              "3291  11027050            GINDRAMA - AUT [11027050]  ...              NaN    Atrato\n",
              "3865  11047040              QUIBDO - AUT [11047040]  ...              NaN    Atrato\n",
              "3926  11050040                  CALAORRA [11050040]  ...       1994-03-15    Atrato\n",
              "3947  26220060                  TUNAL EL [26220060]  ...       1989-05-15    Atrato\n",
              "4060  27030130                 LONDRE EL [27030130]  ...       1987-05-15    Atrato\n",
              "4158  11077010               BELLAVISTA  [11077010]  ...              NaN    Atrato\n",
              "4349  11047020              QUIBDO - AUT [11047020]  ...              NaN    Atrato\n",
              "4352  11107010                 DOMINGODO [11107010]  ...              NaN    Atrato\n",
              "\n",
              "[52 rows x 11 columns]"
            ]
          },
          "metadata": {
            "tags": []
          },
          "execution_count": 48
        }
      ]
    },
    {
      "cell_type": "markdown",
      "metadata": {
        "id": "PWwvYsFSdLOT"
      },
      "source": [
        "## **Opcion 3. Usando ciclo for**"
      ]
    },
    {
      "cell_type": "code",
      "metadata": {
        "id": "GE4XmJ9ji92w",
        "colab": {
          "base_uri": "https://localhost:8080/"
        },
        "outputId": "6a683822-70d7-4c80-f3fb-66b77ed3261d"
      },
      "source": [
        "for estado in centro_monitoreo_hidrico:\n",
        "  estado_activa = centro_monitoreo_hidrico[centro_monitoreo_hidrico['Estado'] == 'Activa']\n",
        "len(estado_activa)"
      ],
      "execution_count": null,
      "outputs": [
        {
          "output_type": "execute_result",
          "data": {
            "text/plain": [
              "5491"
            ]
          },
          "metadata": {
            "tags": []
          },
          "execution_count": 17
        }
      ]
    },
    {
      "cell_type": "code",
      "metadata": {
        "colab": {
          "base_uri": "https://localhost:8080/"
        },
        "id": "ZbefU7_ILpLQ",
        "outputId": "4e721699-280f-41d5-eba5-fb4336733103"
      },
      "source": [
        "for estado in centro_monitoreo_hidrico:\n",
        "  estado_suspendida = centro_monitoreo_hidrico[centro_monitoreo_hidrico['Estado'] == 'Suspendida']\n",
        "len(estado_suspendida)"
      ],
      "execution_count": null,
      "outputs": [
        {
          "output_type": "execute_result",
          "data": {
            "text/plain": [
              "3439"
            ]
          },
          "metadata": {
            "tags": []
          },
          "execution_count": 18
        }
      ]
    },
    {
      "cell_type": "code",
      "metadata": {
        "colab": {
          "base_uri": "https://localhost:8080/"
        },
        "id": "osp8V8Oomznx",
        "outputId": "d191564d-ddc8-4747-cf7c-71ff83604dc7"
      },
      "source": [
        "for estado in centro_monitoreo_hidrico:\n",
        "  estado_mantenimiento = centro_monitoreo_hidrico[centro_monitoreo_hidrico['Estado'] == 'En Mantenimiento']\n",
        "len(estado_mantenimiento)"
      ],
      "execution_count": null,
      "outputs": [
        {
          "output_type": "execute_result",
          "data": {
            "text/plain": [
              "43"
            ]
          },
          "metadata": {
            "tags": []
          },
          "execution_count": 24
        }
      ]
    },
    {
      "cell_type": "markdown",
      "metadata": {
        "id": "rXFjIuESfgD8"
      },
      "source": [
        "## **Opcion 4. Usando value_counts()**"
      ]
    },
    {
      "cell_type": "code",
      "metadata": {
        "colab": {
          "base_uri": "https://localhost:8080/"
        },
        "id": "x26-NHzTmT31",
        "outputId": "31bcb1dc-acbe-42cb-9ab9-f6dbceffe003"
      },
      "source": [
        "centro_monitoreo_hidrico.Estado.value_counts()"
      ],
      "execution_count": null,
      "outputs": [
        {
          "output_type": "execute_result",
          "data": {
            "text/plain": [
              "Activa              5491\n",
              "Suspendida          3439\n",
              "En Mantenimiento      43\n",
              "Name: Estado, dtype: int64"
            ]
          },
          "metadata": {
            "tags": []
          },
          "execution_count": 187
        }
      ]
    },
    {
      "cell_type": "markdown",
      "metadata": {
        "id": "FYMxov5ieDNv"
      },
      "source": [
        "# **Hora de Graficar**"
      ]
    },
    {
      "cell_type": "markdown",
      "metadata": {
        "id": "HW9hPaHXfvB4"
      },
      "source": [
        "### **Diagrama de torta para representar el Porcentaje del estado de las estaciones** "
      ]
    },
    {
      "cell_type": "code",
      "metadata": {
        "colab": {
          "base_uri": "https://localhost:8080/",
          "height": 340
        },
        "id": "KiFJknBP-OCU",
        "outputId": "d029c8a3-9bc6-400a-80e6-446db5851e07"
      },
      "source": [
        "estado = centro_monitoreo_hidrico.Estado.value_counts()\n",
        "\n",
        "pie, ax = plt.subplots(figsize=[8,5])\n",
        "labels = estado.keys()\n",
        "plt.pie(x=estado, autopct=\"%.1f%%\", explode=[0.03]*3, labels=labels, pctdistance=0.5, labeldistance=None)\n",
        "plt.title(\"Porcentaje del Estado de las Estaciones\", fontsize=18, bbox={\"facecolor\":\"0.95\", \"pad\":5})\n",
        "plt.legend(bbox_to_anchor=(0.88, 0.93))"
      ],
      "execution_count": null,
      "outputs": [
        {
          "output_type": "execute_result",
          "data": {
            "text/plain": [
              "<matplotlib.legend.Legend at 0x7fd54d8e55d0>"
            ]
          },
          "metadata": {
            "tags": []
          },
          "execution_count": 72
        },
        {
          "output_type": "display_data",
          "data": {
            "image/png": "[encoded data removed]",
            "text/plain": [
              "<Figure size 576x360 with 1 Axes>"
            ]
          },
          "metadata": {
            "tags": []
          }
        }
      ]
    },
    {
      "cell_type": "markdown",
      "metadata": {
        "id": "YApakpssv1qQ"
      },
      "source": [
        "## **value_counts() para cuantificar las estaciones de acuerdo a su categoria**"
      ]
    },
    {
      "cell_type": "code",
      "metadata": {
        "colab": {
          "base_uri": "https://localhost:8080/"
        },
        "id": "QHX_wlKAv_O2",
        "outputId": "7a158c2d-85b8-45a5-e40a-0f98a5784941"
      },
      "source": [
        "centro_monitoreo_hidrico.Categoria.value_counts()"
      ],
      "execution_count": null,
      "outputs": [
        {
          "output_type": "execute_result",
          "data": {
            "text/plain": [
              "Pluviométrica             3533\n",
              "Limnimétrica              1747\n",
              "Limnigráfica              1140\n",
              "Climática Ordinaria        887\n",
              "Climática Principal        680\n",
              "Pluviográfica              631\n",
              "Meteorológica Especial     166\n",
              "Agrometeorológica           74\n",
              "Mareográfica                49\n",
              "Sinóptica Principal         37\n",
              "Sinóptica Secundaria        15\n",
              "Radio Sonda                 14\n",
              "Name: Categoria, dtype: int64"
            ]
          },
          "metadata": {
            "tags": []
          },
          "execution_count": 186
        }
      ]
    },
    {
      "cell_type": "markdown",
      "metadata": {
        "id": "S9YT9YQbgZbM"
      },
      "source": [
        "### **Grafica de torta para representar el porcentaje de las estaciones de acuerdo a su categoria**"
      ]
    },
    {
      "cell_type": "code",
      "metadata": {
        "colab": {
          "base_uri": "https://localhost:8080/",
          "height": 394
        },
        "id": "GRkYIgIUFdf9",
        "outputId": "75decf84-f6f3-479b-bfca-70fd29e49c62"
      },
      "source": [
        "categoria = centro_monitoreo_hidrico.Categoria.value_counts()\n",
        "explode = [0, 0, 0, 0, 0, 0, 0, 0.1, 0.2, 0.4, 0.7, 1]\n",
        "pie, ax = plt.subplots(figsize=[10,6])\n",
        "labels = categoria.keys()\n",
        "plt.pie(x=categoria, autopct=\"%.1f%%\", explode=explode,  labels=labels, pctdistance=1.1, shadow=True, labeldistance=None)\n",
        "plt.title(\"Porcentaje del Tipo de Estaciones\", fontsize=18, bbox={\"facecolor\":\"0.9\", \"pad\":5})\n",
        "plt.legend(bbox_to_anchor=(0, 0.9))\n",
        "#plt.legend(loc = 'upper left')"
      ],
      "execution_count": null,
      "outputs": [
        {
          "output_type": "execute_result",
          "data": {
            "text/plain": [
              "<matplotlib.legend.Legend at 0x7f8b6e2e1750>"
            ]
          },
          "metadata": {
            "tags": []
          },
          "execution_count": 55
        },
        {
          "output_type": "display_data",
          "data": {
            "image/png": "[encoded data removed]",
            "text/plain": [
              "<Figure size 720x432 with 1 Axes>"
            ]
          },
          "metadata": {
            "tags": []
          }
        }
      ]
    },
    {
      "cell_type": "markdown",
      "metadata": {
        "id": "J2PIVLeJgsen"
      },
      "source": [
        "### **Grafica de barra 1 para representar la cantidad de estaciones de acuerdo a su categoria**"
      ]
    },
    {
      "cell_type": "code",
      "metadata": {
        "colab": {
          "base_uri": "https://localhost:8080/",
          "height": 454
        },
        "id": "JkYLRgXMCxDv",
        "outputId": "7fbf6d61-5309-44df-c220-7e5a2d7906c8"
      },
      "source": [
        "categorizacion = centro_monitoreo_hidrico.Categoria.value_counts()\n",
        "df_categorizacion = pd.DataFrame(categorizacion)\n",
        "labels = categorizacion.keys\n",
        "df_categorizacion.plot(kind = 'bar', fontsize=14, color='purple')\n",
        "plt.title('Categorización Estaciones Hidrológicas', fontsize=18, bbox={\"facecolor\":\"0.9\", \"pad\":5})\n",
        "plt.ylabel('Cantidad', fontsize=16)"
      ],
      "execution_count": null,
      "outputs": [
        {
          "output_type": "execute_result",
          "data": {
            "text/plain": [
              "Text(0, 0.5, 'Cantidad')"
            ]
          },
          "metadata": {
            "tags": []
          },
          "execution_count": 46
        },
        {
          "output_type": "display_data",
          "data": {
            "image/png": "[encoded data removed]",
            "text/plain": [
              "<Figure size 432x288 with 1 Axes>"
            ]
          },
          "metadata": {
            "tags": [],
            "needs_background": "light"
          }
        }
      ]
    },
    {
      "cell_type": "markdown",
      "metadata": {
        "id": "8_M9o27OhHHq"
      },
      "source": [
        "### **Grafica de barra 2 para representar la cantidad de estaciones de acuerdo a su categoria**"
      ]
    },
    {
      "cell_type": "code",
      "metadata": {
        "colab": {
          "base_uri": "https://localhost:8080/",
          "height": 420
        },
        "id": "LRoL1uJyENHy",
        "outputId": "ed8adceb-2509-4bcb-d60c-47952ec6282f"
      },
      "source": [
        "sns.set_theme(context='notebook', style='darkgrid', palette='bright', font='sans-serif')\n",
        "plt.figure(figsize=(8,6))\n",
        "sns.countplot(y='Categoria', data=centro_monitoreo_hidrico)\n",
        "plt.title('Categorización Estaciones Hidrológicas', fontsize=18, bbox={\"facecolor\":\"0.9\", \"pad\":5})\n",
        "plt.xlabel('Cantidad', fontsize=16)\n",
        "plt.ylabel('Cantidad', fontsize=16)\n",
        "plt.xticks(fontsize=14)\n",
        "plt.yticks(fontsize=14)\n",
        "plt.show()"
      ],
      "execution_count": null,
      "outputs": [
        {
          "output_type": "display_data",
          "data": {
            "image/png": "[encoded data removed]",
            "text/plain": [
              "<Figure size 576x432 with 1 Axes>"
            ]
          },
          "metadata": {
            "tags": []
          }
        }
      ]
    },
    {
      "cell_type": "markdown",
      "metadata": {
        "id": "I7LgP2wu0qyo"
      },
      "source": [
        "## **De acuerdo a la categorización. ¿En que estado se encuentra cada una?**"
      ]
    },
    {
      "cell_type": "code",
      "metadata": {
        "colab": {
          "base_uri": "https://localhost:8080/"
        },
        "id": "pikNqA6ypZdA",
        "outputId": "2ef54eba-9f09-4a8a-fffd-574a0a6e8b3d"
      },
      "source": [
        "centro_monitoreo_hidrico.groupby('Categoria')['Estado'].value_counts()"
      ],
      "execution_count": null,
      "outputs": [
        {
          "output_type": "execute_result",
          "data": {
            "text/plain": [
              "Categoria               Estado          \n",
              "Agrometeorológica       Activa                57\n",
              "                        Suspendida            16\n",
              "                        En Mantenimiento       1\n",
              "Climática Ordinaria     Suspendida           478\n",
              "                        Activa               401\n",
              "                        En Mantenimiento       8\n",
              "Climática Principal     Activa               576\n",
              "                        Suspendida           103\n",
              "                        En Mantenimiento       1\n",
              "Limnigráfica            Activa               853\n",
              "                        Suspendida           269\n",
              "                        En Mantenimiento      18\n",
              "Limnimétrica            Activa               898\n",
              "                        Suspendida           846\n",
              "                        En Mantenimiento       3\n",
              "Mareográfica            Activa                31\n",
              "                        Suspendida            17\n",
              "                        En Mantenimiento       1\n",
              "Meteorológica Especial  Activa                94\n",
              "                        Suspendida            72\n",
              "Pluviográfica           Activa               460\n",
              "                        Suspendida           163\n",
              "                        En Mantenimiento       8\n",
              "Pluviométrica           Activa              2074\n",
              "                        Suspendida          1457\n",
              "                        En Mantenimiento       2\n",
              "Radio Sonda             Activa                11\n",
              "                        Suspendida             3\n",
              "Sinóptica Principal     Activa                31\n",
              "                        Suspendida             5\n",
              "                        En Mantenimiento       1\n",
              "Sinóptica Secundaria    Suspendida            10\n",
              "                        Activa                 5\n",
              "Name: Estado, dtype: int64"
            ]
          },
          "metadata": {
            "tags": []
          },
          "execution_count": 121
        }
      ]
    },
    {
      "cell_type": "markdown",
      "metadata": {
        "id": "axYPkPrPjDss"
      },
      "source": [
        "### **Grafica de barra para representar el estado en que se encuentra cada una de las estaciones**"
      ]
    },
    {
      "cell_type": "code",
      "metadata": {
        "colab": {
          "base_uri": "https://localhost:8080/",
          "height": 404
        },
        "id": "ngiFOl9p3ONo",
        "outputId": "6a8acc98-7568-4f17-917b-22be380ceac2"
      },
      "source": [
        "sns.set_theme(context='notebook', style='darkgrid', palette='bright', font='sans-serif')\n",
        "plt.figure(figsize=(8,3))\n",
        "sns.countplot(x='Categoria', data=centro_monitoreo_hidrico, hue='Estado')\n",
        "plt.title('Estado Según Categoria', fontsize=18, bbox={\"facecolor\":\"0.9\", \"pad\":5})\n",
        "plt.ylabel('Cantidad', fontsize=16)\n",
        "plt.xlabel('Categoria', fontsize=16)\n",
        "plt.xticks(rotation = 90, fontsize=14)\n",
        "plt.yticks(fontsize=14)\n",
        "plt.show()"
      ],
      "execution_count": null,
      "outputs": [
        {
          "output_type": "display_data",
          "data": {
            "image/png": "[encoded data removed]",
            "text/plain": [
              "<Figure size 576x216 with 1 Axes>"
            ]
          },
          "metadata": {
            "tags": []
          }
        }
      ]
    },
    {
      "cell_type": "markdown",
      "metadata": {
        "id": "Q88hm0b0cCKq"
      },
      "source": [
        "Colombia tiene instalados en su territorio Nacional principalmente estaciones de tipo Pluviométrica. Por otro lado, las estaciones de tipo Climática Ordinaria presenta un mayor número de estaciones suspendidas que Activas "
      ]
    },
    {
      "cell_type": "markdown",
      "metadata": {
        "id": "dJhRFowSHeyY"
      },
      "source": [
        "## **Determine el valorcorrespondiente de los primeros 5 Departamento con mayor numero de estaciones segun su Estado**"
      ]
    },
    {
      "cell_type": "markdown",
      "metadata": {
        "id": "75ChMpHAjgrv"
      },
      "source": [
        "### **Grafica de barra para representar los departamentos con mayor número de estaciones de acuerdo a su estado**"
      ]
    },
    {
      "cell_type": "code",
      "metadata": {
        "colab": {
          "base_uri": "https://localhost:8080/",
          "height": 859
        },
        "id": "pdFE8QILKgcm",
        "outputId": "d72cfd8b-e86d-4091-957c-5c525773ece6"
      },
      "source": [
        "sns.set_theme(context='notebook', style='darkgrid', palette='bright', font='sans-serif')\n",
        "plt.figure(figsize=(18,8))\n",
        "sns.countplot(x='Departamento',  data=centro_monitoreo_hidrico, hue='Estado')\n",
        "plt.title('Total Tipo de Estaciones por Departamento', fontsize=25, bbox={\"facecolor\":\"0.9\", \"pad\":5})\n",
        "plt.ylabel('Cantidad', fontsize=20)\n",
        "plt.xlabel('Departamento', fontsize=20)\n",
        "plt.xticks(rotation=90, fontsize=16)\n",
        "plt.yticks(fontsize=16)"
      ],
      "execution_count": null,
      "outputs": [
        {
          "output_type": "execute_result",
          "data": {
            "text/plain": [
              "(array([  0., 100., 200., 300., 400., 500., 600., 700., 800., 900.]),\n",
              " <a list of 10 Text major ticklabel objects>)"
            ]
          },
          "metadata": {
            "tags": []
          },
          "execution_count": 49
        },
        {
          "output_type": "display_data",
          "data": {
            "image/png": "[encoded data removed]",
            "text/plain": [
              "<Figure size 1296x576 with 1 Axes>"
            ]
          },
          "metadata": {
            "tags": []
          }
        }
      ]
    },
    {
      "cell_type": "markdown",
      "metadata": {
        "id": "SHM8rgVUV4Ef"
      },
      "source": [
        "Departamentos como NS, Cesar Bolivar, Tolima Córdoba, Atlantico y Arauca reportan un número de estaciones suspendidas mayor al numero de estaciones Activas"
      ]
    },
    {
      "cell_type": "code",
      "metadata": {
        "colab": {
          "base_uri": "https://localhost:8080/",
          "height": 166
        },
        "id": "u5o9X0dmMzD5",
        "outputId": "bf78cde0-994f-41a9-d1c5-c99f8aaf5349"
      },
      "source": [
        "top_5_departamentos = centro_monitoreo_hidrico.groupby(['Departamento', 'Estado']).agg({'Estado':'count'})\n",
        "top_5_departamentos.query('Departamento == \"Cundinamarca\"')"
      ],
      "execution_count": null,
      "outputs": [
        {
          "output_type": "execute_result",
          "data": {
            "text/html": [
              "<div>\n",
              "<style scoped>\n",
              "    .dataframe tbody tr th:only-of-type {\n",
              "        vertical-align: middle;\n",
              "    }\n",
              "\n",
              "    .dataframe tbody tr th {\n",
              "        vertical-align: top;\n",
              "    }\n",
              "\n",
              "    .dataframe thead th {\n",
              "        text-align: right;\n",
              "    }\n",
              "</style>\n",
              "<table border=\"1\" class=\"dataframe\">\n",
              "  <thead>\n",
              "    <tr style=\"text-align: right;\">\n",
              "      <th></th>\n",
              "      <th></th>\n",
              "      <th>Estado</th>\n",
              "    </tr>\n",
              "    <tr>\n",
              "      <th>Departamento</th>\n",
              "      <th>Estado</th>\n",
              "      <th></th>\n",
              "    </tr>\n",
              "  </thead>\n",
              "  <tbody>\n",
              "    <tr>\n",
              "      <th rowspan=\"3\" valign=\"top\">Cundinamarca</th>\n",
              "      <th>Activa</th>\n",
              "      <td>804</td>\n",
              "    </tr>\n",
              "    <tr>\n",
              "      <th>En Mantenimiento</th>\n",
              "      <td>2</td>\n",
              "    </tr>\n",
              "    <tr>\n",
              "      <th>Suspendida</th>\n",
              "      <td>256</td>\n",
              "    </tr>\n",
              "  </tbody>\n",
              "</table>\n",
              "</div>"
            ],
            "text/plain": [
              "                               Estado\n",
              "Departamento Estado                  \n",
              "Cundinamarca Activa               804\n",
              "             En Mantenimiento       2\n",
              "             Suspendida           256"
            ]
          },
          "metadata": {
            "tags": []
          },
          "execution_count": 278
        }
      ]
    },
    {
      "cell_type": "code",
      "metadata": {
        "colab": {
          "base_uri": "https://localhost:8080/",
          "height": 166
        },
        "id": "6yfuTAlJNAxu",
        "outputId": "1cd0b16c-bbe0-48e6-90a9-c58e7d929669"
      },
      "source": [
        "top_5_departamentos = centro_monitoreo_hidrico.groupby(['Departamento', 'Estado']).agg({'Estado':'count'})\n",
        "top_5_departamentos.query('Departamento == \"Antioquia\"')"
      ],
      "execution_count": null,
      "outputs": [
        {
          "output_type": "execute_result",
          "data": {
            "text/html": [
              "<div>\n",
              "<style scoped>\n",
              "    .dataframe tbody tr th:only-of-type {\n",
              "        vertical-align: middle;\n",
              "    }\n",
              "\n",
              "    .dataframe tbody tr th {\n",
              "        vertical-align: top;\n",
              "    }\n",
              "\n",
              "    .dataframe thead th {\n",
              "        text-align: right;\n",
              "    }\n",
              "</style>\n",
              "<table border=\"1\" class=\"dataframe\">\n",
              "  <thead>\n",
              "    <tr style=\"text-align: right;\">\n",
              "      <th></th>\n",
              "      <th></th>\n",
              "      <th>Estado</th>\n",
              "    </tr>\n",
              "    <tr>\n",
              "      <th>Departamento</th>\n",
              "      <th>Estado</th>\n",
              "      <th></th>\n",
              "    </tr>\n",
              "  </thead>\n",
              "  <tbody>\n",
              "    <tr>\n",
              "      <th rowspan=\"3\" valign=\"top\">Antioquia</th>\n",
              "      <th>Activa</th>\n",
              "      <td>713</td>\n",
              "    </tr>\n",
              "    <tr>\n",
              "      <th>En Mantenimiento</th>\n",
              "      <td>20</td>\n",
              "    </tr>\n",
              "    <tr>\n",
              "      <th>Suspendida</th>\n",
              "      <td>482</td>\n",
              "    </tr>\n",
              "  </tbody>\n",
              "</table>\n",
              "</div>"
            ],
            "text/plain": [
              "                               Estado\n",
              "Departamento Estado                  \n",
              "Antioquia    Activa               713\n",
              "             En Mantenimiento      20\n",
              "             Suspendida           482"
            ]
          },
          "metadata": {
            "tags": []
          },
          "execution_count": 292
        }
      ]
    },
    {
      "cell_type": "code",
      "metadata": {
        "colab": {
          "base_uri": "https://localhost:8080/",
          "height": 166
        },
        "id": "JiH07-AXGNfo",
        "outputId": "6e56838b-fe48-4d86-854e-e6b6bb5466fb"
      },
      "source": [
        "top_5_departamentos = centro_monitoreo_hidrico.groupby(['Departamento', 'Estado']).agg({'Estado':'count'})\n",
        "top_5_departamentos.query('Departamento == \"Valle del Cauca\"')\n"
      ],
      "execution_count": null,
      "outputs": [
        {
          "output_type": "execute_result",
          "data": {
            "text/html": [
              "<div>\n",
              "<style scoped>\n",
              "    .dataframe tbody tr th:only-of-type {\n",
              "        vertical-align: middle;\n",
              "    }\n",
              "\n",
              "    .dataframe tbody tr th {\n",
              "        vertical-align: top;\n",
              "    }\n",
              "\n",
              "    .dataframe thead th {\n",
              "        text-align: right;\n",
              "    }\n",
              "</style>\n",
              "<table border=\"1\" class=\"dataframe\">\n",
              "  <thead>\n",
              "    <tr style=\"text-align: right;\">\n",
              "      <th></th>\n",
              "      <th></th>\n",
              "      <th>Estado</th>\n",
              "    </tr>\n",
              "    <tr>\n",
              "      <th>Departamento</th>\n",
              "      <th>Estado</th>\n",
              "      <th></th>\n",
              "    </tr>\n",
              "  </thead>\n",
              "  <tbody>\n",
              "    <tr>\n",
              "      <th rowspan=\"3\" valign=\"top\">Valle del Cauca</th>\n",
              "      <th>Activa</th>\n",
              "      <td>577</td>\n",
              "    </tr>\n",
              "    <tr>\n",
              "      <th>En Mantenimiento</th>\n",
              "      <td>2</td>\n",
              "    </tr>\n",
              "    <tr>\n",
              "      <th>Suspendida</th>\n",
              "      <td>248</td>\n",
              "    </tr>\n",
              "  </tbody>\n",
              "</table>\n",
              "</div>"
            ],
            "text/plain": [
              "                                  Estado\n",
              "Departamento    Estado                  \n",
              "Valle del Cauca Activa               577\n",
              "                En Mantenimiento       2\n",
              "                Suspendida           248"
            ]
          },
          "metadata": {
            "tags": []
          },
          "execution_count": 279
        }
      ]
    },
    {
      "cell_type": "code",
      "metadata": {
        "colab": {
          "base_uri": "https://localhost:8080/",
          "height": 166
        },
        "id": "7l7jzcxworyZ",
        "outputId": "51eb63ae-2e3c-4fd7-8dc6-1e678057b982"
      },
      "source": [
        "top_5_departamentos = centro_monitoreo_hidrico.groupby(['Departamento', 'Estado']).agg({'Estado':'count'})\n",
        "top_5_departamentos.query('Departamento == \"Boyacá\"')\n"
      ],
      "execution_count": null,
      "outputs": [
        {
          "output_type": "execute_result",
          "data": {
            "text/html": [
              "<div>\n",
              "<style scoped>\n",
              "    .dataframe tbody tr th:only-of-type {\n",
              "        vertical-align: middle;\n",
              "    }\n",
              "\n",
              "    .dataframe tbody tr th {\n",
              "        vertical-align: top;\n",
              "    }\n",
              "\n",
              "    .dataframe thead th {\n",
              "        text-align: right;\n",
              "    }\n",
              "</style>\n",
              "<table border=\"1\" class=\"dataframe\">\n",
              "  <thead>\n",
              "    <tr style=\"text-align: right;\">\n",
              "      <th></th>\n",
              "      <th></th>\n",
              "      <th>Estado</th>\n",
              "    </tr>\n",
              "    <tr>\n",
              "      <th>Departamento</th>\n",
              "      <th>Estado</th>\n",
              "      <th></th>\n",
              "    </tr>\n",
              "  </thead>\n",
              "  <tbody>\n",
              "    <tr>\n",
              "      <th rowspan=\"3\" valign=\"top\">Boyacá</th>\n",
              "      <th>Activa</th>\n",
              "      <td>326</td>\n",
              "    </tr>\n",
              "    <tr>\n",
              "      <th>En Mantenimiento</th>\n",
              "      <td>1</td>\n",
              "    </tr>\n",
              "    <tr>\n",
              "      <th>Suspendida</th>\n",
              "      <td>193</td>\n",
              "    </tr>\n",
              "  </tbody>\n",
              "</table>\n",
              "</div>"
            ],
            "text/plain": [
              "                               Estado\n",
              "Departamento Estado                  \n",
              "Boyacá       Activa               326\n",
              "             En Mantenimiento       1\n",
              "             Suspendida           193"
            ]
          },
          "metadata": {
            "tags": []
          },
          "execution_count": 293
        }
      ]
    },
    {
      "cell_type": "code",
      "metadata": {
        "colab": {
          "base_uri": "https://localhost:8080/",
          "height": 166
        },
        "id": "otVdn6_YUwF1",
        "outputId": "17fd4273-24f6-4ff6-b8d2-6006c7c9917f"
      },
      "source": [
        "top_5_departamentos = centro_monitoreo_hidrico.groupby(['Departamento', 'Estado']).agg({'Estado':'count'})\n",
        "top_5_departamentos.query('Departamento == \"Caldas\"')"
      ],
      "execution_count": null,
      "outputs": [
        {
          "output_type": "execute_result",
          "data": {
            "text/html": [
              "<div>\n",
              "<style scoped>\n",
              "    .dataframe tbody tr th:only-of-type {\n",
              "        vertical-align: middle;\n",
              "    }\n",
              "\n",
              "    .dataframe tbody tr th {\n",
              "        vertical-align: top;\n",
              "    }\n",
              "\n",
              "    .dataframe thead th {\n",
              "        text-align: right;\n",
              "    }\n",
              "</style>\n",
              "<table border=\"1\" class=\"dataframe\">\n",
              "  <thead>\n",
              "    <tr style=\"text-align: right;\">\n",
              "      <th></th>\n",
              "      <th></th>\n",
              "      <th>Estado</th>\n",
              "    </tr>\n",
              "    <tr>\n",
              "      <th>Departamento</th>\n",
              "      <th>Estado</th>\n",
              "      <th></th>\n",
              "    </tr>\n",
              "  </thead>\n",
              "  <tbody>\n",
              "    <tr>\n",
              "      <th rowspan=\"3\" valign=\"top\">Caldas</th>\n",
              "      <th>Activa</th>\n",
              "      <td>323</td>\n",
              "    </tr>\n",
              "    <tr>\n",
              "      <th>En Mantenimiento</th>\n",
              "      <td>1</td>\n",
              "    </tr>\n",
              "    <tr>\n",
              "      <th>Suspendida</th>\n",
              "      <td>81</td>\n",
              "    </tr>\n",
              "  </tbody>\n",
              "</table>\n",
              "</div>"
            ],
            "text/plain": [
              "                               Estado\n",
              "Departamento Estado                  \n",
              "Caldas       Activa               323\n",
              "             En Mantenimiento       1\n",
              "             Suspendida            81"
            ]
          },
          "metadata": {
            "tags": []
          },
          "execution_count": 5
        }
      ]
    },
    {
      "cell_type": "code",
      "metadata": {
        "colab": {
          "base_uri": "https://localhost:8080/",
          "height": 166
        },
        "id": "vZDZF1fbrnEp",
        "outputId": "c10a2409-4795-4d97-d05e-7cabb5fb8f94"
      },
      "source": [
        "top_5_departamentos = centro_monitoreo_hidrico.groupby(['Departamento', 'Estado']).agg({'Estado':'count'})\n",
        "top_5_departamentos.query('Departamento == \"Santander\"')"
      ],
      "execution_count": null,
      "outputs": [
        {
          "output_type": "execute_result",
          "data": {
            "text/html": [
              "<div>\n",
              "<style scoped>\n",
              "    .dataframe tbody tr th:only-of-type {\n",
              "        vertical-align: middle;\n",
              "    }\n",
              "\n",
              "    .dataframe tbody tr th {\n",
              "        vertical-align: top;\n",
              "    }\n",
              "\n",
              "    .dataframe thead th {\n",
              "        text-align: right;\n",
              "    }\n",
              "</style>\n",
              "<table border=\"1\" class=\"dataframe\">\n",
              "  <thead>\n",
              "    <tr style=\"text-align: right;\">\n",
              "      <th></th>\n",
              "      <th></th>\n",
              "      <th>Estado</th>\n",
              "    </tr>\n",
              "    <tr>\n",
              "      <th>Departamento</th>\n",
              "      <th>Estado</th>\n",
              "      <th></th>\n",
              "    </tr>\n",
              "  </thead>\n",
              "  <tbody>\n",
              "    <tr>\n",
              "      <th rowspan=\"3\" valign=\"top\">Santander</th>\n",
              "      <th>Activa</th>\n",
              "      <td>273</td>\n",
              "    </tr>\n",
              "    <tr>\n",
              "      <th>En Mantenimiento</th>\n",
              "      <td>1</td>\n",
              "    </tr>\n",
              "    <tr>\n",
              "      <th>Suspendida</th>\n",
              "      <td>199</td>\n",
              "    </tr>\n",
              "  </tbody>\n",
              "</table>\n",
              "</div>"
            ],
            "text/plain": [
              "                               Estado\n",
              "Departamento Estado                  \n",
              "Santander    Activa               273\n",
              "             En Mantenimiento       1\n",
              "             Suspendida           199"
            ]
          },
          "metadata": {
            "tags": []
          },
          "execution_count": 297
        }
      ]
    },
    {
      "cell_type": "markdown",
      "metadata": {
        "id": "2gziPepha_-k"
      },
      "source": [
        "## **Identifique los departamento con mayor número de estaciones según su categoria**"
      ]
    },
    {
      "cell_type": "code",
      "metadata": {
        "colab": {
          "base_uri": "https://localhost:8080/",
          "height": 669
        },
        "id": "6J6PRoZ6Wrpa",
        "outputId": "d432aec1-30c4-4ee8-daa3-e84d4e8ad778"
      },
      "source": [
        "centro_monitoreo_hidrico.groupby(['Categoria', 'Departamento']).agg({'Estado':'count'}).sort_values('Estado', ascending=False).head(20)\n"
      ],
      "execution_count": null,
      "outputs": [
        {
          "output_type": "execute_result",
          "data": {
            "text/html": [
              "<div>\n",
              "<style scoped>\n",
              "    .dataframe tbody tr th:only-of-type {\n",
              "        vertical-align: middle;\n",
              "    }\n",
              "\n",
              "    .dataframe tbody tr th {\n",
              "        vertical-align: top;\n",
              "    }\n",
              "\n",
              "    .dataframe thead th {\n",
              "        text-align: right;\n",
              "    }\n",
              "</style>\n",
              "<table border=\"1\" class=\"dataframe\">\n",
              "  <thead>\n",
              "    <tr style=\"text-align: right;\">\n",
              "      <th></th>\n",
              "      <th></th>\n",
              "      <th>Estado</th>\n",
              "    </tr>\n",
              "    <tr>\n",
              "      <th>Categoria</th>\n",
              "      <th>Departamento</th>\n",
              "      <th></th>\n",
              "    </tr>\n",
              "  </thead>\n",
              "  <tbody>\n",
              "    <tr>\n",
              "      <th rowspan=\"2\" valign=\"top\">Pluviométrica</th>\n",
              "      <th>Valle del Cauca</th>\n",
              "      <td>419</td>\n",
              "    </tr>\n",
              "    <tr>\n",
              "      <th>Antioquia</th>\n",
              "      <td>367</td>\n",
              "    </tr>\n",
              "    <tr>\n",
              "      <th>Limnimétrica</th>\n",
              "      <th>Cundinamarca</th>\n",
              "      <td>316</td>\n",
              "    </tr>\n",
              "    <tr>\n",
              "      <th>Pluviométrica</th>\n",
              "      <th>Cundinamarca</th>\n",
              "      <td>292</td>\n",
              "    </tr>\n",
              "    <tr>\n",
              "      <th>Limnigráfica</th>\n",
              "      <th>Antioquia</th>\n",
              "      <td>258</td>\n",
              "    </tr>\n",
              "    <tr>\n",
              "      <th>Pluviográfica</th>\n",
              "      <th>Antioquia</th>\n",
              "      <td>257</td>\n",
              "    </tr>\n",
              "    <tr>\n",
              "      <th rowspan=\"4\" valign=\"top\">Pluviométrica</th>\n",
              "      <th>Santander</th>\n",
              "      <td>223</td>\n",
              "    </tr>\n",
              "    <tr>\n",
              "      <th>Tolima</th>\n",
              "      <td>208</td>\n",
              "    </tr>\n",
              "    <tr>\n",
              "      <th>Boyacá</th>\n",
              "      <td>182</td>\n",
              "    </tr>\n",
              "    <tr>\n",
              "      <th>Cauca</th>\n",
              "      <td>175</td>\n",
              "    </tr>\n",
              "    <tr>\n",
              "      <th>Limnimétrica</th>\n",
              "      <th>Antioquia</th>\n",
              "      <td>166</td>\n",
              "    </tr>\n",
              "    <tr>\n",
              "      <th rowspan=\"3\" valign=\"top\">Pluviométrica</th>\n",
              "      <th>Caldas</th>\n",
              "      <td>161</td>\n",
              "    </tr>\n",
              "    <tr>\n",
              "      <th>Cesar</th>\n",
              "      <td>160</td>\n",
              "    </tr>\n",
              "    <tr>\n",
              "      <th>Huila</th>\n",
              "      <td>153</td>\n",
              "    </tr>\n",
              "    <tr>\n",
              "      <th>Limnigráfica</th>\n",
              "      <th>Cundinamarca</th>\n",
              "      <td>141</td>\n",
              "    </tr>\n",
              "    <tr>\n",
              "      <th rowspan=\"2\" valign=\"top\">Limnimétrica</th>\n",
              "      <th>Boyacá</th>\n",
              "      <td>141</td>\n",
              "    </tr>\n",
              "    <tr>\n",
              "      <th>Bolívar</th>\n",
              "      <td>131</td>\n",
              "    </tr>\n",
              "    <tr>\n",
              "      <th>Pluviométrica</th>\n",
              "      <th>Norte de Santander</th>\n",
              "      <td>129</td>\n",
              "    </tr>\n",
              "    <tr>\n",
              "      <th>Limnimétrica</th>\n",
              "      <th>Santander</th>\n",
              "      <td>115</td>\n",
              "    </tr>\n",
              "    <tr>\n",
              "      <th>Pluviométrica</th>\n",
              "      <th>Bogotá</th>\n",
              "      <td>111</td>\n",
              "    </tr>\n",
              "  </tbody>\n",
              "</table>\n",
              "</div>"
            ],
            "text/plain": [
              "                                  Estado\n",
              "Categoria     Departamento              \n",
              "Pluviométrica Valle del Cauca        419\n",
              "              Antioquia              367\n",
              "Limnimétrica  Cundinamarca           316\n",
              "Pluviométrica Cundinamarca           292\n",
              "Limnigráfica  Antioquia              258\n",
              "Pluviográfica Antioquia              257\n",
              "Pluviométrica Santander              223\n",
              "              Tolima                 208\n",
              "              Boyacá                 182\n",
              "              Cauca                  175\n",
              "Limnimétrica  Antioquia              166\n",
              "Pluviométrica Caldas                 161\n",
              "              Cesar                  160\n",
              "              Huila                  153\n",
              "Limnigráfica  Cundinamarca           141\n",
              "Limnimétrica  Boyacá                 141\n",
              "              Bolívar                131\n",
              "Pluviométrica Norte de Santander     129\n",
              "Limnimétrica  Santander              115\n",
              "Pluviométrica Bogotá                 111"
            ]
          },
          "metadata": {
            "tags": []
          },
          "execution_count": 29
        }
      ]
    },
    {
      "cell_type": "markdown",
      "metadata": {
        "id": "Xo6kGvrndBAG"
      },
      "source": [
        "Aunque vemos que Antioquia tiene mayor número de estaciones Activas, Es el Valle del Cauca quien tiene mayor número de estaciones Pluviométricas instaladas"
      ]
    },
    {
      "cell_type": "markdown",
      "metadata": {
        "id": "9zv0T8aK6zCd"
      },
      "source": [
        "# **value_counts() para cuantificar las corrientes hidricas monitoreadas**"
      ]
    },
    {
      "cell_type": "code",
      "metadata": {
        "colab": {
          "base_uri": "https://localhost:8080/",
          "height": 431
        },
        "id": "SxaBzs6W-Fuu",
        "outputId": "36b0ea9f-9f4d-4ca7-9817-f461e8d5b0ce"
      },
      "source": [
        "corriente_hidrica = centro_monitoreo_hidrico.groupby(['Departamento', 'Corriente', 'Categoria', 'Estado']).count()\n",
        "df_corriente_hidrica = pd.DataFrame(corriente_hidrica)\n",
        "df_corriente_hidrica"
      ],
      "execution_count": null,
      "outputs": [
        {
          "output_type": "execute_result",
          "data": {
            "text/html": [
              "<div>\n",
              "<style scoped>\n",
              "    .dataframe tbody tr th:only-of-type {\n",
              "        vertical-align: middle;\n",
              "    }\n",
              "\n",
              "    .dataframe tbody tr th {\n",
              "        vertical-align: top;\n",
              "    }\n",
              "\n",
              "    .dataframe thead th {\n",
              "        text-align: right;\n",
              "    }\n",
              "</style>\n",
              "<table border=\"1\" class=\"dataframe\">\n",
              "  <thead>\n",
              "    <tr style=\"text-align: right;\">\n",
              "      <th></th>\n",
              "      <th></th>\n",
              "      <th></th>\n",
              "      <th></th>\n",
              "      <th>Codigo</th>\n",
              "      <th>Nombre</th>\n",
              "      <th>Municipio</th>\n",
              "      <th>Ubicación</th>\n",
              "      <th>Altitud</th>\n",
              "      <th>Fecha_instalacion</th>\n",
              "      <th>Fecha_suspension</th>\n",
              "    </tr>\n",
              "    <tr>\n",
              "      <th>Departamento</th>\n",
              "      <th>Corriente</th>\n",
              "      <th>Categoria</th>\n",
              "      <th>Estado</th>\n",
              "      <th></th>\n",
              "      <th></th>\n",
              "      <th></th>\n",
              "      <th></th>\n",
              "      <th></th>\n",
              "      <th></th>\n",
              "      <th></th>\n",
              "    </tr>\n",
              "  </thead>\n",
              "  <tbody>\n",
              "    <tr>\n",
              "      <th rowspan=\"5\" valign=\"top\">Amazonas</th>\n",
              "      <th rowspan=\"5\" valign=\"top\">0</th>\n",
              "      <th>Climática Ordinaria</th>\n",
              "      <th>Suspendida</th>\n",
              "      <td>1</td>\n",
              "      <td>1</td>\n",
              "      <td>1</td>\n",
              "      <td>1</td>\n",
              "      <td>1</td>\n",
              "      <td>1</td>\n",
              "      <td>1</td>\n",
              "    </tr>\n",
              "    <tr>\n",
              "      <th>Climática Principal</th>\n",
              "      <th>Activa</th>\n",
              "      <td>1</td>\n",
              "      <td>1</td>\n",
              "      <td>1</td>\n",
              "      <td>1</td>\n",
              "      <td>1</td>\n",
              "      <td>1</td>\n",
              "      <td>0</td>\n",
              "    </tr>\n",
              "    <tr>\n",
              "      <th>Meteorológica Especial</th>\n",
              "      <th>Suspendida</th>\n",
              "      <td>1</td>\n",
              "      <td>1</td>\n",
              "      <td>1</td>\n",
              "      <td>1</td>\n",
              "      <td>1</td>\n",
              "      <td>1</td>\n",
              "      <td>1</td>\n",
              "    </tr>\n",
              "    <tr>\n",
              "      <th>Pluviométrica</th>\n",
              "      <th>Activa</th>\n",
              "      <td>1</td>\n",
              "      <td>1</td>\n",
              "      <td>1</td>\n",
              "      <td>1</td>\n",
              "      <td>1</td>\n",
              "      <td>1</td>\n",
              "      <td>0</td>\n",
              "    </tr>\n",
              "    <tr>\n",
              "      <th>Radio Sonda</th>\n",
              "      <th>Activa</th>\n",
              "      <td>2</td>\n",
              "      <td>2</td>\n",
              "      <td>2</td>\n",
              "      <td>2</td>\n",
              "      <td>2</td>\n",
              "      <td>2</td>\n",
              "      <td>0</td>\n",
              "    </tr>\n",
              "    <tr>\n",
              "      <th>...</th>\n",
              "      <th>...</th>\n",
              "      <th>...</th>\n",
              "      <th>...</th>\n",
              "      <td>...</td>\n",
              "      <td>...</td>\n",
              "      <td>...</td>\n",
              "      <td>...</td>\n",
              "      <td>...</td>\n",
              "      <td>...</td>\n",
              "      <td>...</td>\n",
              "    </tr>\n",
              "    <tr>\n",
              "      <th rowspan=\"5\" valign=\"top\">Vichada</th>\n",
              "      <th>Quebrada Guatoque</th>\n",
              "      <th>Pluviométrica</th>\n",
              "      <th>Suspendida</th>\n",
              "      <td>1</td>\n",
              "      <td>1</td>\n",
              "      <td>1</td>\n",
              "      <td>1</td>\n",
              "      <td>1</td>\n",
              "      <td>1</td>\n",
              "      <td>1</td>\n",
              "    </tr>\n",
              "    <tr>\n",
              "      <th>Quebrada Idaza</th>\n",
              "      <th>Climática Ordinaria</th>\n",
              "      <th>Activa</th>\n",
              "      <td>1</td>\n",
              "      <td>1</td>\n",
              "      <td>1</td>\n",
              "      <td>1</td>\n",
              "      <td>1</td>\n",
              "      <td>1</td>\n",
              "      <td>0</td>\n",
              "    </tr>\n",
              "    <tr>\n",
              "      <th>Quebrada Los Pozos</th>\n",
              "      <th>Pluviométrica</th>\n",
              "      <th>Activa</th>\n",
              "      <td>1</td>\n",
              "      <td>1</td>\n",
              "      <td>1</td>\n",
              "      <td>1</td>\n",
              "      <td>1</td>\n",
              "      <td>1</td>\n",
              "      <td>0</td>\n",
              "    </tr>\n",
              "    <tr>\n",
              "      <th>Tuparro</th>\n",
              "      <th>Limnimétrica</th>\n",
              "      <th>Activa</th>\n",
              "      <td>2</td>\n",
              "      <td>2</td>\n",
              "      <td>2</td>\n",
              "      <td>2</td>\n",
              "      <td>2</td>\n",
              "      <td>2</td>\n",
              "      <td>0</td>\n",
              "    </tr>\n",
              "    <tr>\n",
              "      <th>Vichada</th>\n",
              "      <th>Limnimétrica</th>\n",
              "      <th>Activa</th>\n",
              "      <td>1</td>\n",
              "      <td>1</td>\n",
              "      <td>1</td>\n",
              "      <td>1</td>\n",
              "      <td>1</td>\n",
              "      <td>1</td>\n",
              "      <td>0</td>\n",
              "    </tr>\n",
              "  </tbody>\n",
              "</table>\n",
              "<p>5373 rows × 7 columns</p>\n",
              "</div>"
            ],
            "text/plain": [
              "                                                                   Codigo  ...  Fecha_suspension\n",
              "Departamento Corriente          Categoria              Estado              ...                  \n",
              "Amazonas     0                  Climática Ordinaria    Suspendida       1  ...                 1\n",
              "                                Climática Principal    Activa           1  ...                 0\n",
              "                                Meteorológica Especial Suspendida       1  ...                 1\n",
              "                                Pluviométrica          Activa           1  ...                 0\n",
              "                                Radio Sonda            Activa           2  ...                 0\n",
              "...                                                                   ...  ...               ...\n",
              "Vichada      Quebrada Guatoque  Pluviométrica          Suspendida       1  ...                 1\n",
              "             Quebrada Idaza     Climática Ordinaria    Activa           1  ...                 0\n",
              "             Quebrada Los Pozos Pluviométrica          Activa           1  ...                 0\n",
              "             Tuparro            Limnimétrica           Activa           2  ...                 0\n",
              "             Vichada            Limnimétrica           Activa           1  ...                 0\n",
              "\n",
              "[5373 rows x 7 columns]"
            ]
          },
          "metadata": {
            "tags": []
          },
          "execution_count": 29
        }
      ]
    },
    {
      "cell_type": "markdown",
      "metadata": {
        "id": "UelY-o1zF4ji"
      },
      "source": [
        "Vemos que me imprimio todas las columnas con un valor. Sin embargo, no requiero todos los valores del DataFrame. Por lo tanto, **renombro la columna 'Codigo' por 'Total'**"
      ]
    },
    {
      "cell_type": "code",
      "metadata": {
        "colab": {
          "base_uri": "https://localhost:8080/",
          "height": 431
        },
        "id": "k1UhQ2nIEhIC",
        "outputId": "106a6626-4d8b-4f3a-d3d3-3abf84c37719"
      },
      "source": [
        "renombrar_columna_codigo = df_corriente_hidrica.rename(columns={'Codigo': 'Total'})\n",
        "renombrar_columna_codigo"
      ],
      "execution_count": null,
      "outputs": [
        {
          "output_type": "execute_result",
          "data": {
            "text/html": [
              "<div>\n",
              "<style scoped>\n",
              "    .dataframe tbody tr th:only-of-type {\n",
              "        vertical-align: middle;\n",
              "    }\n",
              "\n",
              "    .dataframe tbody tr th {\n",
              "        vertical-align: top;\n",
              "    }\n",
              "\n",
              "    .dataframe thead th {\n",
              "        text-align: right;\n",
              "    }\n",
              "</style>\n",
              "<table border=\"1\" class=\"dataframe\">\n",
              "  <thead>\n",
              "    <tr style=\"text-align: right;\">\n",
              "      <th></th>\n",
              "      <th></th>\n",
              "      <th></th>\n",
              "      <th></th>\n",
              "      <th>Total</th>\n",
              "      <th>Nombre</th>\n",
              "      <th>Municipio</th>\n",
              "      <th>Ubicación</th>\n",
              "      <th>Altitud</th>\n",
              "      <th>Fecha_instalacion</th>\n",
              "      <th>Fecha_suspension</th>\n",
              "    </tr>\n",
              "    <tr>\n",
              "      <th>Departamento</th>\n",
              "      <th>Corriente</th>\n",
              "      <th>Categoria</th>\n",
              "      <th>Estado</th>\n",
              "      <th></th>\n",
              "      <th></th>\n",
              "      <th></th>\n",
              "      <th></th>\n",
              "      <th></th>\n",
              "      <th></th>\n",
              "      <th></th>\n",
              "    </tr>\n",
              "  </thead>\n",
              "  <tbody>\n",
              "    <tr>\n",
              "      <th rowspan=\"5\" valign=\"top\">Amazonas</th>\n",
              "      <th rowspan=\"5\" valign=\"top\">0</th>\n",
              "      <th>Climática Ordinaria</th>\n",
              "      <th>Suspendida</th>\n",
              "      <td>1</td>\n",
              "      <td>1</td>\n",
              "      <td>1</td>\n",
              "      <td>1</td>\n",
              "      <td>1</td>\n",
              "      <td>1</td>\n",
              "      <td>1</td>\n",
              "    </tr>\n",
              "    <tr>\n",
              "      <th>Climática Principal</th>\n",
              "      <th>Activa</th>\n",
              "      <td>1</td>\n",
              "      <td>1</td>\n",
              "      <td>1</td>\n",
              "      <td>1</td>\n",
              "      <td>1</td>\n",
              "      <td>1</td>\n",
              "      <td>0</td>\n",
              "    </tr>\n",
              "    <tr>\n",
              "      <th>Meteorológica Especial</th>\n",
              "      <th>Suspendida</th>\n",
              "      <td>1</td>\n",
              "      <td>1</td>\n",
              "      <td>1</td>\n",
              "      <td>1</td>\n",
              "      <td>1</td>\n",
              "      <td>1</td>\n",
              "      <td>1</td>\n",
              "    </tr>\n",
              "    <tr>\n",
              "      <th>Pluviométrica</th>\n",
              "      <th>Activa</th>\n",
              "      <td>1</td>\n",
              "      <td>1</td>\n",
              "      <td>1</td>\n",
              "      <td>1</td>\n",
              "      <td>1</td>\n",
              "      <td>1</td>\n",
              "      <td>0</td>\n",
              "    </tr>\n",
              "    <tr>\n",
              "      <th>Radio Sonda</th>\n",
              "      <th>Activa</th>\n",
              "      <td>2</td>\n",
              "      <td>2</td>\n",
              "      <td>2</td>\n",
              "      <td>2</td>\n",
              "      <td>2</td>\n",
              "      <td>2</td>\n",
              "      <td>0</td>\n",
              "    </tr>\n",
              "    <tr>\n",
              "      <th>...</th>\n",
              "      <th>...</th>\n",
              "      <th>...</th>\n",
              "      <th>...</th>\n",
              "      <td>...</td>\n",
              "      <td>...</td>\n",
              "      <td>...</td>\n",
              "      <td>...</td>\n",
              "      <td>...</td>\n",
              "      <td>...</td>\n",
              "      <td>...</td>\n",
              "    </tr>\n",
              "    <tr>\n",
              "      <th rowspan=\"5\" valign=\"top\">Vichada</th>\n",
              "      <th>Quebrada Guatoque</th>\n",
              "      <th>Pluviométrica</th>\n",
              "      <th>Suspendida</th>\n",
              "      <td>1</td>\n",
              "      <td>1</td>\n",
              "      <td>1</td>\n",
              "      <td>1</td>\n",
              "      <td>1</td>\n",
              "      <td>1</td>\n",
              "      <td>1</td>\n",
              "    </tr>\n",
              "    <tr>\n",
              "      <th>Quebrada Idaza</th>\n",
              "      <th>Climática Ordinaria</th>\n",
              "      <th>Activa</th>\n",
              "      <td>1</td>\n",
              "      <td>1</td>\n",
              "      <td>1</td>\n",
              "      <td>1</td>\n",
              "      <td>1</td>\n",
              "      <td>1</td>\n",
              "      <td>0</td>\n",
              "    </tr>\n",
              "    <tr>\n",
              "      <th>Quebrada Los Pozos</th>\n",
              "      <th>Pluviométrica</th>\n",
              "      <th>Activa</th>\n",
              "      <td>1</td>\n",
              "      <td>1</td>\n",
              "      <td>1</td>\n",
              "      <td>1</td>\n",
              "      <td>1</td>\n",
              "      <td>1</td>\n",
              "      <td>0</td>\n",
              "    </tr>\n",
              "    <tr>\n",
              "      <th>Tuparro</th>\n",
              "      <th>Limnimétrica</th>\n",
              "      <th>Activa</th>\n",
              "      <td>2</td>\n",
              "      <td>2</td>\n",
              "      <td>2</td>\n",
              "      <td>2</td>\n",
              "      <td>2</td>\n",
              "      <td>2</td>\n",
              "      <td>0</td>\n",
              "    </tr>\n",
              "    <tr>\n",
              "      <th>Vichada</th>\n",
              "      <th>Limnimétrica</th>\n",
              "      <th>Activa</th>\n",
              "      <td>1</td>\n",
              "      <td>1</td>\n",
              "      <td>1</td>\n",
              "      <td>1</td>\n",
              "      <td>1</td>\n",
              "      <td>1</td>\n",
              "      <td>0</td>\n",
              "    </tr>\n",
              "  </tbody>\n",
              "</table>\n",
              "<p>5373 rows × 7 columns</p>\n",
              "</div>"
            ],
            "text/plain": [
              "                                                                   Total  ...  Fecha_suspension\n",
              "Departamento Corriente          Categoria              Estado             ...                  \n",
              "Amazonas     0                  Climática Ordinaria    Suspendida      1  ...                 1\n",
              "                                Climática Principal    Activa          1  ...                 0\n",
              "                                Meteorológica Especial Suspendida      1  ...                 1\n",
              "                                Pluviométrica          Activa          1  ...                 0\n",
              "                                Radio Sonda            Activa          2  ...                 0\n",
              "...                                                                  ...  ...               ...\n",
              "Vichada      Quebrada Guatoque  Pluviométrica          Suspendida      1  ...                 1\n",
              "             Quebrada Idaza     Climática Ordinaria    Activa          1  ...                 0\n",
              "             Quebrada Los Pozos Pluviométrica          Activa          1  ...                 0\n",
              "             Tuparro            Limnimétrica           Activa          2  ...                 0\n",
              "             Vichada            Limnimétrica           Activa          1  ...                 0\n",
              "\n",
              "[5373 rows x 7 columns]"
            ]
          },
          "metadata": {
            "tags": []
          },
          "execution_count": 35
        }
      ]
    },
    {
      "cell_type": "markdown",
      "metadata": {
        "id": "-HNd1NvLGkOy"
      },
      "source": [
        "Ahora que la he renombrado, solo quiero visualizar los datos hasta la columna 'Total'"
      ]
    },
    {
      "cell_type": "code",
      "metadata": {
        "colab": {
          "base_uri": "https://localhost:8080/",
          "height": 431
        },
        "id": "stKwDAJmFqRL",
        "outputId": "9ed6a1e9-4a6b-46de-98e2-a10cf3432add"
      },
      "source": [
        "renombrar_columna_codigo.iloc[:, [0]]"
      ],
      "execution_count": null,
      "outputs": [
        {
          "output_type": "execute_result",
          "data": {
            "text/html": [
              "<div>\n",
              "<style scoped>\n",
              "    .dataframe tbody tr th:only-of-type {\n",
              "        vertical-align: middle;\n",
              "    }\n",
              "\n",
              "    .dataframe tbody tr th {\n",
              "        vertical-align: top;\n",
              "    }\n",
              "\n",
              "    .dataframe thead th {\n",
              "        text-align: right;\n",
              "    }\n",
              "</style>\n",
              "<table border=\"1\" class=\"dataframe\">\n",
              "  <thead>\n",
              "    <tr style=\"text-align: right;\">\n",
              "      <th></th>\n",
              "      <th></th>\n",
              "      <th></th>\n",
              "      <th></th>\n",
              "      <th>Total</th>\n",
              "    </tr>\n",
              "    <tr>\n",
              "      <th>Departamento</th>\n",
              "      <th>Corriente</th>\n",
              "      <th>Categoria</th>\n",
              "      <th>Estado</th>\n",
              "      <th></th>\n",
              "    </tr>\n",
              "  </thead>\n",
              "  <tbody>\n",
              "    <tr>\n",
              "      <th rowspan=\"5\" valign=\"top\">Amazonas</th>\n",
              "      <th rowspan=\"5\" valign=\"top\">0</th>\n",
              "      <th>Climática Ordinaria</th>\n",
              "      <th>Suspendida</th>\n",
              "      <td>1</td>\n",
              "    </tr>\n",
              "    <tr>\n",
              "      <th>Climática Principal</th>\n",
              "      <th>Activa</th>\n",
              "      <td>1</td>\n",
              "    </tr>\n",
              "    <tr>\n",
              "      <th>Meteorológica Especial</th>\n",
              "      <th>Suspendida</th>\n",
              "      <td>1</td>\n",
              "    </tr>\n",
              "    <tr>\n",
              "      <th>Pluviométrica</th>\n",
              "      <th>Activa</th>\n",
              "      <td>1</td>\n",
              "    </tr>\n",
              "    <tr>\n",
              "      <th>Radio Sonda</th>\n",
              "      <th>Activa</th>\n",
              "      <td>2</td>\n",
              "    </tr>\n",
              "    <tr>\n",
              "      <th>...</th>\n",
              "      <th>...</th>\n",
              "      <th>...</th>\n",
              "      <th>...</th>\n",
              "      <td>...</td>\n",
              "    </tr>\n",
              "    <tr>\n",
              "      <th rowspan=\"5\" valign=\"top\">Vichada</th>\n",
              "      <th>Quebrada Guatoque</th>\n",
              "      <th>Pluviométrica</th>\n",
              "      <th>Suspendida</th>\n",
              "      <td>1</td>\n",
              "    </tr>\n",
              "    <tr>\n",
              "      <th>Quebrada Idaza</th>\n",
              "      <th>Climática Ordinaria</th>\n",
              "      <th>Activa</th>\n",
              "      <td>1</td>\n",
              "    </tr>\n",
              "    <tr>\n",
              "      <th>Quebrada Los Pozos</th>\n",
              "      <th>Pluviométrica</th>\n",
              "      <th>Activa</th>\n",
              "      <td>1</td>\n",
              "    </tr>\n",
              "    <tr>\n",
              "      <th>Tuparro</th>\n",
              "      <th>Limnimétrica</th>\n",
              "      <th>Activa</th>\n",
              "      <td>2</td>\n",
              "    </tr>\n",
              "    <tr>\n",
              "      <th>Vichada</th>\n",
              "      <th>Limnimétrica</th>\n",
              "      <th>Activa</th>\n",
              "      <td>1</td>\n",
              "    </tr>\n",
              "  </tbody>\n",
              "</table>\n",
              "<p>5373 rows × 1 columns</p>\n",
              "</div>"
            ],
            "text/plain": [
              "                                                                   Total\n",
              "Departamento Corriente          Categoria              Estado           \n",
              "Amazonas     0                  Climática Ordinaria    Suspendida      1\n",
              "                                Climática Principal    Activa          1\n",
              "                                Meteorológica Especial Suspendida      1\n",
              "                                Pluviométrica          Activa          1\n",
              "                                Radio Sonda            Activa          2\n",
              "...                                                                  ...\n",
              "Vichada      Quebrada Guatoque  Pluviométrica          Suspendida      1\n",
              "             Quebrada Idaza     Climática Ordinaria    Activa          1\n",
              "             Quebrada Los Pozos Pluviométrica          Activa          1\n",
              "             Tuparro            Limnimétrica           Activa          2\n",
              "             Vichada            Limnimétrica           Activa          1\n",
              "\n",
              "[5373 rows x 1 columns]"
            ]
          },
          "metadata": {
            "tags": []
          },
          "execution_count": 42
        }
      ]
    },
    {
      "cell_type": "code",
      "metadata": {
        "colab": {
          "base_uri": "https://localhost:8080/",
          "height": 373
        },
        "id": "NNvm1UEaHzR_",
        "outputId": "abaecbe1-ea80-4e71-8c45-4b76a21a593c"
      },
      "source": [
        "renombrar_columna_codigo.query('Corriente == \"Medellin\"')"
      ],
      "execution_count": null,
      "outputs": [
        {
          "output_type": "execute_result",
          "data": {
            "text/html": [
              "<div>\n",
              "<style scoped>\n",
              "    .dataframe tbody tr th:only-of-type {\n",
              "        vertical-align: middle;\n",
              "    }\n",
              "\n",
              "    .dataframe tbody tr th {\n",
              "        vertical-align: top;\n",
              "    }\n",
              "\n",
              "    .dataframe thead th {\n",
              "        text-align: right;\n",
              "    }\n",
              "</style>\n",
              "<table border=\"1\" class=\"dataframe\">\n",
              "  <thead>\n",
              "    <tr style=\"text-align: right;\">\n",
              "      <th></th>\n",
              "      <th></th>\n",
              "      <th></th>\n",
              "      <th></th>\n",
              "      <th>Total</th>\n",
              "      <th>Nombre</th>\n",
              "      <th>Municipio</th>\n",
              "      <th>Ubicación</th>\n",
              "      <th>Altitud</th>\n",
              "      <th>Fecha_instalacion</th>\n",
              "      <th>Fecha_suspension</th>\n",
              "    </tr>\n",
              "    <tr>\n",
              "      <th>Departamento</th>\n",
              "      <th>Corriente</th>\n",
              "      <th>Categoria</th>\n",
              "      <th>Estado</th>\n",
              "      <th></th>\n",
              "      <th></th>\n",
              "      <th></th>\n",
              "      <th></th>\n",
              "      <th></th>\n",
              "      <th></th>\n",
              "      <th></th>\n",
              "    </tr>\n",
              "  </thead>\n",
              "  <tbody>\n",
              "    <tr>\n",
              "      <th rowspan=\"7\" valign=\"top\">Antioquia</th>\n",
              "      <th rowspan=\"7\" valign=\"top\">Medellin</th>\n",
              "      <th rowspan=\"2\" valign=\"top\">Limnigráfica</th>\n",
              "      <th>Activa</th>\n",
              "      <td>5</td>\n",
              "      <td>5</td>\n",
              "      <td>5</td>\n",
              "      <td>5</td>\n",
              "      <td>5</td>\n",
              "      <td>5</td>\n",
              "      <td>0</td>\n",
              "    </tr>\n",
              "    <tr>\n",
              "      <th>Suspendida</th>\n",
              "      <td>6</td>\n",
              "      <td>6</td>\n",
              "      <td>6</td>\n",
              "      <td>6</td>\n",
              "      <td>6</td>\n",
              "      <td>6</td>\n",
              "      <td>6</td>\n",
              "    </tr>\n",
              "    <tr>\n",
              "      <th>Limnimétrica</th>\n",
              "      <th>Activa</th>\n",
              "      <td>1</td>\n",
              "      <td>1</td>\n",
              "      <td>1</td>\n",
              "      <td>1</td>\n",
              "      <td>1</td>\n",
              "      <td>1</td>\n",
              "      <td>0</td>\n",
              "    </tr>\n",
              "    <tr>\n",
              "      <th rowspan=\"2\" valign=\"top\">Pluviográfica</th>\n",
              "      <th>Activa</th>\n",
              "      <td>6</td>\n",
              "      <td>6</td>\n",
              "      <td>6</td>\n",
              "      <td>6</td>\n",
              "      <td>6</td>\n",
              "      <td>6</td>\n",
              "      <td>0</td>\n",
              "    </tr>\n",
              "    <tr>\n",
              "      <th>Suspendida</th>\n",
              "      <td>2</td>\n",
              "      <td>2</td>\n",
              "      <td>2</td>\n",
              "      <td>2</td>\n",
              "      <td>2</td>\n",
              "      <td>2</td>\n",
              "      <td>2</td>\n",
              "    </tr>\n",
              "    <tr>\n",
              "      <th rowspan=\"2\" valign=\"top\">Pluviométrica</th>\n",
              "      <th>Activa</th>\n",
              "      <td>1</td>\n",
              "      <td>1</td>\n",
              "      <td>1</td>\n",
              "      <td>1</td>\n",
              "      <td>1</td>\n",
              "      <td>1</td>\n",
              "      <td>0</td>\n",
              "    </tr>\n",
              "    <tr>\n",
              "      <th>Suspendida</th>\n",
              "      <td>1</td>\n",
              "      <td>1</td>\n",
              "      <td>1</td>\n",
              "      <td>1</td>\n",
              "      <td>1</td>\n",
              "      <td>1</td>\n",
              "      <td>1</td>\n",
              "    </tr>\n",
              "    <tr>\n",
              "      <th>Boyacá</th>\n",
              "      <th>Medellin</th>\n",
              "      <th>Pluviométrica</th>\n",
              "      <th>Activa</th>\n",
              "      <td>1</td>\n",
              "      <td>1</td>\n",
              "      <td>1</td>\n",
              "      <td>1</td>\n",
              "      <td>1</td>\n",
              "      <td>0</td>\n",
              "      <td>0</td>\n",
              "    </tr>\n",
              "    <tr>\n",
              "      <th>Santander</th>\n",
              "      <th>Medellin</th>\n",
              "      <th>Pluviométrica</th>\n",
              "      <th>Activa</th>\n",
              "      <td>1</td>\n",
              "      <td>1</td>\n",
              "      <td>1</td>\n",
              "      <td>1</td>\n",
              "      <td>1</td>\n",
              "      <td>0</td>\n",
              "      <td>0</td>\n",
              "    </tr>\n",
              "    <tr>\n",
              "      <th>Vichada</th>\n",
              "      <th>Medellin</th>\n",
              "      <th>Sinóptica Principal</th>\n",
              "      <th>Suspendida</th>\n",
              "      <td>1</td>\n",
              "      <td>1</td>\n",
              "      <td>1</td>\n",
              "      <td>1</td>\n",
              "      <td>1</td>\n",
              "      <td>1</td>\n",
              "      <td>1</td>\n",
              "    </tr>\n",
              "  </tbody>\n",
              "</table>\n",
              "</div>"
            ],
            "text/plain": [
              "                                                       Total  ...  Fecha_suspension\n",
              "Departamento Corriente Categoria           Estado             ...                  \n",
              "Antioquia    Medellin  Limnigráfica        Activa          5  ...                 0\n",
              "                                           Suspendida      6  ...                 6\n",
              "                       Limnimétrica        Activa          1  ...                 0\n",
              "                       Pluviográfica       Activa          6  ...                 0\n",
              "                                           Suspendida      2  ...                 2\n",
              "                       Pluviométrica       Activa          1  ...                 0\n",
              "                                           Suspendida      1  ...                 1\n",
              "Boyacá       Medellin  Pluviométrica       Activa          1  ...                 0\n",
              "Santander    Medellin  Pluviométrica       Activa          1  ...                 0\n",
              "Vichada      Medellin  Sinóptica Principal Suspendida      1  ...                 1\n",
              "\n",
              "[10 rows x 7 columns]"
            ]
          },
          "metadata": {
            "tags": []
          },
          "execution_count": 51
        }
      ]
    },
    {
      "cell_type": "markdown",
      "metadata": {
        "id": "P-4ZpnILZijf"
      },
      "source": [
        "El la corriente o rio Cali, pertenece netamente al Dpto del Valle del Cauca. Estos datos presentarón importantes errores. Este es uno de ellos. \n",
        "\n",
        "Pero, dado que la finalidad de este proyecto ha sido practicar y profundizar conceptos y temas vistos durante mi aprendizaje en DataCamp. No profundizaré o intentaré corregir dichos errores. "
      ]
    }
  ]
}